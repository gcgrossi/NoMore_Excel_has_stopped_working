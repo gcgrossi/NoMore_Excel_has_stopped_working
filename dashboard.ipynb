{
 "cells": [
  {
   "cell_type": "markdown",
   "id": "28ec8410",
   "metadata": {},
   "source": [
    "# The LUNA/BUSD Order Book 🌍🌕\n",
    "\n",
    "# 🔥🔥🔥 is on Fire! 🔥🔥🔥"
   ]
  },
  {
   "cell_type": "code",
   "execution_count": 54,
   "id": "22477df9",
   "metadata": {},
   "outputs": [],
   "source": [
    "import ipywidgets as widgets\n",
    "import pandas as pd\n",
    "from ipywidgets import Layout\n",
    "import requests\n",
    "\n",
    "tab = widgets.HTML(value=\"\")\n",
    "btn = widgets.Button(description='Run',button_style='', tooltip='Run')\n",
    "btn.style.button_color = 'lightgreen'"
   ]
  },
  {
   "cell_type": "code",
   "execution_count": 55,
   "id": "f8681015",
   "metadata": {},
   "outputs": [],
   "source": [
    "def style_pipe(df):\n",
    "    s= df.style.hide_index().hide_columns(['side'])\n",
    "\n",
    "    df_mask = df.copy(deep=True)\n",
    "    df_mask[df['side'] == 'bid'] = 'bid'\n",
    "    df_mask[df['side'] == 'ask'] = 'ask'\n",
    "\n",
    "    s.set_table_styles([\n",
    "        {'selector': 'th:not(.index_name)','props':'text-align:center; color:grey;background-color:#373737'},\n",
    "        {'selector': 'td','props':'text-align:center; background-color:#2d2d2d;font-weight:bold'},\n",
    "        {'selector':'.bid','props':'color:green'},\n",
    "        {'selector':'.ask','props':'color:red'},\n",
    "    ],overwrite=False)\n",
    "\n",
    "    s.set_td_classes(df_mask)   \n",
    "\n",
    "    idxs = df.index[df['side'] == 'bid'].tolist()\n",
    "    idx = pd.IndexSlice\n",
    "    s.bar(subset=idx[:idxs[-1],'quantity'], color='#dbeac5')\n",
    "    s.bar(subset=idx[idxs[-1]+1:,'quantity'], color='#ff9090')\n",
    "\n",
    "    return s "
   ]
  },
  {
   "cell_type": "code",
   "execution_count": 56,
   "id": "ba5ce2be",
   "metadata": {},
   "outputs": [],
   "source": [
    "hBox = widgets.HBox([btn],layout=Layout(justify_content= 'center'))\n",
    "\n",
    "\n",
    "def run_dash(b):\n",
    "    count=0\n",
    "\n",
    "    hBox.children = [tab]\n",
    "\n",
    "    while count<100:\n",
    "        #time.sleep(5)\n",
    "        r = requests.get(\"https://api.binance.com/api/v3/depth\",params=dict(symbol=\"LUNABUSD\"))\n",
    "        response = r.json()\n",
    "\n",
    "        df_bid = pd.DataFrame.from_records(response['bids'], columns=['price', 'quantity']).astype('float')\n",
    "        df_bid['side'] = 'bid'\n",
    "\n",
    "        df_ask = pd.DataFrame.from_records(response['asks'], columns=['price', 'quantity']).astype('float')\n",
    "        df_ask['side'] = 'ask'\n",
    "\n",
    "        df = pd.concat([df_bid.sort_values(by=['price'])[-5:], df_ask[:5]], ignore_index=True)\n",
    "        count=count+1\n",
    "\n",
    "        #hBox.children[1].value = style_pipe(df).to_html()\n",
    "\n",
    "        tab.value=style_pipe(df).to_html()\n",
    "    \n",
    "btn.on_click(run_dash)\n"
   ]
  },
  {
   "cell_type": "code",
   "execution_count": 57,
   "id": "e68575fa",
   "metadata": {},
   "outputs": [
    {
     "data": {
      "text/html": [
       "<style>\n",
       "    .box_style{\n",
       "        width:100%;\n",
       "        border : 0px solid red;\n",
       "        height: auto;\n",
       "        background-color:#2d2d2d;\n",
       "    }\n",
       "</style>\n"
      ],
      "text/plain": [
       "<IPython.core.display.HTML object>"
      ]
     },
     "metadata": {},
     "output_type": "display_data"
    }
   ],
   "source": [
    "%%html\n",
    "<style>\n",
    "    .box_style{\n",
    "        width:100%;\n",
    "        border : 0px solid red;\n",
    "        height: auto;\n",
    "        background-color:#2d2d2d;\n",
    "    }\n",
    "</style>"
   ]
  },
  {
   "cell_type": "code",
   "execution_count": 58,
   "id": "b4ebc5e4",
   "metadata": {},
   "outputs": [
    {
     "data": {
      "application/vnd.jupyter.widget-view+json": {
       "model_id": "6b59d094053c468f88c0de851c845eaa",
       "version_major": 2,
       "version_minor": 0
      },
      "text/plain": [
       "HBox(children=(Button(description='Run', style=ButtonStyle(button_color='lightgreen'), tooltip='Run'),), layou…"
      ]
     },
     "metadata": {},
     "output_type": "display_data"
    }
   ],
   "source": [
    "hBox.add_class(\"box_style\")\n",
    "hBox"
   ]
  }
 ],
 "metadata": {
  "interpreter": {
   "hash": "25f08c7b3fae6a7f4c1c6807d0bfb3a94540b6919ec42402396b397047eb57cb"
  },
  "kernelspec": {
   "display_name": "Python 3 (ipykernel)",
   "language": "python",
   "name": "python3"
  },
  "language_info": {
   "codemirror_mode": {
    "name": "ipython",
    "version": 3
   },
   "file_extension": ".py",
   "mimetype": "text/x-python",
   "name": "python",
   "nbconvert_exporter": "python",
   "pygments_lexer": "ipython3",
   "version": "3.9.9"
  }
 },
 "nbformat": 4,
 "nbformat_minor": 5
}
