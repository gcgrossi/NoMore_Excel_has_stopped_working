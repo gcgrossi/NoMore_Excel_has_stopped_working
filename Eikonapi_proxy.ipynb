{
 "cells": [
  {
   "cell_type": "markdown",
   "id": "28ec8410",
   "metadata": {},
   "source": [
    "# The Eikon API\n",
    "\n",
    "## Proxy connection\n",
    "\n",
    "In the previous Episodes we saw how could we obtain data from Eikon using the Python API to connect to its Terminal. We saw it was very easy and straightforward to obtain a constant stream of information or the historic data for a particular financial instrument, using an app key and the API methods.\n",
    "\n",
    "I spent a lot of nice words praising the ease of connection and the simplicity of the API’s design. The time has come to see the flip of the coin. I will introduce it by telling you a story.\n",
    "\n",
    "## How does the Python Eikon API get data and how I discovered it\n",
    "\n",
    "When I started developing applications for my job I thought that and API works always in the same way: you make a request to a remote server via some authentication keys and you get back the response from the server with the information you need. That is what I thought also when connecting to Eikon via my app key. I thought it was my key to authenticate to the Eikon server and get data. \n",
    "\n",
    "I was excited the first time I tried my connection so I quickly fired up a Jupyter Notebook to tried out my fresh app key, only to discover with my horror that the eikon proxy was throwing an error:\n",
    "\n",
    "> ```[MainThread 31936] Eikon Proxy not running or cannot be reached. Please read the documentation on troubleshooting.```\n",
    "\n",
    "I was a little bit puzzled about the error, and I was thinking that a sort of firewall was preventing me to connect. I tried to see if I had proxies on... but no, everything was ok. So I did the number one thing in the list of the debugging cookbook: Googling the error. \n",
    "I found out that there is a developers forum where you can pose questions of any kind regarding developing applications with Eikon and you can find answers to recurrent problems. You can find it [here](https://community.developers.refinitiv.com/tags/eikon.html). \n",
    "\n",
    "I also realized that the connection between your Python application and Eikon via the app key serves only to connect to your desktop terminal, that should be up and running and you should be already logged in. 😱\n",
    "\n",
    "The actual data will be requested by your Terminal and not by the Python application itself. The API is only a bridge between your python script and the Eikon desktop. What happens technically is that the Eikon desktop is running on a port on your Laptop (usually 9000 or 9060), and the Python API will make a request to that port to obtain the data. \n",
    "\n",
    "So, in the end, there is no real interaction between you (your script) and a remote server. I was shocked! 'What is the problem!' you will say. As long as you have a connection to a server you will always get your data and you will be able to write your applications. Yes this is true and I can still do it... but I have a developer's mentality and the deployment of your solution is a fundamental step in the process. \n",
    "\n",
    "## How to deploy my application that uses Python Eikon API? \n",
    "\n",
    "My first question, after having discovered the issue was: \"How can I deploy my application? can I do it on the cloud?\". Based on what we said, we always need a machine with a Eikon Desktop Terminal up and running. So, deploying the solution on a Linux virtual machine on the cloud is impossible, we need a Windows machine. Moreover, we need a machine with the Eikon Desktop installed and a valid account on it. Disappointing! 😡\n",
    "\n",
    "I had the confimation making a search in the developers community forum and I found out that I was not alone. Someone before me asked the same (or similar) question:\n",
    "\n",
    "<img src=\"images/Eikon_Proxy_Question.png\">\n",
    "\n",
    "and one of the answers:\n",
    "\n",
    "<img src=\"images/Eikon_Proxy_Answer.png\">\n",
    "\n",
    "you can follow the trend [here](https://community.developers.refinitiv.com/questions/48321/how-can-i-use-the-eikon-data-api-without-signing-i.html). Leter on, I started thinking about what would be the best solution to deploy my applications, and the only two that came in my mind were: \n",
    "1. A physical server you can connect via VNC or similar. \n",
    "2. A virtual Desktop in Microsoft Azure Client.\n",
    "\n",
    "If you have a better solution please let me know!\n",
    "\n",
    "After 3 years of work in Finance I finally realize why this diabolic connection method works in this way. Data providers firms like Bloomberg or Reuters try to exploit revenues not only from the single user, but for the single machine accessing the service. Every machine should pay a license fee, so that you cannot access the API from wherever you want, i.e. external hosts like cloud servers. \n",
    "\n",
    "This is particularly true with providers like Bloomberg, where the level of control over the IPs reaches a paranoic level. The Client usually kicks you out if the desktop goes aspleep and obliges you to re-connect, just to be sure to check your location every-day. Even with a particular subscription called 'everywhere' you recerive a device for fingerprint authentication as a next level of security. Always to be sure that is really you, and that you didn't lend your terminal to some other guy.\n",
    "\n",
    "Eventually also your Eikon Desktop will kick you out. In my case it happens during week-ends and unfortunately I have to deal with it and find a workaround for that. \n",
    "\n",
    "## How to check if the Eikon Desktop is up and running\n",
    "\n",
    "In order to deploy a robust application we should be able to check if the Desktop app is up and running. We may need this check, in particular if there is a scheduled job that runs every X time and, in example, feeds a database with some instrument past data. We don't want to trigger a job that crashes already in the first lines if the Application is not running.\n",
    "\n",
    "To do this we will use some interesting python libraries that every developer should be familiar with: os, subprocess and requests and also a simple method from the API:\n",
    "\n",
    "## ```get_port_number()```\n",
    "\n",
    "Returns the port number used to communicate with the Eikon Data API Proxy.\n",
    "\n",
    "### Structure\n",
    "\n",
    "```get_port_number()```\n",
    "\n",
    "The method returns ```None``` if the Eikon terminal is not running. \n",
    "\n",
    "The port is either 9060 or 9000. If we want to control if the proxy is running we have two possible methods: use ```get_port_number``` and check if the result is not ```None``` or send an http request to the 9060 port. \n",
    "\n",
    "I personally prefer using the method from the API, because it will avoid the hard-coding of the port number in the request, but I will still show you the two methods:\n",
    "\n",
    "### #1 Use the API method"
   ]
  },
  {
   "cell_type": "code",
   "execution_count": 2,
   "id": "9398553d",
   "metadata": {},
   "outputs": [
    {
     "name": "stdout",
     "output_type": "stream",
     "text": [
      "The Eikon proxy is up and running on port 9060\n"
     ]
    }
   ],
   "source": [
    "import eikon\n",
    "\n",
    "# connect to the eikon api\n",
    "eikon.set_app_key('07d8b517d50c495d9784b0bcad37c3f5f879e27f')\n",
    "\n",
    "# get port number to communicate\n",
    "# with the Eikon Terminal\n",
    "port = eikon.get_port_number()\n",
    "\n",
    "if port: \n",
    "    print(f'The Eikon proxy is up and running on port {port}')\n",
    "else:\n",
    "    print('It seems your Eikon Terminal is not running')\n",
    "    # take action here"
   ]
  },
  {
   "cell_type": "markdown",
   "id": "8e5f0f0d",
   "metadata": {},
   "source": [
    "### #2 making an http request \n",
    "\n",
    "We will use the python library ```requests``` and send an http request to localhost 9060 and route api/status and look at the response."
   ]
  },
  {
   "cell_type": "code",
   "execution_count": 1,
   "id": "3d44a50c",
   "metadata": {},
   "outputs": [
    {
     "name": "stdout",
     "output_type": "stream",
     "text": [
      "The Eikon proxy is up and running\n"
     ]
    }
   ],
   "source": [
    "import requests\n",
    "\n",
    "# check if eikon application is opened\n",
    "try:\n",
    "    # send a request to port 9060\n",
    "    # returns a status 'ST_PROXY_READY' if eikon application is opened\n",
    "    # throws a timeout error if the application is closed\n",
    "    request = requests.get('http://localhost:9060/api/status')\n",
    "    response = request.json()\n",
    "\n",
    "    if response['statusCode'] == 'ST_PROXY_READY': \n",
    "        print('The Eikon proxy is up and running')\n",
    "except:\n",
    "    print('It seems your Eikon Terminal is not running')\n",
    "    # take action here"
   ]
  },
  {
   "cell_type": "markdown",
   "id": "0fe986c9",
   "metadata": {},
   "source": [
    "In this case, the request throws a timeout error if the application is not running and we need to wrap our request into a try-except statement.\n",
    "\n",
    "## What to do if the Terminal is not running\n",
    "\n",
    "Notice that I left a #take action here comment if the Terminal is not running. In this case we want to do something meaningful. This can be a simple notification telling the user to switch on the application, manually. But we are python samurais ⛩, our motto is: \n",
    "\n",
    "> _no mercy for manual entry_ \n",
    "\n",
    "and we are here to try to automatize the most our application, so we will make our machine open the terminal for us. The executable to launch the terminal is usually in ```C:\\Program Files (x86)\\Thomson Reuters\\Eikon\\Eikon.exe```. Python can lanch windows shell commands via the ```subprocess``` module or launch windows executable using the module ```os```. Either of the two following commands will launch the Terminal"
   ]
  },
  {
   "cell_type": "code",
   "execution_count": 1,
   "id": "494f4503",
   "metadata": {},
   "outputs": [],
   "source": [
    "# using os startfile method to launch the Eikon Terminal\n",
    "import os\n",
    "os.startfile(\"C:\\Program Files (x86)\\Thomson Reuters\\Eikon\\Eikon.exe\")\n",
    "\n",
    "# using the subprocess check_call method to launch the Eikon Terminal\n",
    "import subprocess\n",
    "subprocess.check_call([r\"C:\\Program Files (86)\\Thomson Reuters\\Eikon\\Eikon.exe\"])"
   ]
  },
  {
   "cell_type": "markdown",
   "id": "cd62b362",
   "metadata": {},
   "source": []
  },
  {
   "cell_type": "code",
   "execution_count": 4,
   "id": "deb2ba7a",
   "metadata": {},
   "outputs": [
    {
     "ename": "FileNotFoundError",
     "evalue": "[WinError 2] Impossibile trovare il file specificato",
     "output_type": "error",
     "traceback": [
      "\u001b[1;31m---------------------------------------------------------------------------\u001b[0m",
      "\u001b[1;31mFileNotFoundError\u001b[0m                         Traceback (most recent call last)",
      "\u001b[1;32m~\\AppData\\Local\\Temp/ipykernel_13764/446044158.py\u001b[0m in \u001b[0;36m<module>\u001b[1;34m\u001b[0m\n\u001b[0;32m      1\u001b[0m \u001b[1;32mimport\u001b[0m \u001b[0msubprocess\u001b[0m\u001b[1;33m\u001b[0m\u001b[1;33m\u001b[0m\u001b[0m\n\u001b[1;32m----> 2\u001b[1;33m \u001b[0ma\u001b[0m \u001b[1;33m=\u001b[0m \u001b[0msubprocess\u001b[0m\u001b[1;33m.\u001b[0m\u001b[0mcheck_call\u001b[0m\u001b[1;33m(\u001b[0m\u001b[1;33m[\u001b[0m\u001b[1;34mr\"C:\\Program Files (x76)\\Thomson Reuters\\Eikon\\Eikon.exe\"\u001b[0m\u001b[1;33m]\u001b[0m\u001b[1;33m)\u001b[0m\u001b[1;33m\u001b[0m\u001b[1;33m\u001b[0m\u001b[0m\n\u001b[0m",
      "\u001b[1;32m~\\AppData\\Local\\Programs\\Python\\Python39\\lib\\subprocess.py\u001b[0m in \u001b[0;36mcheck_call\u001b[1;34m(*popenargs, **kwargs)\u001b[0m\n\u001b[0;32m    366\u001b[0m     \u001b[0mcheck_call\u001b[0m\u001b[1;33m(\u001b[0m\u001b[1;33m[\u001b[0m\u001b[1;34m\"ls\"\u001b[0m\u001b[1;33m,\u001b[0m \u001b[1;34m\"-l\"\u001b[0m\u001b[1;33m]\u001b[0m\u001b[1;33m)\u001b[0m\u001b[1;33m\u001b[0m\u001b[1;33m\u001b[0m\u001b[0m\n\u001b[0;32m    367\u001b[0m     \"\"\"\n\u001b[1;32m--> 368\u001b[1;33m     \u001b[0mretcode\u001b[0m \u001b[1;33m=\u001b[0m \u001b[0mcall\u001b[0m\u001b[1;33m(\u001b[0m\u001b[1;33m*\u001b[0m\u001b[0mpopenargs\u001b[0m\u001b[1;33m,\u001b[0m \u001b[1;33m**\u001b[0m\u001b[0mkwargs\u001b[0m\u001b[1;33m)\u001b[0m\u001b[1;33m\u001b[0m\u001b[1;33m\u001b[0m\u001b[0m\n\u001b[0m\u001b[0;32m    369\u001b[0m     \u001b[1;32mif\u001b[0m \u001b[0mretcode\u001b[0m\u001b[1;33m:\u001b[0m\u001b[1;33m\u001b[0m\u001b[1;33m\u001b[0m\u001b[0m\n\u001b[0;32m    370\u001b[0m         \u001b[0mcmd\u001b[0m \u001b[1;33m=\u001b[0m \u001b[0mkwargs\u001b[0m\u001b[1;33m.\u001b[0m\u001b[0mget\u001b[0m\u001b[1;33m(\u001b[0m\u001b[1;34m\"args\"\u001b[0m\u001b[1;33m)\u001b[0m\u001b[1;33m\u001b[0m\u001b[1;33m\u001b[0m\u001b[0m\n",
      "\u001b[1;32m~\\AppData\\Local\\Programs\\Python\\Python39\\lib\\subprocess.py\u001b[0m in \u001b[0;36mcall\u001b[1;34m(timeout, *popenargs, **kwargs)\u001b[0m\n\u001b[0;32m    347\u001b[0m     \u001b[0mretcode\u001b[0m \u001b[1;33m=\u001b[0m \u001b[0mcall\u001b[0m\u001b[1;33m(\u001b[0m\u001b[1;33m[\u001b[0m\u001b[1;34m\"ls\"\u001b[0m\u001b[1;33m,\u001b[0m \u001b[1;34m\"-l\"\u001b[0m\u001b[1;33m]\u001b[0m\u001b[1;33m)\u001b[0m\u001b[1;33m\u001b[0m\u001b[1;33m\u001b[0m\u001b[0m\n\u001b[0;32m    348\u001b[0m     \"\"\"\n\u001b[1;32m--> 349\u001b[1;33m     \u001b[1;32mwith\u001b[0m \u001b[0mPopen\u001b[0m\u001b[1;33m(\u001b[0m\u001b[1;33m*\u001b[0m\u001b[0mpopenargs\u001b[0m\u001b[1;33m,\u001b[0m \u001b[1;33m**\u001b[0m\u001b[0mkwargs\u001b[0m\u001b[1;33m)\u001b[0m \u001b[1;32mas\u001b[0m \u001b[0mp\u001b[0m\u001b[1;33m:\u001b[0m\u001b[1;33m\u001b[0m\u001b[1;33m\u001b[0m\u001b[0m\n\u001b[0m\u001b[0;32m    350\u001b[0m         \u001b[1;32mtry\u001b[0m\u001b[1;33m:\u001b[0m\u001b[1;33m\u001b[0m\u001b[1;33m\u001b[0m\u001b[0m\n\u001b[0;32m    351\u001b[0m             \u001b[1;32mreturn\u001b[0m \u001b[0mp\u001b[0m\u001b[1;33m.\u001b[0m\u001b[0mwait\u001b[0m\u001b[1;33m(\u001b[0m\u001b[0mtimeout\u001b[0m\u001b[1;33m=\u001b[0m\u001b[0mtimeout\u001b[0m\u001b[1;33m)\u001b[0m\u001b[1;33m\u001b[0m\u001b[1;33m\u001b[0m\u001b[0m\n",
      "\u001b[1;32m~\\AppData\\Local\\Programs\\Python\\Python39\\lib\\subprocess.py\u001b[0m in \u001b[0;36m__init__\u001b[1;34m(self, args, bufsize, executable, stdin, stdout, stderr, preexec_fn, close_fds, shell, cwd, env, universal_newlines, startupinfo, creationflags, restore_signals, start_new_session, pass_fds, user, group, extra_groups, encoding, errors, text, umask)\u001b[0m\n\u001b[0;32m    949\u001b[0m                             encoding=encoding, errors=errors)\n\u001b[0;32m    950\u001b[0m \u001b[1;33m\u001b[0m\u001b[0m\n\u001b[1;32m--> 951\u001b[1;33m             self._execute_child(args, executable, preexec_fn, close_fds,\n\u001b[0m\u001b[0;32m    952\u001b[0m                                 \u001b[0mpass_fds\u001b[0m\u001b[1;33m,\u001b[0m \u001b[0mcwd\u001b[0m\u001b[1;33m,\u001b[0m \u001b[0menv\u001b[0m\u001b[1;33m,\u001b[0m\u001b[1;33m\u001b[0m\u001b[1;33m\u001b[0m\u001b[0m\n\u001b[0;32m    953\u001b[0m                                 \u001b[0mstartupinfo\u001b[0m\u001b[1;33m,\u001b[0m \u001b[0mcreationflags\u001b[0m\u001b[1;33m,\u001b[0m \u001b[0mshell\u001b[0m\u001b[1;33m,\u001b[0m\u001b[1;33m\u001b[0m\u001b[1;33m\u001b[0m\u001b[0m\n",
      "\u001b[1;32m~\\AppData\\Local\\Programs\\Python\\Python39\\lib\\subprocess.py\u001b[0m in \u001b[0;36m_execute_child\u001b[1;34m(self, args, executable, preexec_fn, close_fds, pass_fds, cwd, env, startupinfo, creationflags, shell, p2cread, p2cwrite, c2pread, c2pwrite, errread, errwrite, unused_restore_signals, unused_gid, unused_gids, unused_uid, unused_umask, unused_start_new_session)\u001b[0m\n\u001b[0;32m   1418\u001b[0m             \u001b[1;31m# Start the process\u001b[0m\u001b[1;33m\u001b[0m\u001b[1;33m\u001b[0m\u001b[0m\n\u001b[0;32m   1419\u001b[0m             \u001b[1;32mtry\u001b[0m\u001b[1;33m:\u001b[0m\u001b[1;33m\u001b[0m\u001b[1;33m\u001b[0m\u001b[0m\n\u001b[1;32m-> 1420\u001b[1;33m                 hp, ht, pid, tid = _winapi.CreateProcess(executable, args,\n\u001b[0m\u001b[0;32m   1421\u001b[0m                                          \u001b[1;31m# no special security\u001b[0m\u001b[1;33m\u001b[0m\u001b[1;33m\u001b[0m\u001b[0m\n\u001b[0;32m   1422\u001b[0m                                          \u001b[1;32mNone\u001b[0m\u001b[1;33m,\u001b[0m \u001b[1;32mNone\u001b[0m\u001b[1;33m,\u001b[0m\u001b[1;33m\u001b[0m\u001b[1;33m\u001b[0m\u001b[0m\n",
      "\u001b[1;31mFileNotFoundError\u001b[0m: [WinError 2] Impossibile trovare il file specificato"
     ]
    }
   ],
   "source": [
    "import subprocess\n",
    "subprocess.check_call([r\"C:\\Program Files (86)\\Thomson Reuters\\Eikon\\Eikon.exe\"])"
   ]
  },
  {
   "cell_type": "markdown",
   "id": "6df3f3af",
   "metadata": {},
   "source": [
    "I used the ```strftime``` method to convert from datetime to convert from ```datetime``` to ```string```. We can now try to retrieve the actual data using those dates. Let's say we want Microsoft and Apple candles (open, close, high, low). The code will be the following:"
   ]
  },
  {
   "cell_type": "code",
   "execution_count": 4,
   "id": "6e9c722a",
   "metadata": {},
   "outputs": [
    {
     "name": "stdout",
     "output_type": "stream",
     "text": [
      "9060\n"
     ]
    }
   ],
   "source": [
    "import eikon\n",
    "\n",
    "# connect to the eikon api\n",
    "eikon.set_app_key('07d8b517d50c495d9784b0bcad37c3f5f879e27f')\n",
    "port = eikon.get_port_number()\n",
    "\n",
    "print(port)"
   ]
  },
  {
   "cell_type": "markdown",
   "id": "4dfda19b",
   "metadata": {},
   "source": [
    "Two things to notice:\n",
    "1. it is a multi-index dataframe \n",
    "2. the week-end dates are not taken into account\n",
    "\n",
    "you can access the single dataframes in this way"
   ]
  },
  {
   "cell_type": "code",
   "execution_count": 8,
   "id": "648c149d",
   "metadata": {},
   "outputs": [
    {
     "data": {
      "text/html": [
       "<div>\n",
       "<style scoped>\n",
       "    .dataframe tbody tr th:only-of-type {\n",
       "        vertical-align: middle;\n",
       "    }\n",
       "\n",
       "    .dataframe tbody tr th {\n",
       "        vertical-align: top;\n",
       "    }\n",
       "\n",
       "    .dataframe thead th {\n",
       "        text-align: right;\n",
       "    }\n",
       "</style>\n",
       "<table border=\"1\" class=\"dataframe\">\n",
       "  <thead>\n",
       "    <tr style=\"text-align: right;\">\n",
       "      <th>Field</th>\n",
       "      <th>OPEN</th>\n",
       "      <th>CLOSE</th>\n",
       "      <th>HIGH</th>\n",
       "      <th>LOW</th>\n",
       "    </tr>\n",
       "    <tr>\n",
       "      <th>Date</th>\n",
       "      <th></th>\n",
       "      <th></th>\n",
       "      <th></th>\n",
       "      <th></th>\n",
       "    </tr>\n",
       "  </thead>\n",
       "  <tbody>\n",
       "    <tr>\n",
       "      <th>2022-02-10</th>\n",
       "      <td>304.04</td>\n",
       "      <td>302.38</td>\n",
       "      <td>309.12</td>\n",
       "      <td>300.7</td>\n",
       "    </tr>\n",
       "    <tr>\n",
       "      <th>2022-02-11</th>\n",
       "      <td>303.19</td>\n",
       "      <td>295.04</td>\n",
       "      <td>304.29</td>\n",
       "      <td>294.22</td>\n",
       "    </tr>\n",
       "    <tr>\n",
       "      <th>2022-02-14</th>\n",
       "      <td>293.77</td>\n",
       "      <td>295.0</td>\n",
       "      <td>296.76</td>\n",
       "      <td>291.35</td>\n",
       "    </tr>\n",
       "    <tr>\n",
       "      <th>2022-02-15</th>\n",
       "      <td>300.008</td>\n",
       "      <td>300.47</td>\n",
       "      <td>300.8</td>\n",
       "      <td>297.02</td>\n",
       "    </tr>\n",
       "    <tr>\n",
       "      <th>2022-02-16</th>\n",
       "      <td>298.365</td>\n",
       "      <td>294.475</td>\n",
       "      <td>298.66</td>\n",
       "      <td>293.68</td>\n",
       "    </tr>\n",
       "  </tbody>\n",
       "</table>\n",
       "</div>"
      ],
      "text/plain": [
       "Field          OPEN    CLOSE    HIGH     LOW\n",
       "Date                                        \n",
       "2022-02-10   304.04   302.38  309.12   300.7\n",
       "2022-02-11   303.19   295.04  304.29  294.22\n",
       "2022-02-14   293.77    295.0  296.76  291.35\n",
       "2022-02-15  300.008   300.47   300.8  297.02\n",
       "2022-02-16  298.365  294.475  298.66  293.68"
      ]
     },
     "execution_count": 8,
     "metadata": {},
     "output_type": "execute_result"
    }
   ],
   "source": [
    "df[\"MSFT.O\"]"
   ]
  },
  {
   "cell_type": "markdown",
   "id": "54c3dc7d",
   "metadata": {},
   "source": [
    "Some other parameters may be interesting. For the interval, you can go until ```tick```"
   ]
  },
  {
   "cell_type": "code",
   "execution_count": 14,
   "id": "625f1927",
   "metadata": {},
   "outputs": [
    {
     "data": {
      "text/html": [
       "<div>\n",
       "<style scoped>\n",
       "    .dataframe tbody tr th:only-of-type {\n",
       "        vertical-align: middle;\n",
       "    }\n",
       "\n",
       "    .dataframe tbody tr th {\n",
       "        vertical-align: top;\n",
       "    }\n",
       "\n",
       "    .dataframe thead th {\n",
       "        text-align: right;\n",
       "    }\n",
       "</style>\n",
       "<table border=\"1\" class=\"dataframe\">\n",
       "  <thead>\n",
       "    <tr style=\"text-align: right;\">\n",
       "      <th>MSFT.O</th>\n",
       "      <th>VALUE</th>\n",
       "      <th>VOLUME</th>\n",
       "    </tr>\n",
       "    <tr>\n",
       "      <th>Date</th>\n",
       "      <th></th>\n",
       "      <th></th>\n",
       "    </tr>\n",
       "  </thead>\n",
       "  <tbody>\n",
       "    <tr>\n",
       "      <th>2022-02-16 15:10:35.721</th>\n",
       "      <td>294.43</td>\n",
       "      <td>100</td>\n",
       "    </tr>\n",
       "    <tr>\n",
       "      <th>2022-02-16 15:10:35.721</th>\n",
       "      <td>294.41</td>\n",
       "      <td>100</td>\n",
       "    </tr>\n",
       "    <tr>\n",
       "      <th>2022-02-16 15:10:35.721</th>\n",
       "      <td>294.4</td>\n",
       "      <td>1</td>\n",
       "    </tr>\n",
       "    <tr>\n",
       "      <th>2022-02-16 15:10:35.721</th>\n",
       "      <td>294.42</td>\n",
       "      <td>18</td>\n",
       "    </tr>\n",
       "    <tr>\n",
       "      <th>2022-02-16 15:10:35.721</th>\n",
       "      <td>294.42</td>\n",
       "      <td>15</td>\n",
       "    </tr>\n",
       "    <tr>\n",
       "      <th>...</th>\n",
       "      <td>...</td>\n",
       "      <td>...</td>\n",
       "    </tr>\n",
       "    <tr>\n",
       "      <th>2022-02-16 15:51:12.656</th>\n",
       "      <td>294.9</td>\n",
       "      <td>6</td>\n",
       "    </tr>\n",
       "    <tr>\n",
       "      <th>2022-02-16 15:51:12.656</th>\n",
       "      <td>294.9</td>\n",
       "      <td>100</td>\n",
       "    </tr>\n",
       "    <tr>\n",
       "      <th>2022-02-16 15:51:12.663</th>\n",
       "      <td>294.895</td>\n",
       "      <td>20</td>\n",
       "    </tr>\n",
       "    <tr>\n",
       "      <th>2022-02-16 15:51:12.694</th>\n",
       "      <td>294.9</td>\n",
       "      <td>2</td>\n",
       "    </tr>\n",
       "    <tr>\n",
       "      <th>2022-02-16 15:51:12.755</th>\n",
       "      <td>294.91</td>\n",
       "      <td>16</td>\n",
       "    </tr>\n",
       "  </tbody>\n",
       "</table>\n",
       "<p>50000 rows × 2 columns</p>\n",
       "</div>"
      ],
      "text/plain": [
       "MSFT.O                     VALUE  VOLUME\n",
       "Date                                    \n",
       "2022-02-16 15:10:35.721   294.43     100\n",
       "2022-02-16 15:10:35.721   294.41     100\n",
       "2022-02-16 15:10:35.721    294.4       1\n",
       "2022-02-16 15:10:35.721   294.42      18\n",
       "2022-02-16 15:10:35.721   294.42      15\n",
       "...                          ...     ...\n",
       "2022-02-16 15:51:12.656    294.9       6\n",
       "2022-02-16 15:51:12.656    294.9     100\n",
       "2022-02-16 15:51:12.663  294.895      20\n",
       "2022-02-16 15:51:12.694    294.9       2\n",
       "2022-02-16 15:51:12.755   294.91      16\n",
       "\n",
       "[50000 rows x 2 columns]"
      ]
     },
     "execution_count": 14,
     "metadata": {},
     "output_type": "execute_result"
    }
   ],
   "source": [
    "# get candle for a couple of instruments\n",
    "df = eikon.get_timeseries([\"MSFT.O\"], \n",
    "                        start_date = start_datetime,\n",
    "                        end_date = end_datetime, \n",
    "                        interval=\"tick\")\n",
    "df"
   ]
  },
  {
   "cell_type": "markdown",
   "id": "14bac856",
   "metadata": {},
   "source": [
    "For this only the VALUE and VOLUME fields are present. If you try to query for other fields you will have a DataFrame full of NAs. As you can see, you can easily rump it up to a DataFrame with 50000 rows. The query took 2.5 seconds to run!\n",
    "\n",
    "You can start playing a bit with the parameters and see what changes, just to have a feeling of how it works to retrieve the data. I promise it will be fun! 🤪\n",
    "\n",
    "For the moment we saw how to retrieve a stream of data and now you also know how to retrieve past data. Well, I think you are super ready to start building your applications. Once you have the data at hand it's already half of the job. Try to calculate something with the DataFrame you have, like total return or volatility, you will see it's very easy and satisfactory. \n",
    "\n",
    "But we're not finished yet. I would like to discuss a couple of more advanced features that you can build in Python, for example how to create a Python Class that will do the job of connecting and retrieving data with yet less effort. What to say: stay with the fellowship! 🧙‍♂️ "
   ]
  }
 ],
 "metadata": {
  "interpreter": {
   "hash": "d15395c3e962ed0203972a63e72173043ace380089a39426d8120dc144349487"
  },
  "kernelspec": {
   "display_name": "Python 3 (ipykernel)",
   "language": "python",
   "name": "python3"
  },
  "language_info": {
   "codemirror_mode": {
    "name": "ipython",
    "version": 3
   },
   "file_extension": ".py",
   "mimetype": "text/x-python",
   "name": "python",
   "nbconvert_exporter": "python",
   "pygments_lexer": "ipython3",
   "version": "3.9.9"
  }
 },
 "nbformat": 4,
 "nbformat_minor": 5
}
