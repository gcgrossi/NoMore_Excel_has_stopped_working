{
 "cells": [
  {
   "cell_type": "markdown",
   "id": "28ec8410",
   "metadata": {},
   "source": [
    "# The Eikon API\n",
    "\n",
    "# How to get a constant stream of data\n",
    "\n",
    "In the previous episode [add link] we saw how to setup your environment and getting started very quickly with Eikon API for python. In few steps we were able to generate and app key and retrieve the live quote for a couple of instruments.\n",
    "\n",
    "We saw that in order to be able to get information from the API we must know the specific codes from Eikon. Unfortunately this is one of the difficulties in programming your Python applications with Eikon, but once you experiment a little bit with the API you will quickly gain knowledge of the codes and start navigating very easily. As always happens in coding, when learning something new you should get the hands dirty first!\n",
    "\n",
    "Most of the financial applications are aimed to monitor the current market data during a period of time. In example, a trading system would want to be able to compute some indicators, run prediction models and generate trading signal in a 'live' manner. This means that there should be a calculation engine that:\n",
    "\n",
    "- runs persistenly in background.\n",
    "- fetches data.\n",
    "- manipulates them.  \n",
    "- generate trading signal.\n",
    "- act on the trading signal or send a notification.\n",
    "\n",
    "This is something that can hardly be achieved in Excel. With Excel you can, in example have a spreadsheet opened in the background that is constantly running, but the solution will end up being very inefficient, with a lot of errors and crashes. Moreover, a problem with parallelization and threading will arise. Meaning that running multiple, concurrent jobs will be almost impossible to realize. You can still try to find a workaround, by running a master job that handles opening different workbooks but I doubt you're going to be still in good mental health after building such a framework.\n",
    "\n",
    "Truth is that Excel was not made for this purpose. Python is a way better tool to handle these kind of jobs, and with the Eikon API you can create a very powerful live data processing station. Let's see how to do that. \n",
    "\n",
    "## A first naive approach\n",
    "\n",
    "We saw we can retrieve the quote for an instrument using the method ```get_data```. This will return the last quote in the memory cache of the system. Naively, if we repeat the call each x seconds we have a first way of fetching the information we need constantly.\n",
    "\n",
    "This can be achieved very easily in Python with the code below. "
   ]
  },
  {
   "cell_type": "code",
   "execution_count": 2,
   "id": "54ebfe84",
   "metadata": {},
   "outputs": [
    {
     "name": "stdout",
     "output_type": "stream",
     "text": [
      "03/02/2022 16:27:40: retrieving info\n",
      "  Instrument  CF_LAST   CF_BID\n",
      "0       .SPX   4536.6  4534.88\n",
      "1     AAPL.O    175.6   175.58\n"
     ]
    }
   ],
   "source": [
    "import eikon\n",
    "import time\n",
    "from datetime import datetime\n",
    "\n",
    "# connect to the eikon api\n",
    "eikon.set_app_key('07d8b517d50c495d9784b0bcad37c3f5f879e27f')\n",
    "\n",
    "# start infinite loop get quote\n",
    "# do something is there was no error\n",
    "while True:\n",
    "    # print current time\n",
    "    print(f'{datetime.now().strftime(\"%d/%m/%Y %H:%M:%S\")}: retrieving info')\n",
    "    \n",
    "    # get data from eikon\n",
    "    df,e = eikon.get_data(['.SPX','AAPL.O'],['CF_LAST','CF_BID'])\n",
    "    if e:\n",
    "        print(f'the following error has been produced {e}')\n",
    "        break\n",
    "    else:\n",
    "        # do what you want here \n",
    "        print(df)\n",
    "    \n",
    "    # wait ten seconds before querying again\n",
    "    time.sleep(10) \n",
    "    break\n",
    "    \n"
   ]
  },
  {
   "cell_type": "markdown",
   "id": "835b5170",
   "metadata": {},
   "source": [
    "In the code above: \n",
    "- We first setup the connection to Eikon, as we saw in the previous episodes.\n",
    "- We start a an infinite loop usinge the ```while``` clause.\n",
    "- We retrieve the information we need as usual.\n",
    "- Using the module ```time``` we wait 10 seconds before repeating the process.\n",
    "\n",
    "We can set a different value for the timeout to change the frequency as we wish. Here we put a ```break``` if the retrieval produces an error, but we can wrap any kind of logic that will stop our execution. This is the developer's choice!\n",
    "\n",
    "One remark about this procedure: it is a static procedure. Meaning that there is a fixed dead-time between the start of the loop and the sleep interval. During this dead time, if the price of the instrument changes, we will not be able to catch the change. This is not ideal for all those applications that need quick in-time responses.\n",
    "\n",
    "Ideally we would like to receive an update each time new data arrives to the server and perform our calculations asyncronously (i.e. process the data in a different/parallel thread), before receiveing new updates. Fortunately, this is achievable by using a built-in method of the Eikon API. Let's see how.\n",
    "\n",
    "# A second, more efficient, approach\n",
    "\n",
    "We will exploit a new method of the API called ```Streaming Prices```. The method is similar to ```get_data```, it accepts the same inputs (a list of instrument codes and a list of fields to retrieve) but in addition it supports event handling. This means that when a certain event happens (i.e.a new field is updated) the information contained in the event can be passed to a function and you can use is for your purposes. \n",
    "\n",
    "Let's see how this is translated in Python:\n"
   ]
  },
  {
   "cell_type": "code",
   "execution_count": 3,
   "id": "c2cd36bd",
   "metadata": {},
   "outputs": [
    {
     "name": "stdout",
     "output_type": "stream",
     "text": [
      "Update received for AAPL.O: {'BID': 175.62, 'ASK': 175.64}\n"
     ]
    },
    {
     "data": {
      "text/plain": [
       "<StreamState.Closed: 1>"
      ]
     },
     "execution_count": 3,
     "metadata": {},
     "output_type": "execute_result"
    },
    {
     "name": "stdout",
     "output_type": "stream",
     "text": [
      "Update received for AAPL.O: {'BID': 175.64, 'ASK': 175.65}\n",
      "Update received for .SPX: {'BID': 4535.64, 'ASK': 4538.9}\n",
      "Update received for AAPL.O: {'BID': 175.63, 'ASK': 175.64}\n",
      "Update received for AAPL.O: {'BID': 175.63, 'ASK': 175.64}\n"
     ]
    }
   ],
   "source": [
    "# define a callback function to print simple info\n",
    "def print_update(streaming_price, instrument_name, fields):\n",
    "    print(\"Update received for {}: {}\".format(instrument_name, fields))\n",
    "    return\n",
    "\n",
    "# define the streaming price object\n",
    "# use the callback to print the information\n",
    "streaming_prices = eikon.StreamingPrices(\n",
    "    instruments = ['.SPX', 'AAPL.O'], \n",
    "    fields = ['DSPLY_NAME', 'BID', 'ASK'],\n",
    "    on_update = lambda streaming_price, instrument_name, fields :  \n",
    "        print_update(streaming_price, instrument_name, fields)\n",
    ")\n",
    "\n",
    "# open streming\n",
    "# wait 1 second\n",
    "# close streaming\n",
    "streaming_prices.open()\n",
    "time.sleep(1)\n",
    "streaming_prices.close()"
   ]
  },
  {
   "cell_type": "markdown",
   "id": "45251ce2",
   "metadata": {},
   "source": [
    "In the code above:\n",
    "- we define a function that will print the information contained in the streming event.\n",
    "- we define a streaming price with its inputs.\n",
    "- we open the streaming, wait 1 second, and then close it.\n",
    "\n",
    "As you can see the ```instruments``` and ```fields``` inputs are the same, but here we use the ```on_update``` event to define a callback to the ```print_update``` function, that will be called every time a new data arrives and will be passed the streaming information via the ```lambda``` function. If you want to know more about the functioning of ```lambda``` you can read this small tutorial [article](https://www.w3schools.com/python/python_lambda.asp). \n",
    "\n",
    "In the end we can achieve what we wanted in the beginning, a constant stream of data the is sent to us from the server, as we like: a nice waiter that serves data ready to be consumed, while we wait at the table and brew some coffee! ☕"
   ]
  }
 ],
 "metadata": {
  "interpreter": {
   "hash": "d15395c3e962ed0203972a63e72173043ace380089a39426d8120dc144349487"
  },
  "kernelspec": {
   "display_name": "Python 3 (ipykernel)",
   "language": "python",
   "name": "python3"
  },
  "language_info": {
   "codemirror_mode": {
    "name": "ipython",
    "version": 3
   },
   "file_extension": ".py",
   "mimetype": "text/x-python",
   "name": "python",
   "nbconvert_exporter": "python",
   "pygments_lexer": "ipython3",
   "version": "3.9.9"
  }
 },
 "nbformat": 4,
 "nbformat_minor": 5
}
