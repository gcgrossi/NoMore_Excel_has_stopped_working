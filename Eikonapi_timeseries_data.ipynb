{
 "cells": [
  {
   "cell_type": "markdown",
   "id": "28ec8410",
   "metadata": {},
   "source": [
    "# The Eikon API\n",
    "\n",
    "## How to get Market past data with Python\n",
    "\n",
    "In the previous espisode we saw how could we get data from a 'live feed', the Eikon server which sends information on a constant basis. We analyzed two methodologies to accomplish our final goal. In this way we can (in example) update the valutations of the positions we hold and calculate the key metrics of our portfolio every time an updated market price is retrieved. \n",
    "\n",
    "This information is very useful if we are building a system which controls our portfolio and generates insights, information day and night. The data retrieval and calculation can run persistently in the background and we can consult it every time we want by means of a more or less complex interface: a GUI, a Dashboard or a Web App. We will discuss this aspect in detail in the section regarding presenting data.\n",
    "\n",
    "We can chose to send updates every X time, or at a give hour every day. We can even set thresholds on some key metrics, and send notifications if those limits are breached. But what about more complex metrics/indicators? \n",
    "\n",
    "Every asset manager knows that there is one piece of information that is missing and that is vital to perform more in-depht analysis: data from the past. This is a fundamental piece we need in order to be able to run practically any kind of financial application, apart from those which are purely based on the present situation of your portfolio. It is sufficient to think about 3 different, yet widely used indicators/metrics:\n",
    "\n",
    "- moving averages: a mean of past prices.\n",
    "- volatility: the standard deviation of past returns.\n",
    "- maximum drawdown: basically the maximum loss over a time span.\n",
    "\n",
    "All of them uses a series of values taken from a past time span: it can be one week, one year or a custom time frame. No matter the time, we must be able to obtain this information for our applications. This is why today's episode is based on how we can fetch past data using Eikon and its Python API.\n",
    "\n",
    "## How past data is retrieved in Excel?\n",
    "\n",
    "As we already saw in the introduction, the Eikon interface for Excel is accessible via an Excel COM Add-in during the Eikon terminal first installation and it is called Datastream. There are basically two ways of using the library:\n",
    "\n",
    "1. Browsing the interface that appears on the Ribbon.\n",
    "2. Typing formulas direcly in one cell.\n",
    "\n",
    "The first method provides and 'easy' way to find the time series you need. It's called _DFO Navigator_ and it's accessed with the button _Find Series_. Clicking the button a GUI will pop-up and you can try to find the instruments you need with some filtered searches.\n",
    "\n",
    "<img src=\"images/DSButtons.png\">\n",
    "\n",
    "I wrote easy in quotation marks because I always found the interface really legacy and hard to navigate. This is only my opinion but you can judge yourself looking at the example image below. Nowadays we are used to advanced search bars and engines and I found that this particular one would need a refresh. In the example I tried to search for the S&P500 and that is what I get as first attempt, whithout adding filters. Quite disappointing for a company that earns a quite good amount of money from their clients.\n",
    "\n",
    "<img src=\"images/DFO_Navigator.png\">\n",
    "\n",
    "Once the instrument you are searching is found, the _Time Series Request_ Button will help you create the Data request.\n",
    "\n",
    "<img src=\"images/DS_TSRequest.png\" width=\"75%\">\n",
    "\n",
    "You can directly type the code in the corresponding field or make a search for it. You can easily customize your request with a lot of options that are accessed directly on the panel, and this is a very nice feature. \n",
    "\n",
    "The result is dumped on the excel spreadsheet in the first column. If you submit more requests at the same time more columns will be filled with data.\n",
    "\n",
    "<img src=\"images/DS_TS.png\">\n",
    "\n",
    "If you pay attention to the image above, you will see that the add-in created a custom formula in the first cell: ```DSGRID```, with all the options that were specified during the manual request. Useless to say that if you know already the formula you can type it in one cell and you will still get your data. \n",
    "\n",
    "I will finish this Excel review by noticing just one thing: imagine we need to update the timeseries of all the S&P500 components: they are 500. How would you do it with this manual interface? Well, I will not answer the question because I would like you to come to the same conclusion as me: Read the next section.\n",
    "\n",
    "## How to retrieve past data in Python\n",
    "\n",
    "Let's go to the fun part now. As you probably know now, all the process saw in the previous section can be replicated using the Python Eikon API in a very similar way to what we saw for getting the live data: using a method of the API called ```get_timeseries```.\n",
    "\n",
    "Here is the description of the method\n",
    "\n",
    "### ```get_timeseries```\n",
    "\n",
    "#### Structure\n",
    "\n",
    "```get_timeseries(rics, fields='*', start_date=None, end_date=None, interval='daily', count=None, calendar=None, corax=None normalize=False, raw_output=False, debug=False)```\n",
    "\n",
    "#### Parameters\n",
    "\n",
    "| Name | Type | Description | \n",
    "|----- |----- | ----------- |\n",
    "|rics | string or list of strings | Single RIC or list of RICs to retrieve historical data for |\n",
    "|start_date | string or datetime.datetime or datetime.timedelta | Starting date and time of the historical range. The string format is ```%Y-%m-%dT%H:%M:%S```, for example, ```2016-01-20T15:04:05```. ```datetime.timedelta``` is negative number of day relative to ```datetime.now()```. The default is ```datetime.now() + timedelta(-100)```. You can use the helper function get_date_from_today.|\n",
    "|end_date | string or datetime.datetime or datetime.timedelta End date and time of the historical range. | Possible string formats: ```%Y-%m-%d```, for example, ```2017-01-20 %Y-%m-%dT%H:%M:%S```, for example, ```2017-01-20T15:04:05 datetime.timedelta``` is negative number of day relative to ```datetime.now()```. The default is ```datetime.now()```. You can use the helper function ```get_date_from_today```. |\n",
    "interval | string | Data interval. Possible values are ```tick```, ```minute```, ```hour```, ```daily```, ```weekly```, ```monthly```, ```quarterly```, ```yearly```. The default is ```daily```. |\n",
    "fields | string or list of strings | Use this parameter to filter the returned fields set. Available fields: ```TIMESTAMP```, ```VALUE```, ```VOLUME```, ```HIGH```, ```LOW```, ```OPEN```, ```CLOSE```, ```COUNT```. By default, all fields are returned. |\n",
    "count | int, optional | Maximum number of data points retrieved. |\n",
    "calendar | string, optional | Possible values: ```native```, ```tradingdays```, ```calendardays```. |\n",
    "corax | string, optional | Possible values: ```adjusted```, ```unadjusted```. |\n",
    "normalize | boolean | If set to True, the function returns a normalized data frame with the following columns: ```Date```, ```Security```, ```Field```. If the value of this parameter is ```False```, the returned data frame shape depends on the number of RICs and the number of fields in the response. There are three different shapes: One RIC and many fields, many RICs and one field, many RICs and many fields. The default is ```False```|\n",
    "raw_output | boolean | Set this parameter to ```True``` to get the data in JSON format. If set to ```False```, the function returns a data frame which shape is defined by the normalize parameter. The default is ```False```. |\n",
    "debug | bool | When set to ```True```, the JSON request and response are printed. The default is ```False```. |\n",
    "\n",
    "#### Raises\n",
    "\n",
    "**Exception**\n",
    " \n",
    "If request fails or if server returns an error.\n",
    "\n",
    "**ValueError**\n",
    "\n",
    "If a parameter type or value is wrong."
   ]
  },
  {
   "cell_type": "code",
   "execution_count": 2,
   "id": "54ebfe84",
   "metadata": {},
   "outputs": [
    {
     "name": "stdout",
     "output_type": "stream",
     "text": [
      "03/02/2022 16:27:40: retrieving info\n",
      "  Instrument  CF_LAST   CF_BID\n",
      "0       .SPX   4536.6  4534.88\n",
      "1     AAPL.O    175.6   175.58\n"
     ]
    }
   ],
   "source": [
    "import eikon\n",
    "import time\n",
    "from datetime import datetime\n",
    "\n",
    "# connect to the eikon api\n",
    "eikon.set_app_key('07d8b517d50c495d9784b0bcad37c3f5f879e27f')\n",
    "\n",
    "# start infinite loop get quote\n",
    "# do something is there was no error\n",
    "while True:\n",
    "    # print current time\n",
    "    print(f'{datetime.now().strftime(\"%d/%m/%Y %H:%M:%S\")}: retrieving info')\n",
    "    \n",
    "    # get data from eikon\n",
    "    df,e = eikon.get_data(['.SPX','AAPL.O'],['CF_LAST','CF_BID'])\n",
    "    if e:\n",
    "        print(f'the following error has been produced {e}')\n",
    "        break\n",
    "    else:\n",
    "        # do what you want here \n",
    "        print(df)\n",
    "    \n",
    "    # wait ten seconds before querying again\n",
    "    time.sleep(10) \n",
    "    break\n",
    "    \n"
   ]
  },
  {
   "cell_type": "markdown",
   "id": "835b5170",
   "metadata": {},
   "source": [
    "In the code above: \n",
    "- We first setup the connection to Eikon, as we saw in the previous episodes.\n",
    "- We start a an infinite loop usinge the ```while``` clause.\n",
    "- We retrieve the information we need as usual.\n",
    "- Using the module ```time``` we wait 10 seconds before repeating the process.\n",
    "\n",
    "We can set a different value for the timeout to change the frequency as we wish. Here we put a ```break``` if the retrieval produces an error, but we can wrap any kind of logic that will stop our execution. This is the developer's choice!\n",
    "\n",
    "One remark about this procedure: it is a static procedure. Meaning that there is a fixed dead-time between the start of the loop and the sleep interval. During this dead time, if the price of the instrument changes, we will not be able to catch the change. This is not ideal for all those applications that need quick in-time responses.\n",
    "\n",
    "Ideally we would like to receive an update each time new data arrives to the server and perform our calculations asyncronously (i.e. process the data in a different/parallel thread), before receiveing new updates. Fortunately, this is achievable by using a built-in method of the Eikon API. Let's see how.\n",
    "\n",
    "# A second, more efficient, approach\n",
    "\n",
    "We will exploit a new method of the API called ```Streaming Prices```. The method is similar to ```get_data```, it accepts the same inputs (a list of instrument codes and a list of fields to retrieve) but in addition it supports event handling. This means that when a certain event happens (i.e.a new field is updated) the information contained in the event can be passed to a function and you can use is for your purposes. \n",
    "\n",
    "Let's see how this is translated in Python:\n"
   ]
  },
  {
   "cell_type": "code",
   "execution_count": 3,
   "id": "c2cd36bd",
   "metadata": {},
   "outputs": [
    {
     "name": "stdout",
     "output_type": "stream",
     "text": [
      "Update received for AAPL.O: {'BID': 175.62, 'ASK': 175.64}\n"
     ]
    },
    {
     "data": {
      "text/plain": [
       "<StreamState.Closed: 1>"
      ]
     },
     "execution_count": 3,
     "metadata": {},
     "output_type": "execute_result"
    },
    {
     "name": "stdout",
     "output_type": "stream",
     "text": [
      "Update received for AAPL.O: {'BID': 175.64, 'ASK': 175.65}\n",
      "Update received for .SPX: {'BID': 4535.64, 'ASK': 4538.9}\n",
      "Update received for AAPL.O: {'BID': 175.63, 'ASK': 175.64}\n",
      "Update received for AAPL.O: {'BID': 175.63, 'ASK': 175.64}\n"
     ]
    }
   ],
   "source": [
    "# define a callback function to print simple info\n",
    "def print_update(streaming_price, instrument_name, fields):\n",
    "    print(\"Update received for {}: {}\".format(instrument_name, fields))\n",
    "    return\n",
    "\n",
    "# define the streaming price object\n",
    "# use the callback to print the information\n",
    "streaming_prices = eikon.StreamingPrices(\n",
    "    instruments = ['.SPX', 'AAPL.O'], \n",
    "    fields = ['DSPLY_NAME', 'BID', 'ASK'],\n",
    "    on_update = lambda streaming_price, instrument_name, fields :  \n",
    "        print_update(streaming_price, instrument_name, fields)\n",
    ")\n",
    "\n",
    "# open streming\n",
    "# wait 1 second\n",
    "# close streaming\n",
    "streaming_prices.open()\n",
    "time.sleep(1)\n",
    "streaming_prices.close()"
   ]
  },
  {
   "cell_type": "markdown",
   "id": "45251ce2",
   "metadata": {},
   "source": [
    "In the code above:\n",
    "- we define a function that will print the information contained in the streming event.\n",
    "- we define a streaming price with its inputs.\n",
    "- we open the streaming, wait 1 second, and then close it.\n",
    "\n",
    "As you can see the ```instruments``` and ```fields``` inputs are the same, but here we use the ```on_update``` event to define a callback to the ```print_update``` function, that will be called every time a new data arrives and will be passed the streaming information via the ```lambda``` function. If you want to know more about the functioning of ```lambda``` you can read this small tutorial [article](https://www.w3schools.com/python/python_lambda.asp). \n",
    "\n",
    "In the end we can achieve what we wanted in the beginning, a constant stream of data the is sent to us from the server, as we like: a nice waiter that serves data ready to be consumed, while we wait at the table and brew some coffee! ☕"
   ]
  }
 ],
 "metadata": {
  "interpreter": {
   "hash": "d15395c3e962ed0203972a63e72173043ace380089a39426d8120dc144349487"
  },
  "kernelspec": {
   "display_name": "Python 3 (ipykernel)",
   "language": "python",
   "name": "python3"
  },
  "language_info": {
   "codemirror_mode": {
    "name": "ipython",
    "version": 3
   },
   "file_extension": ".py",
   "mimetype": "text/x-python",
   "name": "python",
   "nbconvert_exporter": "python",
   "pygments_lexer": "ipython3",
   "version": "3.9.9"
  }
 },
 "nbformat": 4,
 "nbformat_minor": 5
}
