{
 "cells": [
  {
   "cell_type": "markdown",
   "id": "28ec8410",
   "metadata": {},
   "source": [
    "# The Binance API\n",
    "\n",
    "# Getting Started\n",
    "\n",
    "## Introduction\n",
    "\n",
    "Crypto is the new thing. Well, not new since it’s been sometime now that is more than this. Crypto is a reality, established and accepted by many. The more the time passes, the more cryptocurrencies are present in the portfolios of several investors, from retail to institutional. Many banks and other financial institutions have opened new crypto services, providing solutions to hold and exchange these assets. The first ETFs are popping out, and regulators are faced with the reality of incorporating cryptocurrencies into the present financial rules.\n",
    "\n",
    "In summary, I think it’s nice to dedicate a part of this guide to explaining how to get data for cryptocurrencies since most of the time the APIs are free and the Defi Exchanges providing data are well designed and extremely easy to use. \n",
    "\n",
    "I hold some crypto too, via the most famous and big exchange in the world, Binance. I have an account that you can set up for free. I also ‘discovered’ that Binance has a super well-documented API that, with relatively simple HTTP requests, lets you interact with the exchange in many ways: you can simply consult the market data or get historical market prices. You can also interact with your wallet, consult the balance, and place market orders.\n",
    "\n",
    "In other words, you can do all the things you do with your smartphone application but with the power of coding your actions and with all the benefits that come with it: automation, control, and calculation power.\n",
    "\n",
    "So here I am, trying to explain a bit how to connect this service with our favorite programming language, Python! 🐍\n",
    "\n",
    "## Basic Concepts\n",
    "\n",
    "The full documentation can be found [here](https://binance-docs.github.io/apidocs/spot/en/) and I will try to distill the main concepts for you, as well as guide you to its usage in Python.\n",
    "\n",
    "You will need my help because here comes the first thing we have to notice:\n",
    "\n",
    "**There is no official python code for the API** 😱\n",
    "\n",
    "No simple ```.get_quote()``` method to obtain your data in pandas DataFrames! This is not so tragic in the end, on the contrary! It’s a fantastic occasion to practice basic python libraries, which are the everyday food of the developer.\n",
    "\n",
    "The API must be interrogated with an HTTP request, and the response is always in JSON format, so you have the chance to practice with the requests and JSON library, as well as manipulating python dictionaries. There are a couple of things before performing our very first (and super-easy) request:\n",
    "\n",
    "- the basic URL to perform the requests is: https://api.binance.com, but there are also other fallback URLs if there are performance issues:\n",
    "    1. https://api1.binance.com\n",
    "    2. https://api2.binance.com\n",
    "    3. https://api3.binance.com\n",
    "- All endpoints return either a JSON object or array.\n",
    "- Data is returned in ascending order. Oldest first, newest last.\n",
    "- All-time and timestamp-related fields are in milliseconds.\n",
    "\n",
    "### Type of requests\n",
    "\n",
    "There are 3 different security levels, requiring authentication depending on the type of endpoint we are querying. \n",
    "\n",
    "1. **Free Endpoints**: marked as Security Type ```NONE``` they do not require any kind of authentication.\n",
    "2. **API key Endpoints**: marked as Security type ```USER_STREAM``` or ```MARKET_DATA``` they require the creation of an API key from your Binance account. So yes, you need to open a Binance account to retrieve the data!\n",
    "3. **API key + Signed Endpoints**: marked as Security type ```TRADE``` or ```MARGIN``` or ```USER_DATA``` they require both an API key and a cryptographic signature to be sent with the request. As you can see, they allow to consult personal information and doing actual trading so they need the highest possible security. \n",
    "\n",
    "All of this said we can start playing a little bit with the API using the free endpoints before moving to more advanced features, just to have a feeling of how to work with this API.\n",
    "\n",
    "## Ping the Server\n",
    "\n",
    "we can ping the server to see if it's up or to test the connectivity speed."
   ]
  },
  {
   "cell_type": "code",
   "execution_count": 2,
   "id": "9398553d",
   "metadata": {},
   "outputs": [
    {
     "name": "stdout",
     "output_type": "stream",
     "text": [
      "this is the response {} in 0.29949188232421875 seconds\n"
     ]
    }
   ],
   "source": [
    "import requests\n",
    "from datetime import datetime\n",
    "import time\n",
    "\n",
    "# let's see how much time we spend $\n",
    "# to get data from server\n",
    "t1=time.time()\n",
    "\n",
    "# ping the api\n",
    "# response is an empy dictionary\n",
    "response = requests.get(\"https://api.binance.com/api/v3/ping\")\n",
    "\n",
    "# let's print the time \n",
    "# difference together with the response\n",
    "tdelta=time.time()-t1\n",
    "print(f'this is the response {response.json()} in {tdelta} seconds')"
   ]
  },
  {
   "cell_type": "markdown",
   "id": "70e1b768",
   "metadata": {},
   "source": [
    "As you can see the whole snippet run in 0.29 seconds. The ```ping``` endpoint returns an empty dictionary.\n",
    "\n",
    "## Get the server time\n",
    "\n",
    "In a very similar fashion, using the ```time``` endpoint we can obtain the time of the server. "
   ]
  },
  {
   "cell_type": "code",
   "execution_count": 3,
   "id": "3bd3fa25",
   "metadata": {},
   "outputs": [
    {
     "name": "stdout",
     "output_type": "stream",
     "text": [
      "{'serverTime': 1651239589198}\n",
      "The server time is: 2022-04-29 15:39:49\n"
     ]
    }
   ],
   "source": [
    "# get the time of the server\n",
    "response = requests.get(\"https://api.binance.com/api/v3/time\")\n",
    "print(response.json())\n",
    "\n",
    "# server time is in milliseconds, fromtimestamps expects\n",
    "# seconds: divide it by 1000 to get seconds.\n",
    "server_timestamp = response.json().get('serverTime')\n",
    "server_time = datetime.fromtimestamp(int(server_timestamp/1000))\n",
    "print(f\"The server time is: {server_time}\")"
   ]
  },
  {
   "cell_type": "markdown",
   "id": "80095c39",
   "metadata": {},
   "source": [
    "Here we have a non-empty response with key 'serverTime'. We need a bit of manipulation to convert the time from milliseconds -> seconds and from timestamp -> datetime, but everything is really straightforward. "
   ]
  },
  {
   "cell_type": "markdown",
   "id": "eebe6195",
   "metadata": {},
   "source": [
    "## Requests that require one or more symbols\n",
    "\n",
    "There are some kind of requests that requires the specification of one or more symbols, for example, the couple \"ETHBTC\" if you want to know the information regarding the price of ETH expressed in BTC. In this case, the request must be formulated by adding the symbol/symbols option in the request body. With the request library, you can do this in two ways. Let's see an example with the 24h price change:\n",
    "\n",
    "### 24h price change with only one symbol\n",
    "\n",
    "you can pass the symbol directly in the request string adding ?symbol=<symbol_name> string at the end, or you can pass to requests a parameter dictionary with all the options you want to specify and requests will construct the string for you. In the example below I retrieve the information for the couple BNBUSDT and print the information obtained."
   ]
  },
  {
   "cell_type": "code",
   "execution_count": 4,
   "id": "dc275ccf",
   "metadata": {},
   "outputs": [
    {
     "name": "stdout",
     "output_type": "stream",
     "text": [
      "{\n",
      "  \"symbol\": \"BNBUSDT\",\n",
      "  \"priceChange\": \"-4.50000000\",\n",
      "  \"priceChangePercent\": \"-1.118\",\n",
      "  \"weightedAvgPrice\": \"402.88287732\",\n",
      "  \"prevClosePrice\": \"402.40000000\",\n",
      "  \"lastPrice\": \"397.90000000\",\n",
      "  \"lastQty\": \"0.02500000\",\n",
      "  \"bidPrice\": \"397.80000000\",\n",
      "  \"bidQty\": \"85.29500000\",\n",
      "  \"askPrice\": \"397.90000000\",\n",
      "  \"askQty\": \"361.25800000\",\n",
      "  \"openPrice\": \"402.40000000\",\n",
      "  \"highPrice\": \"410.70000000\",\n",
      "  \"lowPrice\": \"393.20000000\",\n",
      "  \"volume\": \"841410.78900000\",\n",
      "  \"quoteVolume\": \"338989999.68090000\",\n",
      "  \"openTime\": 1651153189790,\n",
      "  \"closeTime\": 1651239589790,\n",
      "  \"firstId\": 541760795,\n",
      "  \"lastId\": 542155887,\n",
      "  \"count\": 395093\n",
      "}\n"
     ]
    }
   ],
   "source": [
    "import json\n",
    "\n",
    "# get ticker of a particular symbol\n",
    "# you can do either this\n",
    "response = requests.get(\"https://api.binance.com/api/v3/ticker/24hr?symbol=BNBUSDT\")\n",
    "# or this (to avoid long strings)\n",
    "params = dict(symbol=\"BNBUSDT\")\n",
    "response = requests.get(\"https://api.binance.com/api/v3/ticker/24hr\",params=params)\n",
    "\n",
    "print(json.dumps(response.json(), indent=2))\n"
   ]
  },
  {
   "cell_type": "markdown",
   "id": "5c7a4bfe",
   "metadata": {},
   "source": [
    "### 24h price change with more than one symbol\n",
    "\n",
    "Similarly you can retrieve the price change for more the one symbol. You only have to pass a list of symbols to the request. The example below will clarify the point."
   ]
  },
  {
   "cell_type": "code",
   "execution_count": 5,
   "id": "9c8ae14c",
   "metadata": {},
   "outputs": [
    {
     "name": "stdout",
     "output_type": "stream",
     "text": [
      "[\n",
      "  {\n",
      "    \"symbol\": \"BNBBTC\",\n",
      "    \"priceChange\": \"-0.00005000\",\n",
      "    \"priceChangePercent\": \"-0.489\",\n",
      "    \"weightedAvgPrice\": \"0.01019562\",\n",
      "    \"prevClosePrice\": \"0.01021600\",\n",
      "    \"lastPrice\": \"0.01016600\",\n",
      "    \"lastQty\": \"0.06800000\",\n",
      "    \"bidPrice\": \"0.01016600\",\n",
      "    \"bidQty\": \"41.93000000\",\n",
      "    \"askPrice\": \"0.01016700\",\n",
      "    \"askQty\": \"5.80200000\",\n",
      "    \"openPrice\": \"0.01021600\",\n",
      "    \"highPrice\": \"0.01029300\",\n",
      "    \"lowPrice\": \"0.01008000\",\n",
      "    \"volume\": \"108508.44100000\",\n",
      "    \"quoteVolume\": \"1106.31076373\",\n",
      "    \"openTime\": 1651153190018,\n",
      "    \"closeTime\": 1651239590018,\n",
      "    \"firstId\": 183934968,\n",
      "    \"lastId\": 184010070,\n",
      "    \"count\": 75103\n",
      "  },\n",
      "  {\n",
      "    \"symbol\": \"BTCUSDT\",\n",
      "    \"priceChange\": \"-259.96000000\",\n",
      "    \"priceChangePercent\": \"-0.660\",\n",
      "    \"weightedAvgPrice\": \"39536.34690122\",\n",
      "    \"prevClosePrice\": \"39388.97000000\",\n",
      "    \"lastPrice\": \"39129.01000000\",\n",
      "    \"lastQty\": \"0.47204000\",\n",
      "    \"bidPrice\": \"39129.01000000\",\n",
      "    \"bidQty\": \"5.23357000\",\n",
      "    \"askPrice\": \"39129.02000000\",\n",
      "    \"askQty\": \"1.72000000\",\n",
      "    \"openPrice\": \"39388.97000000\",\n",
      "    \"highPrice\": \"40372.63000000\",\n",
      "    \"lowPrice\": \"38616.46000000\",\n",
      "    \"volume\": \"59080.46958000\",\n",
      "    \"quoteVolume\": \"2335825940.40213200\",\n",
      "    \"openTime\": 1651153190435,\n",
      "    \"closeTime\": 1651239590435,\n",
      "    \"firstId\": 1339594404,\n",
      "    \"lastId\": 1340872364,\n",
      "    \"count\": 1277961\n",
      "  }\n",
      "]\n"
     ]
    }
   ],
   "source": [
    "# get the info of a list of symbols\n",
    "response = requests.get('https://api.binance.com/api/v3/ticker/24hr?symbols=[\"BNBBTC\",\"BTCUSDT\"]')\n",
    "\n",
    "# or this (to avoid long strings)\n",
    "params = dict(symbols='[\"BNBBTC\",\"BTCUSDT\"]')\n",
    "response = requests.get(\"https://api.binance.com/api/v3/ticker/24hr\",params=params)\n",
    "\n",
    "print(json.dumps(response.json(), indent=2))\n"
   ]
  },
  {
   "cell_type": "markdown",
   "id": "bed16e86",
   "metadata": {},
   "source": [
    "There is a lot of output but, as you can see, you retrieve a list of dictionaries, one dictionary for each symbol you specified.\n",
    "\n",
    "## Conclusion\n",
    "\n",
    "I like this API. Easy to use, minimalist, rich in information. I still have to practice a bit with it to form a well defined idea but for the moment I passed good times trying to retrieve data from this crypto exchange. \n",
    "\n",
    "Let's see if we can do more in the next episodes. But for the moment stay anchored to this block of posts! Cheers."
   ]
  }
 ],
 "metadata": {
  "interpreter": {
   "hash": "d15395c3e962ed0203972a63e72173043ace380089a39426d8120dc144349487"
  },
  "kernelspec": {
   "display_name": "Python 3 (ipykernel)",
   "language": "python",
   "name": "python3"
  },
  "language_info": {
   "codemirror_mode": {
    "name": "ipython",
    "version": 3
   },
   "file_extension": ".py",
   "mimetype": "text/x-python",
   "name": "python",
   "nbconvert_exporter": "python",
   "pygments_lexer": "ipython3",
   "version": "3.9.9"
  }
 },
 "nbformat": 4,
 "nbformat_minor": 5
}
