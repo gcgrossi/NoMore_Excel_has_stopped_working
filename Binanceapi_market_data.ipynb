{
 "cells": [
  {
   "cell_type": "markdown",
   "id": "28ec8410",
   "metadata": {},
   "source": [
    "# The Binance API\n",
    "\n",
    "## Introduction\n"
   ]
  },
  {
   "cell_type": "code",
   "execution_count": 48,
   "id": "dc275ccf",
   "metadata": {},
   "outputs": [],
   "source": [
    "import json\n",
    "import requests\n",
    "\n",
    "params = dict(symbol=\"ETHBUSD\")\n",
    "r = requests.get(\"https://api.binance.com/api/v3/depth\",params=dict(symbol=\"AXSUSDT\"))\n",
    "\n",
    "response = r.json()\n"
   ]
  },
  {
   "cell_type": "code",
   "execution_count": 49,
   "id": "ba5ce2be",
   "metadata": {},
   "outputs": [
    {
     "data": {
      "text/html": [
       "<div>\n",
       "<style scoped>\n",
       "    .dataframe tbody tr th:only-of-type {\n",
       "        vertical-align: middle;\n",
       "    }\n",
       "\n",
       "    .dataframe tbody tr th {\n",
       "        vertical-align: top;\n",
       "    }\n",
       "\n",
       "    .dataframe thead th {\n",
       "        text-align: right;\n",
       "    }\n",
       "</style>\n",
       "<table border=\"1\" class=\"dataframe\">\n",
       "  <thead>\n",
       "    <tr style=\"text-align: right;\">\n",
       "      <th></th>\n",
       "      <th>price</th>\n",
       "      <th>quantity</th>\n",
       "      <th>side</th>\n",
       "    </tr>\n",
       "  </thead>\n",
       "  <tbody>\n",
       "    <tr>\n",
       "      <th>0</th>\n",
       "      <td>34.99</td>\n",
       "      <td>41.00</td>\n",
       "      <td>bid</td>\n",
       "    </tr>\n",
       "    <tr>\n",
       "      <th>1</th>\n",
       "      <td>34.98</td>\n",
       "      <td>82.41</td>\n",
       "      <td>bid</td>\n",
       "    </tr>\n",
       "    <tr>\n",
       "      <th>2</th>\n",
       "      <td>34.97</td>\n",
       "      <td>106.31</td>\n",
       "      <td>bid</td>\n",
       "    </tr>\n",
       "    <tr>\n",
       "      <th>3</th>\n",
       "      <td>34.96</td>\n",
       "      <td>154.85</td>\n",
       "      <td>bid</td>\n",
       "    </tr>\n",
       "    <tr>\n",
       "      <th>4</th>\n",
       "      <td>34.95</td>\n",
       "      <td>114.16</td>\n",
       "      <td>bid</td>\n",
       "    </tr>\n",
       "    <tr>\n",
       "      <th>...</th>\n",
       "      <td>...</td>\n",
       "      <td>...</td>\n",
       "      <td>...</td>\n",
       "    </tr>\n",
       "    <tr>\n",
       "      <th>195</th>\n",
       "      <td>36.09</td>\n",
       "      <td>36.89</td>\n",
       "      <td>ask</td>\n",
       "    </tr>\n",
       "    <tr>\n",
       "      <th>196</th>\n",
       "      <td>36.10</td>\n",
       "      <td>44.34</td>\n",
       "      <td>ask</td>\n",
       "    </tr>\n",
       "    <tr>\n",
       "      <th>197</th>\n",
       "      <td>36.11</td>\n",
       "      <td>5.37</td>\n",
       "      <td>ask</td>\n",
       "    </tr>\n",
       "    <tr>\n",
       "      <th>198</th>\n",
       "      <td>36.12</td>\n",
       "      <td>0.57</td>\n",
       "      <td>ask</td>\n",
       "    </tr>\n",
       "    <tr>\n",
       "      <th>199</th>\n",
       "      <td>36.15</td>\n",
       "      <td>28.25</td>\n",
       "      <td>ask</td>\n",
       "    </tr>\n",
       "  </tbody>\n",
       "</table>\n",
       "<p>200 rows × 3 columns</p>\n",
       "</div>"
      ],
      "text/plain": [
       "     price  quantity side\n",
       "0    34.99     41.00  bid\n",
       "1    34.98     82.41  bid\n",
       "2    34.97    106.31  bid\n",
       "3    34.96    154.85  bid\n",
       "4    34.95    114.16  bid\n",
       "..     ...       ...  ...\n",
       "195  36.09     36.89  ask\n",
       "196  36.10     44.34  ask\n",
       "197  36.11      5.37  ask\n",
       "198  36.12      0.57  ask\n",
       "199  36.15     28.25  ask\n",
       "\n",
       "[200 rows x 3 columns]"
      ]
     },
     "execution_count": 49,
     "metadata": {},
     "output_type": "execute_result"
    }
   ],
   "source": [
    "import pandas as pd\n",
    "\n",
    "df_bid = pd.DataFrame.from_records(response['bids'], columns=['price', 'quantity']).astype('float')\n",
    "df_bid['side'] = 'bid'\n",
    "\n",
    "df_ask = pd.DataFrame.from_records(response['asks'], columns=['price', 'quantity']).astype('float')\n",
    "df_ask['side'] = 'ask'\n",
    "\n",
    "df = pd.concat([df_bid, df_ask], ignore_index=True)\n",
    "df\n"
   ]
  },
  {
   "cell_type": "code",
   "execution_count": 50,
   "id": "770dfd8a",
   "metadata": {},
   "outputs": [
    {
     "data": {
      "text/html": [
       "<div>\n",
       "<style scoped>\n",
       "    .dataframe tbody tr th:only-of-type {\n",
       "        vertical-align: middle;\n",
       "    }\n",
       "\n",
       "    .dataframe tbody tr th {\n",
       "        vertical-align: top;\n",
       "    }\n",
       "\n",
       "    .dataframe thead tr th {\n",
       "        text-align: left;\n",
       "    }\n",
       "\n",
       "    .dataframe thead tr:last-of-type th {\n",
       "        text-align: right;\n",
       "    }\n",
       "</style>\n",
       "<table border=\"1\" class=\"dataframe\">\n",
       "  <thead>\n",
       "    <tr>\n",
       "      <th></th>\n",
       "      <th colspan=\"8\" halign=\"left\">price</th>\n",
       "      <th colspan=\"8\" halign=\"left\">quantity</th>\n",
       "    </tr>\n",
       "    <tr>\n",
       "      <th></th>\n",
       "      <th>count</th>\n",
       "      <th>mean</th>\n",
       "      <th>std</th>\n",
       "      <th>min</th>\n",
       "      <th>25%</th>\n",
       "      <th>50%</th>\n",
       "      <th>75%</th>\n",
       "      <th>max</th>\n",
       "      <th>count</th>\n",
       "      <th>mean</th>\n",
       "      <th>std</th>\n",
       "      <th>min</th>\n",
       "      <th>25%</th>\n",
       "      <th>50%</th>\n",
       "      <th>75%</th>\n",
       "      <th>max</th>\n",
       "    </tr>\n",
       "    <tr>\n",
       "      <th>side</th>\n",
       "      <th></th>\n",
       "      <th></th>\n",
       "      <th></th>\n",
       "      <th></th>\n",
       "      <th></th>\n",
       "      <th></th>\n",
       "      <th></th>\n",
       "      <th></th>\n",
       "      <th></th>\n",
       "      <th></th>\n",
       "      <th></th>\n",
       "      <th></th>\n",
       "      <th></th>\n",
       "      <th></th>\n",
       "      <th></th>\n",
       "      <th></th>\n",
       "    </tr>\n",
       "  </thead>\n",
       "  <tbody>\n",
       "    <tr>\n",
       "      <th>ask</th>\n",
       "      <td>100.0</td>\n",
       "      <td>35.5537</td>\n",
       "      <td>0.342848</td>\n",
       "      <td>35.00</td>\n",
       "      <td>35.2475</td>\n",
       "      <td>35.555</td>\n",
       "      <td>35.8650</td>\n",
       "      <td>36.15</td>\n",
       "      <td>100.0</td>\n",
       "      <td>127.3385</td>\n",
       "      <td>344.796789</td>\n",
       "      <td>0.28</td>\n",
       "      <td>1.3700</td>\n",
       "      <td>3.980</td>\n",
       "      <td>73.725</td>\n",
       "      <td>2134.12</td>\n",
       "    </tr>\n",
       "    <tr>\n",
       "      <th>bid</th>\n",
       "      <td>100.0</td>\n",
       "      <td>34.4925</td>\n",
       "      <td>0.293479</td>\n",
       "      <td>33.98</td>\n",
       "      <td>34.2475</td>\n",
       "      <td>34.495</td>\n",
       "      <td>34.7425</td>\n",
       "      <td>34.99</td>\n",
       "      <td>100.0</td>\n",
       "      <td>246.3907</td>\n",
       "      <td>616.338343</td>\n",
       "      <td>0.29</td>\n",
       "      <td>19.3375</td>\n",
       "      <td>63.855</td>\n",
       "      <td>173.175</td>\n",
       "      <td>3656.19</td>\n",
       "    </tr>\n",
       "  </tbody>\n",
       "</table>\n",
       "</div>"
      ],
      "text/plain": [
       "      price                                                             \\\n",
       "      count     mean       std    min      25%     50%      75%    max   \n",
       "side                                                                     \n",
       "ask   100.0  35.5537  0.342848  35.00  35.2475  35.555  35.8650  36.15   \n",
       "bid   100.0  34.4925  0.293479  33.98  34.2475  34.495  34.7425  34.99   \n",
       "\n",
       "     quantity                                                                 \n",
       "        count      mean         std   min      25%     50%      75%      max  \n",
       "side                                                                          \n",
       "ask     100.0  127.3385  344.796789  0.28   1.3700   3.980   73.725  2134.12  \n",
       "bid     100.0  246.3907  616.338343  0.29  19.3375  63.855  173.175  3656.19  "
      ]
     },
     "execution_count": 50,
     "metadata": {},
     "output_type": "execute_result"
    }
   ],
   "source": [
    "df.groupby('side').describe()"
   ]
  },
  {
   "cell_type": "code",
   "execution_count": 51,
   "id": "a165a9e7",
   "metadata": {},
   "outputs": [
    {
     "data": {
      "application/vnd.plotly.v1+json": {
       "config": {
        "plotlyServerURL": "https://plot.ly"
       },
       "data": [
        {
         "hovertemplate": "side=bid<br>price=%{x}<br>quantity=%{marker.size}<extra></extra>",
         "legendgroup": "bid",
         "marker": {
          "color": "#636efa",
          "size": [
           41,
           82.41,
           106.31,
           154.85,
           114.16,
           176.55,
           245.49,
           141.68,
           312.7,
           488.68,
           283.68,
           274.46,
           639.34,
           28.77,
           121.08,
           10.33,
           176.67,
           53.86,
           151.36,
           82.85,
           2.44,
           1338.24,
           1652.97,
           0.29,
           63.28,
           75.84,
           15.79,
           198.41,
           181.52,
           35.7,
           172.05,
           2694.07,
           1759.6,
           90.78,
           312.26,
           3.83,
           67.3,
           41.7,
           134.82,
           126.22,
           27.68,
           3544.31,
           8.11,
           67.47,
           6.86,
           116.01,
           31.38,
           131.49,
           8.65,
           356.32,
           292.48,
           75.74,
           375.85,
           2.87,
           135.26,
           39.29,
           95.29,
           13.62,
           5.61,
           36.79,
           23.3,
           37.19,
           22.67,
           7.57,
           4.3,
           44.55,
           125.53,
           48.68,
           57.45,
           311.53,
           3656.19,
           2.74,
           30.03,
           191.52,
           6.13,
           8.09,
           33.01,
           36.85,
           41.02,
           1.73,
           59.16,
           23.03,
           4.23,
           3.13,
           15.52,
           10.34,
           5.09,
           20.52,
           64.43,
           1.89,
           101.96,
           3.54,
           0.94,
           54.37,
           26.74,
           215.89,
           107.09,
           77.61,
           834.8,
           294.29
          ],
          "sizemode": "area",
          "sizeref": 9.140475,
          "symbol": "circle"
         },
         "mode": "markers",
         "name": "bid",
         "orientation": "v",
         "showlegend": true,
         "type": "scatter",
         "x": [
          34.99,
          34.98,
          34.97,
          34.96,
          34.95,
          34.94,
          34.93,
          34.92,
          34.91,
          34.9,
          34.89,
          34.88,
          34.87,
          34.86,
          34.85,
          34.84,
          34.83,
          34.82,
          34.81,
          34.8,
          34.79,
          34.78,
          34.77,
          34.76,
          34.75,
          34.74,
          34.73,
          34.72,
          34.71,
          34.7,
          34.69,
          34.68,
          34.67,
          34.66,
          34.65,
          34.64,
          34.63,
          34.62,
          34.61,
          34.6,
          34.59,
          34.58,
          34.57,
          34.56,
          34.55,
          34.54,
          34.53,
          34.52,
          34.51,
          34.5,
          34.49,
          34.48,
          34.47,
          34.46,
          34.45,
          34.44,
          34.43,
          34.42,
          34.41,
          34.4,
          34.39,
          34.38,
          34.37,
          34.36,
          34.35,
          34.34,
          34.33,
          34.32,
          34.31,
          34.3,
          34.29,
          34.28,
          34.27,
          34.26,
          34.25,
          34.24,
          34.22,
          34.21,
          34.2,
          34.19,
          34.18,
          34.17,
          34.16,
          34.15,
          34.14,
          34.13,
          34.12,
          34.11,
          34.1,
          34.09,
          34.08,
          34.07,
          34.06,
          34.05,
          34.04,
          34.03,
          34.02,
          34.01,
          34,
          33.98
         ],
         "xaxis": "x",
         "y": [
          41,
          82.41,
          106.31,
          154.85,
          114.16,
          176.55,
          245.49,
          141.68,
          312.7,
          488.68,
          283.68,
          274.46,
          639.34,
          28.77,
          121.08,
          10.33,
          176.67,
          53.86,
          151.36,
          82.85,
          2.44,
          1338.24,
          1652.97,
          0.29,
          63.28,
          75.84,
          15.79,
          198.41,
          181.52,
          35.7,
          172.05,
          2694.07,
          1759.6,
          90.78,
          312.26,
          3.83,
          67.3,
          41.7,
          134.82,
          126.22,
          27.68,
          3544.31,
          8.11,
          67.47,
          6.86,
          116.01,
          31.38,
          131.49,
          8.65,
          356.32,
          292.48,
          75.74,
          375.85,
          2.87,
          135.26,
          39.29,
          95.29,
          13.62,
          5.61,
          36.79,
          23.3,
          37.19,
          22.67,
          7.57,
          4.3,
          44.55,
          125.53,
          48.68,
          57.45,
          311.53,
          3656.19,
          2.74,
          30.03,
          191.52,
          6.13,
          8.09,
          33.01,
          36.85,
          41.02,
          1.73,
          59.16,
          23.03,
          4.23,
          3.13,
          15.52,
          10.34,
          5.09,
          20.52,
          64.43,
          1.89,
          101.96,
          3.54,
          0.94,
          54.37,
          26.74,
          215.89,
          107.09,
          77.61,
          834.8,
          294.29
         ],
         "yaxis": "y"
        },
        {
         "hovertemplate": "side=ask<br>price=%{x}<br>quantity=%{marker.size}<extra></extra>",
         "legendgroup": "ask",
         "marker": {
          "color": "#EF553B",
          "size": [
           73.62,
           151.76,
           387.27,
           300.42,
           354.16,
           367.47,
           305.29,
           451.44,
           266.95,
           123.16,
           71.9,
           226.61,
           73.07,
           119.34,
           20.63,
           682.87,
           1659.14,
           1.39,
           110.93,
           37.48,
           1846.79,
           1.5,
           1.39,
           2134.12,
           32.8,
           5.18,
           512.69,
           303.8,
           724,
           0.29,
           99.34,
           9.74,
           18.36,
           2.3,
           0.57,
           1.56,
           501.57,
           3.89,
           0.29,
           0.6,
           31.24,
           32.37,
           0.43,
           3.85,
           0.57,
           86.91,
           1.39,
           1.28,
           2.9,
           0.29,
           0.37,
           0.29,
           1.87,
           0.52,
           2.95,
           3.69,
           0.63,
           0.29,
           3.99,
           3.56,
           0.86,
           0.3,
           5.52,
           0.34,
           1.13,
           1.99,
           4.07,
           1.34,
           2.05,
           11.04,
           9.91,
           7.6,
           3.05,
           9.14,
           2.23,
           0.79,
           3.07,
           0.28,
           0.29,
           3.92,
           1.98,
           4.25,
           2.53,
           4,
           1.38,
           0.34,
           5.29,
           74.04,
           0.55,
           0.34,
           103.3,
           176.84,
           3.67,
           3.97,
           1.96,
           36.89,
           44.34,
           5.37,
           0.57,
           28.25
          ],
          "sizemode": "area",
          "sizeref": 9.140475,
          "symbol": "circle"
         },
         "mode": "markers",
         "name": "ask",
         "orientation": "v",
         "showlegend": true,
         "type": "scatter",
         "x": [
          35,
          35.01,
          35.02,
          35.03,
          35.04,
          35.05,
          35.06,
          35.07,
          35.08,
          35.09,
          35.1,
          35.11,
          35.12,
          35.13,
          35.14,
          35.15,
          35.16,
          35.17,
          35.18,
          35.19,
          35.2,
          35.21,
          35.22,
          35.23,
          35.24,
          35.25,
          35.26,
          35.27,
          35.28,
          35.29,
          35.3,
          35.31,
          35.32,
          35.33,
          35.34,
          35.35,
          35.37,
          35.39,
          35.41,
          35.42,
          35.43,
          35.44,
          35.47,
          35.48,
          35.49,
          35.5,
          35.51,
          35.52,
          35.54,
          35.55,
          35.56,
          35.57,
          35.58,
          35.59,
          35.6,
          35.61,
          35.62,
          35.63,
          35.65,
          35.66,
          35.67,
          35.68,
          35.69,
          35.7,
          35.72,
          35.73,
          35.74,
          35.75,
          35.77,
          35.79,
          35.8,
          35.81,
          35.83,
          35.85,
          35.86,
          35.88,
          35.89,
          35.9,
          35.91,
          35.92,
          35.93,
          35.94,
          35.95,
          35.96,
          35.97,
          35.98,
          35.99,
          36,
          36.01,
          36.02,
          36.03,
          36.04,
          36.05,
          36.07,
          36.08,
          36.09,
          36.1,
          36.11,
          36.12,
          36.15
         ],
         "xaxis": "x",
         "y": [
          73.62,
          151.76,
          387.27,
          300.42,
          354.16,
          367.47,
          305.29,
          451.44,
          266.95,
          123.16,
          71.9,
          226.61,
          73.07,
          119.34,
          20.63,
          682.87,
          1659.14,
          1.39,
          110.93,
          37.48,
          1846.79,
          1.5,
          1.39,
          2134.12,
          32.8,
          5.18,
          512.69,
          303.8,
          724,
          0.29,
          99.34,
          9.74,
          18.36,
          2.3,
          0.57,
          1.56,
          501.57,
          3.89,
          0.29,
          0.6,
          31.24,
          32.37,
          0.43,
          3.85,
          0.57,
          86.91,
          1.39,
          1.28,
          2.9,
          0.29,
          0.37,
          0.29,
          1.87,
          0.52,
          2.95,
          3.69,
          0.63,
          0.29,
          3.99,
          3.56,
          0.86,
          0.3,
          5.52,
          0.34,
          1.13,
          1.99,
          4.07,
          1.34,
          2.05,
          11.04,
          9.91,
          7.6,
          3.05,
          9.14,
          2.23,
          0.79,
          3.07,
          0.28,
          0.29,
          3.92,
          1.98,
          4.25,
          2.53,
          4,
          1.38,
          0.34,
          5.29,
          74.04,
          0.55,
          0.34,
          103.3,
          176.84,
          3.67,
          3.97,
          1.96,
          36.89,
          44.34,
          5.37,
          0.57,
          28.25
         ],
         "yaxis": "y"
        }
       ],
       "layout": {
        "legend": {
         "itemsizing": "constant",
         "title": {
          "text": "side"
         },
         "tracegroupgap": 0
        },
        "margin": {
         "t": 60
        },
        "template": {
         "data": {
          "bar": [
           {
            "error_x": {
             "color": "#2a3f5f"
            },
            "error_y": {
             "color": "#2a3f5f"
            },
            "marker": {
             "line": {
              "color": "#E5ECF6",
              "width": 0.5
             },
             "pattern": {
              "fillmode": "overlay",
              "size": 10,
              "solidity": 0.2
             }
            },
            "type": "bar"
           }
          ],
          "barpolar": [
           {
            "marker": {
             "line": {
              "color": "#E5ECF6",
              "width": 0.5
             },
             "pattern": {
              "fillmode": "overlay",
              "size": 10,
              "solidity": 0.2
             }
            },
            "type": "barpolar"
           }
          ],
          "carpet": [
           {
            "aaxis": {
             "endlinecolor": "#2a3f5f",
             "gridcolor": "white",
             "linecolor": "white",
             "minorgridcolor": "white",
             "startlinecolor": "#2a3f5f"
            },
            "baxis": {
             "endlinecolor": "#2a3f5f",
             "gridcolor": "white",
             "linecolor": "white",
             "minorgridcolor": "white",
             "startlinecolor": "#2a3f5f"
            },
            "type": "carpet"
           }
          ],
          "choropleth": [
           {
            "colorbar": {
             "outlinewidth": 0,
             "ticks": ""
            },
            "type": "choropleth"
           }
          ],
          "contour": [
           {
            "colorbar": {
             "outlinewidth": 0,
             "ticks": ""
            },
            "colorscale": [
             [
              0,
              "#0d0887"
             ],
             [
              0.1111111111111111,
              "#46039f"
             ],
             [
              0.2222222222222222,
              "#7201a8"
             ],
             [
              0.3333333333333333,
              "#9c179e"
             ],
             [
              0.4444444444444444,
              "#bd3786"
             ],
             [
              0.5555555555555556,
              "#d8576b"
             ],
             [
              0.6666666666666666,
              "#ed7953"
             ],
             [
              0.7777777777777778,
              "#fb9f3a"
             ],
             [
              0.8888888888888888,
              "#fdca26"
             ],
             [
              1,
              "#f0f921"
             ]
            ],
            "type": "contour"
           }
          ],
          "contourcarpet": [
           {
            "colorbar": {
             "outlinewidth": 0,
             "ticks": ""
            },
            "type": "contourcarpet"
           }
          ],
          "heatmap": [
           {
            "colorbar": {
             "outlinewidth": 0,
             "ticks": ""
            },
            "colorscale": [
             [
              0,
              "#0d0887"
             ],
             [
              0.1111111111111111,
              "#46039f"
             ],
             [
              0.2222222222222222,
              "#7201a8"
             ],
             [
              0.3333333333333333,
              "#9c179e"
             ],
             [
              0.4444444444444444,
              "#bd3786"
             ],
             [
              0.5555555555555556,
              "#d8576b"
             ],
             [
              0.6666666666666666,
              "#ed7953"
             ],
             [
              0.7777777777777778,
              "#fb9f3a"
             ],
             [
              0.8888888888888888,
              "#fdca26"
             ],
             [
              1,
              "#f0f921"
             ]
            ],
            "type": "heatmap"
           }
          ],
          "heatmapgl": [
           {
            "colorbar": {
             "outlinewidth": 0,
             "ticks": ""
            },
            "colorscale": [
             [
              0,
              "#0d0887"
             ],
             [
              0.1111111111111111,
              "#46039f"
             ],
             [
              0.2222222222222222,
              "#7201a8"
             ],
             [
              0.3333333333333333,
              "#9c179e"
             ],
             [
              0.4444444444444444,
              "#bd3786"
             ],
             [
              0.5555555555555556,
              "#d8576b"
             ],
             [
              0.6666666666666666,
              "#ed7953"
             ],
             [
              0.7777777777777778,
              "#fb9f3a"
             ],
             [
              0.8888888888888888,
              "#fdca26"
             ],
             [
              1,
              "#f0f921"
             ]
            ],
            "type": "heatmapgl"
           }
          ],
          "histogram": [
           {
            "marker": {
             "pattern": {
              "fillmode": "overlay",
              "size": 10,
              "solidity": 0.2
             }
            },
            "type": "histogram"
           }
          ],
          "histogram2d": [
           {
            "colorbar": {
             "outlinewidth": 0,
             "ticks": ""
            },
            "colorscale": [
             [
              0,
              "#0d0887"
             ],
             [
              0.1111111111111111,
              "#46039f"
             ],
             [
              0.2222222222222222,
              "#7201a8"
             ],
             [
              0.3333333333333333,
              "#9c179e"
             ],
             [
              0.4444444444444444,
              "#bd3786"
             ],
             [
              0.5555555555555556,
              "#d8576b"
             ],
             [
              0.6666666666666666,
              "#ed7953"
             ],
             [
              0.7777777777777778,
              "#fb9f3a"
             ],
             [
              0.8888888888888888,
              "#fdca26"
             ],
             [
              1,
              "#f0f921"
             ]
            ],
            "type": "histogram2d"
           }
          ],
          "histogram2dcontour": [
           {
            "colorbar": {
             "outlinewidth": 0,
             "ticks": ""
            },
            "colorscale": [
             [
              0,
              "#0d0887"
             ],
             [
              0.1111111111111111,
              "#46039f"
             ],
             [
              0.2222222222222222,
              "#7201a8"
             ],
             [
              0.3333333333333333,
              "#9c179e"
             ],
             [
              0.4444444444444444,
              "#bd3786"
             ],
             [
              0.5555555555555556,
              "#d8576b"
             ],
             [
              0.6666666666666666,
              "#ed7953"
             ],
             [
              0.7777777777777778,
              "#fb9f3a"
             ],
             [
              0.8888888888888888,
              "#fdca26"
             ],
             [
              1,
              "#f0f921"
             ]
            ],
            "type": "histogram2dcontour"
           }
          ],
          "mesh3d": [
           {
            "colorbar": {
             "outlinewidth": 0,
             "ticks": ""
            },
            "type": "mesh3d"
           }
          ],
          "parcoords": [
           {
            "line": {
             "colorbar": {
              "outlinewidth": 0,
              "ticks": ""
             }
            },
            "type": "parcoords"
           }
          ],
          "pie": [
           {
            "automargin": true,
            "type": "pie"
           }
          ],
          "scatter": [
           {
            "marker": {
             "colorbar": {
              "outlinewidth": 0,
              "ticks": ""
             }
            },
            "type": "scatter"
           }
          ],
          "scatter3d": [
           {
            "line": {
             "colorbar": {
              "outlinewidth": 0,
              "ticks": ""
             }
            },
            "marker": {
             "colorbar": {
              "outlinewidth": 0,
              "ticks": ""
             }
            },
            "type": "scatter3d"
           }
          ],
          "scattercarpet": [
           {
            "marker": {
             "colorbar": {
              "outlinewidth": 0,
              "ticks": ""
             }
            },
            "type": "scattercarpet"
           }
          ],
          "scattergeo": [
           {
            "marker": {
             "colorbar": {
              "outlinewidth": 0,
              "ticks": ""
             }
            },
            "type": "scattergeo"
           }
          ],
          "scattergl": [
           {
            "marker": {
             "colorbar": {
              "outlinewidth": 0,
              "ticks": ""
             }
            },
            "type": "scattergl"
           }
          ],
          "scattermapbox": [
           {
            "marker": {
             "colorbar": {
              "outlinewidth": 0,
              "ticks": ""
             }
            },
            "type": "scattermapbox"
           }
          ],
          "scatterpolar": [
           {
            "marker": {
             "colorbar": {
              "outlinewidth": 0,
              "ticks": ""
             }
            },
            "type": "scatterpolar"
           }
          ],
          "scatterpolargl": [
           {
            "marker": {
             "colorbar": {
              "outlinewidth": 0,
              "ticks": ""
             }
            },
            "type": "scatterpolargl"
           }
          ],
          "scatterternary": [
           {
            "marker": {
             "colorbar": {
              "outlinewidth": 0,
              "ticks": ""
             }
            },
            "type": "scatterternary"
           }
          ],
          "surface": [
           {
            "colorbar": {
             "outlinewidth": 0,
             "ticks": ""
            },
            "colorscale": [
             [
              0,
              "#0d0887"
             ],
             [
              0.1111111111111111,
              "#46039f"
             ],
             [
              0.2222222222222222,
              "#7201a8"
             ],
             [
              0.3333333333333333,
              "#9c179e"
             ],
             [
              0.4444444444444444,
              "#bd3786"
             ],
             [
              0.5555555555555556,
              "#d8576b"
             ],
             [
              0.6666666666666666,
              "#ed7953"
             ],
             [
              0.7777777777777778,
              "#fb9f3a"
             ],
             [
              0.8888888888888888,
              "#fdca26"
             ],
             [
              1,
              "#f0f921"
             ]
            ],
            "type": "surface"
           }
          ],
          "table": [
           {
            "cells": {
             "fill": {
              "color": "#EBF0F8"
             },
             "line": {
              "color": "white"
             }
            },
            "header": {
             "fill": {
              "color": "#C8D4E3"
             },
             "line": {
              "color": "white"
             }
            },
            "type": "table"
           }
          ]
         },
         "layout": {
          "annotationdefaults": {
           "arrowcolor": "#2a3f5f",
           "arrowhead": 0,
           "arrowwidth": 1
          },
          "autotypenumbers": "strict",
          "coloraxis": {
           "colorbar": {
            "outlinewidth": 0,
            "ticks": ""
           }
          },
          "colorscale": {
           "diverging": [
            [
             0,
             "#8e0152"
            ],
            [
             0.1,
             "#c51b7d"
            ],
            [
             0.2,
             "#de77ae"
            ],
            [
             0.3,
             "#f1b6da"
            ],
            [
             0.4,
             "#fde0ef"
            ],
            [
             0.5,
             "#f7f7f7"
            ],
            [
             0.6,
             "#e6f5d0"
            ],
            [
             0.7,
             "#b8e186"
            ],
            [
             0.8,
             "#7fbc41"
            ],
            [
             0.9,
             "#4d9221"
            ],
            [
             1,
             "#276419"
            ]
           ],
           "sequential": [
            [
             0,
             "#0d0887"
            ],
            [
             0.1111111111111111,
             "#46039f"
            ],
            [
             0.2222222222222222,
             "#7201a8"
            ],
            [
             0.3333333333333333,
             "#9c179e"
            ],
            [
             0.4444444444444444,
             "#bd3786"
            ],
            [
             0.5555555555555556,
             "#d8576b"
            ],
            [
             0.6666666666666666,
             "#ed7953"
            ],
            [
             0.7777777777777778,
             "#fb9f3a"
            ],
            [
             0.8888888888888888,
             "#fdca26"
            ],
            [
             1,
             "#f0f921"
            ]
           ],
           "sequentialminus": [
            [
             0,
             "#0d0887"
            ],
            [
             0.1111111111111111,
             "#46039f"
            ],
            [
             0.2222222222222222,
             "#7201a8"
            ],
            [
             0.3333333333333333,
             "#9c179e"
            ],
            [
             0.4444444444444444,
             "#bd3786"
            ],
            [
             0.5555555555555556,
             "#d8576b"
            ],
            [
             0.6666666666666666,
             "#ed7953"
            ],
            [
             0.7777777777777778,
             "#fb9f3a"
            ],
            [
             0.8888888888888888,
             "#fdca26"
            ],
            [
             1,
             "#f0f921"
            ]
           ]
          },
          "colorway": [
           "#636efa",
           "#EF553B",
           "#00cc96",
           "#ab63fa",
           "#FFA15A",
           "#19d3f3",
           "#FF6692",
           "#B6E880",
           "#FF97FF",
           "#FECB52"
          ],
          "font": {
           "color": "#2a3f5f"
          },
          "geo": {
           "bgcolor": "white",
           "lakecolor": "white",
           "landcolor": "#E5ECF6",
           "showlakes": true,
           "showland": true,
           "subunitcolor": "white"
          },
          "hoverlabel": {
           "align": "left"
          },
          "hovermode": "closest",
          "mapbox": {
           "style": "light"
          },
          "paper_bgcolor": "white",
          "plot_bgcolor": "#E5ECF6",
          "polar": {
           "angularaxis": {
            "gridcolor": "white",
            "linecolor": "white",
            "ticks": ""
           },
           "bgcolor": "#E5ECF6",
           "radialaxis": {
            "gridcolor": "white",
            "linecolor": "white",
            "ticks": ""
           }
          },
          "scene": {
           "xaxis": {
            "backgroundcolor": "#E5ECF6",
            "gridcolor": "white",
            "gridwidth": 2,
            "linecolor": "white",
            "showbackground": true,
            "ticks": "",
            "zerolinecolor": "white"
           },
           "yaxis": {
            "backgroundcolor": "#E5ECF6",
            "gridcolor": "white",
            "gridwidth": 2,
            "linecolor": "white",
            "showbackground": true,
            "ticks": "",
            "zerolinecolor": "white"
           },
           "zaxis": {
            "backgroundcolor": "#E5ECF6",
            "gridcolor": "white",
            "gridwidth": 2,
            "linecolor": "white",
            "showbackground": true,
            "ticks": "",
            "zerolinecolor": "white"
           }
          },
          "shapedefaults": {
           "line": {
            "color": "#2a3f5f"
           }
          },
          "ternary": {
           "aaxis": {
            "gridcolor": "white",
            "linecolor": "white",
            "ticks": ""
           },
           "baxis": {
            "gridcolor": "white",
            "linecolor": "white",
            "ticks": ""
           },
           "bgcolor": "#E5ECF6",
           "caxis": {
            "gridcolor": "white",
            "linecolor": "white",
            "ticks": ""
           }
          },
          "title": {
           "x": 0.05
          },
          "xaxis": {
           "automargin": true,
           "gridcolor": "white",
           "linecolor": "white",
           "ticks": "",
           "title": {
            "standoff": 15
           },
           "zerolinecolor": "white",
           "zerolinewidth": 2
          },
          "yaxis": {
           "automargin": true,
           "gridcolor": "white",
           "linecolor": "white",
           "ticks": "",
           "title": {
            "standoff": 15
           },
           "zerolinecolor": "white",
           "zerolinewidth": 2
          }
         }
        },
        "xaxis": {
         "anchor": "y",
         "domain": [
          0,
          1
         ],
         "title": {
          "text": "price"
         }
        },
        "yaxis": {
         "anchor": "x",
         "domain": [
          0,
          1
         ],
         "title": {
          "text": "quantity"
         }
        }
       }
      }
     },
     "metadata": {},
     "output_type": "display_data"
    }
   ],
   "source": [
    "import plotly.express as px\n",
    "fig = px.scatter(df, x=\"price\", y=\"quantity\", color=\"side\",size='quantity')\n",
    "fig.show()"
   ]
  },
  {
   "cell_type": "markdown",
   "id": "5c7a4bfe",
   "metadata": {},
   "source": [
    "### 24h price change with more than one symbol\n",
    "\n",
    "In a similar way you can retrieve the price change for more the one symbol. You only have to pass a list of symbols to the request. The example below will clarify the point."
   ]
  },
  {
   "cell_type": "code",
   "execution_count": 10,
   "id": "9c8ae14c",
   "metadata": {},
   "outputs": [
    {
     "name": "stdout",
     "output_type": "stream",
     "text": [
      "[\n",
      "  {\n",
      "    \"symbol\": \"BNBBTC\",\n",
      "    \"priceChange\": \"0.00026300\",\n",
      "    \"priceChangePercent\": \"2.645\",\n",
      "    \"weightedAvgPrice\": \"0.01006387\",\n",
      "    \"prevClosePrice\": \"0.00994300\",\n",
      "    \"lastPrice\": \"0.01020500\",\n",
      "    \"lastQty\": \"15.95200000\",\n",
      "    \"bidPrice\": \"0.01020500\",\n",
      "    \"bidQty\": \"16.06700000\",\n",
      "    \"askPrice\": \"0.01020600\",\n",
      "    \"askQty\": \"61.92600000\",\n",
      "    \"openPrice\": \"0.00994200\",\n",
      "    \"highPrice\": \"0.01022000\",\n",
      "    \"lowPrice\": \"0.00992600\",\n",
      "    \"volume\": \"82182.80100000\",\n",
      "    \"quoteVolume\": \"827.07704637\",\n",
      "    \"openTime\": 1650550946187,\n",
      "    \"closeTime\": 1650637346187,\n",
      "    \"firstId\": 183549066,\n",
      "    \"lastId\": 183611860,\n",
      "    \"count\": 62795\n",
      "  },\n",
      "  {\n",
      "    \"symbol\": \"BTCUSDT\",\n",
      "    \"priceChange\": \"-2519.98000000\",\n",
      "    \"priceChangePercent\": \"-5.919\",\n",
      "    \"weightedAvgPrice\": \"40898.38820499\",\n",
      "    \"prevClosePrice\": \"42576.69000000\",\n",
      "    \"lastPrice\": \"40056.71000000\",\n",
      "    \"lastQty\": \"0.21678000\",\n",
      "    \"bidPrice\": \"40056.71000000\",\n",
      "    \"bidQty\": \"0.14581000\",\n",
      "    \"askPrice\": \"40056.72000000\",\n",
      "    \"askQty\": \"3.69148000\",\n",
      "    \"openPrice\": \"42576.69000000\",\n",
      "    \"highPrice\": \"42650.19000000\",\n",
      "    \"lowPrice\": \"39751.00000000\",\n",
      "    \"volume\": \"54262.78118000\",\n",
      "    \"quoteVolume\": \"2219260289.78202060\",\n",
      "    \"openTime\": 1650550946456,\n",
      "    \"closeTime\": 1650637346456,\n",
      "    \"firstId\": 1331861300,\n",
      "    \"lastId\": 1333178460,\n",
      "    \"count\": 1317161\n",
      "  }\n",
      "]\n"
     ]
    }
   ],
   "source": [
    "# get the info of a list of symbols\n",
    "response = requests.get('https://api.binance.com/api/v3/ticker/24hr?symbols=[\"BNBBTC\",\"BTCUSDT\"]')\n",
    "\n",
    "# or this (to avoid long strings)\n",
    "params = dict(symbols='[\"BNBBTC\",\"BTCUSDT\"]')\n",
    "response = requests.get(\"https://api.binance.com/api/v3/ticker/24hr\",params=params)\n",
    "\n",
    "print(json.dumps(response.json(), indent=2))\n"
   ]
  },
  {
   "cell_type": "markdown",
   "id": "bed16e86",
   "metadata": {},
   "source": [
    "There is a lot of output but, as you can see, you retrieve a list of dictionaries, one dictionary for each symbol you specified.\n",
    "\n",
    "## Conclusion\n",
    "\n",
    "I like this API. Easy to use, minimalist, rich in information. I still have to practice a bit with it to form a well defined idea but for the moment I passed good times trying to retrieve data from this crypto exchange. \n",
    "\n",
    "Let's see if we can do more in the next episodes. But for the moment stay anchored to this block of posts! Cheers."
   ]
  }
 ],
 "metadata": {
  "interpreter": {
   "hash": "d15395c3e962ed0203972a63e72173043ace380089a39426d8120dc144349487"
  },
  "kernelspec": {
   "display_name": "Python 3 (ipykernel)",
   "language": "python",
   "name": "python3"
  },
  "language_info": {
   "codemirror_mode": {
    "name": "ipython",
    "version": 3
   },
   "file_extension": ".py",
   "mimetype": "text/x-python",
   "name": "python",
   "nbconvert_exporter": "python",
   "pygments_lexer": "ipython3",
   "version": "3.9.9"
  }
 },
 "nbformat": 4,
 "nbformat_minor": 5
}
