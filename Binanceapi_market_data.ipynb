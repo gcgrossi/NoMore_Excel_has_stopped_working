{
 "cells": [
  {
   "cell_type": "markdown",
   "id": "28ec8410",
   "metadata": {},
   "source": [
    "# The Binance API\n",
    "\n",
    "# Order book data\n",
    "\n",
    "## Introduction\n",
    "\n",
    "Hallo data miners! ⛏\n",
    "\n",
    "The second episode of this chapter regarding the Binance API will explore just one, always useful, info you can retrieve: the Order Book. If you read these articles, you are probably very familiar with the concept of Order Book so I will not bother you with all the usual boiler-plate introduction on: what is an Order Book? How Orders are matched in Finance? and bla and bla and bla.\n",
    "\n",
    "I do not have to rank on Google so I will keep my posts as I think it's better: concise. Very few concepts per article, some small examples and max 5 minutes read. \n",
    "\n",
    "\n",
    "\n"
   ]
  },
  {
   "cell_type": "code",
   "execution_count": 18,
   "id": "dc275ccf",
   "metadata": {},
   "outputs": [
    {
     "data": {
      "text/plain": [
       "{'lastUpdateId': 715148287,\n",
       " 'bids': [['17.80000000', '247.51000000'],\n",
       "  ['17.79000000', '447.52000000'],\n",
       "  ['17.78000000', '529.17000000'],\n",
       "  ['17.77000000', '280.98000000'],\n",
       "  ['17.76000000', '56.52000000'],\n",
       "  ['17.75000000', '720.43000000'],\n",
       "  ['17.74000000', '7.04000000'],\n",
       "  ['17.73000000', '5.76000000'],\n",
       "  ['17.72000000', '81.37000000'],\n",
       "  ['17.71000000', '1786.23000000'],\n",
       "  ['17.70000000', '47.81000000'],\n",
       "  ['17.69000000', '151.04000000'],\n",
       "  ['17.68000000', '108.29000000'],\n",
       "  ['17.67000000', '615.04000000'],\n",
       "  ['17.66000000', '25.49000000'],\n",
       "  ['17.65000000', '9.14000000'],\n",
       "  ['17.64000000', '49.47000000'],\n",
       "  ['17.63000000', '785.36000000'],\n",
       "  ['17.62000000', '382.42000000'],\n",
       "  ['17.61000000', '44.90000000'],\n",
       "  ['17.60000000', '323.12000000'],\n",
       "  ['17.59000000', '148.61000000'],\n",
       "  ['17.58000000', '9.28000000'],\n",
       "  ['17.57000000', '0.57000000'],\n",
       "  ['17.56000000', '43.99000000'],\n",
       "  ['17.55000000', '0.57000000'],\n",
       "  ['17.54000000', '6.37000000'],\n",
       "  ['17.53000000', '69.10000000'],\n",
       "  ['17.52000000', '0.60000000'],\n",
       "  ['17.51000000', '15.13000000'],\n",
       "  ['17.50000000', '100.23000000'],\n",
       "  ['17.49000000', '54.84000000'],\n",
       "  ['17.47000000', '12.53000000'],\n",
       "  ['17.46000000', '29.63000000'],\n",
       "  ['17.45000000', '61.98000000'],\n",
       "  ['17.44000000', '51.14000000'],\n",
       "  ['17.43000000', '7.58000000'],\n",
       "  ['17.42000000', '35.99000000'],\n",
       "  ['17.41000000', '4.83000000'],\n",
       "  ['17.40000000', '237.13000000'],\n",
       "  ['17.39000000', '0.58000000'],\n",
       "  ['17.38000000', '0.60000000'],\n",
       "  ['17.37000000', '10.92000000'],\n",
       "  ['17.36000000', '51.00000000'],\n",
       "  ['17.35000000', '9.60000000'],\n",
       "  ['17.34000000', '11.77000000'],\n",
       "  ['17.33000000', '0.58000000'],\n",
       "  ['17.32000000', '53.91000000'],\n",
       "  ['17.31000000', '4.48000000'],\n",
       "  ['17.30000000', '25.12000000'],\n",
       "  ['17.29000000', '17.16000000'],\n",
       "  ['17.28000000', '6.33000000'],\n",
       "  ['17.27000000', '47.57000000'],\n",
       "  ['17.25000000', '2.91000000'],\n",
       "  ['17.24000000', '1.36000000'],\n",
       "  ['17.23000000', '53.74000000'],\n",
       "  ['17.22000000', '105.78000000'],\n",
       "  ['17.21000000', '2.91000000'],\n",
       "  ['17.20000000', '6.87000000'],\n",
       "  ['17.19000000', '11.54000000'],\n",
       "  ['17.18000000', '4.05000000'],\n",
       "  ['17.17000000', '10.34000000'],\n",
       "  ['17.16000000', '11.83000000'],\n",
       "  ['17.15000000', '3.38000000'],\n",
       "  ['17.13000000', '14.54000000'],\n",
       "  ['17.12000000', '0.60000000'],\n",
       "  ['17.11000000', '3.37000000'],\n",
       "  ['17.10000000', '87.94000000'],\n",
       "  ['17.09000000', '0.59000000'],\n",
       "  ['17.07000000', '26.94000000'],\n",
       "  ['17.06000000', '1.24000000'],\n",
       "  ['17.05000000', '34.31000000'],\n",
       "  ['17.03000000', '10.46000000'],\n",
       "  ['17.02000000', '55.71000000'],\n",
       "  ['17.01000000', '21.48000000'],\n",
       "  ['17.00000000', '265.56000000'],\n",
       "  ['16.99000000', '2.76000000'],\n",
       "  ['16.97000000', '0.59000000'],\n",
       "  ['16.96000000', '3.73000000'],\n",
       "  ['16.95000000', '6.00000000'],\n",
       "  ['16.94000000', '2.73000000'],\n",
       "  ['16.93000000', '1.20000000'],\n",
       "  ['16.92000000', '0.60000000'],\n",
       "  ['16.91000000', '3.10000000'],\n",
       "  ['16.90000000', '603.19000000'],\n",
       "  ['16.89000000', '2.10000000'],\n",
       "  ['16.88000000', '3.00000000'],\n",
       "  ['16.87000000', '2.77000000'],\n",
       "  ['16.86000000', '9.67000000'],\n",
       "  ['16.85000000', '4.49000000'],\n",
       "  ['16.83000000', '14.15000000'],\n",
       "  ['16.81000000', '1.23000000'],\n",
       "  ['16.80000000', '1.64000000'],\n",
       "  ['16.79000000', '3.33000000'],\n",
       "  ['16.77000000', '27.61000000'],\n",
       "  ['16.75000000', '2.19000000'],\n",
       "  ['16.74000000', '1.80000000'],\n",
       "  ['16.73000000', '67.71000000'],\n",
       "  ['16.71000000', '7.36000000'],\n",
       "  ['16.70000000', '9.02000000']],\n",
       " 'asks': [['17.82000000', '153.06000000'],\n",
       "  ['17.83000000', '159.49000000'],\n",
       "  ['17.84000000', '354.50000000'],\n",
       "  ['17.85000000', '485.08000000'],\n",
       "  ['17.86000000', '364.75000000'],\n",
       "  ['17.87000000', '30.83000000'],\n",
       "  ['17.88000000', '15.09000000'],\n",
       "  ['17.89000000', '589.20000000'],\n",
       "  ['17.90000000', '31.17000000'],\n",
       "  ['17.91000000', '1807.91000000'],\n",
       "  ['17.92000000', '57.71000000'],\n",
       "  ['17.93000000', '16.39000000'],\n",
       "  ['17.94000000', '34.15000000'],\n",
       "  ['17.95000000', '75.24000000'],\n",
       "  ['17.96000000', '2.06000000'],\n",
       "  ['17.97000000', '28.01000000'],\n",
       "  ['17.98000000', '113.00000000'],\n",
       "  ['17.99000000', '259.32000000'],\n",
       "  ['18.00000000', '74.66000000'],\n",
       "  ['18.01000000', '3.70000000'],\n",
       "  ['18.02000000', '406.17000000'],\n",
       "  ['18.03000000', '3.35000000'],\n",
       "  ['18.04000000', '41.63000000'],\n",
       "  ['18.06000000', '9.74000000'],\n",
       "  ['18.07000000', '26.62000000'],\n",
       "  ['18.08000000', '1.95000000'],\n",
       "  ['18.09000000', '36.83000000'],\n",
       "  ['18.10000000', '4.23000000'],\n",
       "  ['18.11000000', '1.55000000'],\n",
       "  ['18.12000000', '34.00000000'],\n",
       "  ['18.13000000', '1.26000000'],\n",
       "  ['18.14000000', '1.00000000'],\n",
       "  ['18.15000000', '39.86000000'],\n",
       "  ['18.16000000', '3.53000000'],\n",
       "  ['18.17000000', '3.09000000'],\n",
       "  ['18.18000000', '3.04000000'],\n",
       "  ['18.19000000', '41.85000000'],\n",
       "  ['18.20000000', '10.05000000'],\n",
       "  ['18.21000000', '3.85000000'],\n",
       "  ['18.22000000', '229.89000000'],\n",
       "  ['18.24000000', '30.82000000'],\n",
       "  ['18.25000000', '38.08000000'],\n",
       "  ['18.26000000', '1.19000000'],\n",
       "  ['18.27000000', '36.34000000'],\n",
       "  ['18.28000000', '3.97000000'],\n",
       "  ['18.29000000', '0.80000000'],\n",
       "  ['18.30000000', '24.29000000'],\n",
       "  ['18.31000000', '2.03000000'],\n",
       "  ['18.32000000', '68.00000000'],\n",
       "  ['18.33000000', '3.70000000'],\n",
       "  ['18.34000000', '2.15000000'],\n",
       "  ['18.36000000', '59.84000000'],\n",
       "  ['18.37000000', '12.80000000'],\n",
       "  ['18.38000000', '2.01000000'],\n",
       "  ['18.39000000', '3.37000000'],\n",
       "  ['18.40000000', '54.30000000'],\n",
       "  ['18.42000000', '2.31000000'],\n",
       "  ['18.43000000', '4.02000000'],\n",
       "  ['18.44000000', '59.50000000'],\n",
       "  ['18.45000000', '28.22000000'],\n",
       "  ['18.46000000', '13.32000000'],\n",
       "  ['18.47000000', '7.82000000'],\n",
       "  ['18.49000000', '66.43000000'],\n",
       "  ['18.50000000', '328.11000000'],\n",
       "  ['18.51000000', '0.55000000'],\n",
       "  ['18.52000000', '0.63000000'],\n",
       "  ['18.53000000', '47.07000000'],\n",
       "  ['18.54000000', '12.38000000'],\n",
       "  ['18.55000000', '8.41000000'],\n",
       "  ['18.56000000', '2.50000000'],\n",
       "  ['18.57000000', '3.53000000'],\n",
       "  ['18.58000000', '1.38000000'],\n",
       "  ['18.59000000', '3.43000000'],\n",
       "  ['18.60000000', '33.23000000'],\n",
       "  ['18.62000000', '7.05000000'],\n",
       "  ['18.63000000', '3.49000000'],\n",
       "  ['18.64000000', '9.14000000'],\n",
       "  ['18.65000000', '5.68000000'],\n",
       "  ['18.66000000', '10.87000000'],\n",
       "  ['18.67000000', '3.13000000'],\n",
       "  ['18.68000000', '0.81000000'],\n",
       "  ['18.69000000', '2.50000000'],\n",
       "  ['18.70000000', '25.15000000'],\n",
       "  ['18.72000000', '4.74000000'],\n",
       "  ['18.73000000', '3.38000000'],\n",
       "  ['18.74000000', '3.55000000'],\n",
       "  ['18.75000000', '6.23000000'],\n",
       "  ['18.76000000', '2.71000000'],\n",
       "  ['18.77000000', '1.00000000'],\n",
       "  ['18.78000000', '9.48000000'],\n",
       "  ['18.79000000', '1.97000000'],\n",
       "  ['18.80000000', '5.74000000'],\n",
       "  ['18.81000000', '2.70000000'],\n",
       "  ['18.82000000', '1.00000000'],\n",
       "  ['18.83000000', '23.13000000'],\n",
       "  ['18.84000000', '13.93000000'],\n",
       "  ['18.87000000', '3.75000000'],\n",
       "  ['18.88000000', '4.99000000'],\n",
       "  ['18.89000000', '47.40000000'],\n",
       "  ['18.90000000', '23.26000000']]}"
      ]
     },
     "execution_count": 18,
     "metadata": {},
     "output_type": "execute_result"
    }
   ],
   "source": [
    "import json\n",
    "import requests\n",
    "\n",
    "r = requests.get(\"https://api.binance.com/api/v3/depth\",params=dict(symbol=\"AXSBUSD\"))\n",
    "response = r.json()\n",
    "response"
   ]
  },
  {
   "cell_type": "markdown",
   "id": "39b7556c",
   "metadata": {},
   "source": [
    "Let's just construct the bid and ask DataFrames by reading the \"bid\"/\"ask\" key of the response. Using the pandas method ```from_records``` the corresponding list can be transformed into a DataFrame with a snap! \n",
    "\n",
    "As the name suggests, with the method ```concat``` we can concatenate the two DataFrames."
   ]
  },
  {
   "cell_type": "code",
   "execution_count": 19,
   "id": "5aac55d9",
   "metadata": {},
   "outputs": [
    {
     "data": {
      "text/html": [
       "<div>\n",
       "<style scoped>\n",
       "    .dataframe tbody tr th:only-of-type {\n",
       "        vertical-align: middle;\n",
       "    }\n",
       "\n",
       "    .dataframe tbody tr th {\n",
       "        vertical-align: top;\n",
       "    }\n",
       "\n",
       "    .dataframe thead th {\n",
       "        text-align: right;\n",
       "    }\n",
       "</style>\n",
       "<table border=\"1\" class=\"dataframe\">\n",
       "  <thead>\n",
       "    <tr style=\"text-align: right;\">\n",
       "      <th></th>\n",
       "      <th>price</th>\n",
       "      <th>quantity</th>\n",
       "      <th>side</th>\n",
       "    </tr>\n",
       "  </thead>\n",
       "  <tbody>\n",
       "    <tr>\n",
       "      <th>0</th>\n",
       "      <td>17.76</td>\n",
       "      <td>56.52</td>\n",
       "      <td>bid</td>\n",
       "    </tr>\n",
       "    <tr>\n",
       "      <th>1</th>\n",
       "      <td>17.77</td>\n",
       "      <td>280.98</td>\n",
       "      <td>bid</td>\n",
       "    </tr>\n",
       "    <tr>\n",
       "      <th>2</th>\n",
       "      <td>17.78</td>\n",
       "      <td>529.17</td>\n",
       "      <td>bid</td>\n",
       "    </tr>\n",
       "    <tr>\n",
       "      <th>3</th>\n",
       "      <td>17.79</td>\n",
       "      <td>447.52</td>\n",
       "      <td>bid</td>\n",
       "    </tr>\n",
       "    <tr>\n",
       "      <th>4</th>\n",
       "      <td>17.80</td>\n",
       "      <td>247.51</td>\n",
       "      <td>bid</td>\n",
       "    </tr>\n",
       "    <tr>\n",
       "      <th>5</th>\n",
       "      <td>17.82</td>\n",
       "      <td>153.06</td>\n",
       "      <td>ask</td>\n",
       "    </tr>\n",
       "    <tr>\n",
       "      <th>6</th>\n",
       "      <td>17.83</td>\n",
       "      <td>159.49</td>\n",
       "      <td>ask</td>\n",
       "    </tr>\n",
       "    <tr>\n",
       "      <th>7</th>\n",
       "      <td>17.84</td>\n",
       "      <td>354.50</td>\n",
       "      <td>ask</td>\n",
       "    </tr>\n",
       "    <tr>\n",
       "      <th>8</th>\n",
       "      <td>17.85</td>\n",
       "      <td>485.08</td>\n",
       "      <td>ask</td>\n",
       "    </tr>\n",
       "    <tr>\n",
       "      <th>9</th>\n",
       "      <td>17.86</td>\n",
       "      <td>364.75</td>\n",
       "      <td>ask</td>\n",
       "    </tr>\n",
       "  </tbody>\n",
       "</table>\n",
       "</div>"
      ],
      "text/plain": [
       "   price  quantity side\n",
       "0  17.76     56.52  bid\n",
       "1  17.77    280.98  bid\n",
       "2  17.78    529.17  bid\n",
       "3  17.79    447.52  bid\n",
       "4  17.80    247.51  bid\n",
       "5  17.82    153.06  ask\n",
       "6  17.83    159.49  ask\n",
       "7  17.84    354.50  ask\n",
       "8  17.85    485.08  ask\n",
       "9  17.86    364.75  ask"
      ]
     },
     "execution_count": 19,
     "metadata": {},
     "output_type": "execute_result"
    }
   ],
   "source": [
    "import pandas as pd\n",
    "\n",
    "# define the bid/ask datframes by reading the bid/ask keys of the response\n",
    "# and the pandas constructor method from_records. Add also a column \"side\".\n",
    "df_bid = pd.DataFrame.from_records(response['bids'], columns=['price', 'quantity']).astype('float')\n",
    "df_bid['side'] = 'bid'\n",
    "\n",
    "df_ask = pd.DataFrame.from_records(response['asks'], columns=['price', 'quantity']).astype('float')\n",
    "df_ask['side'] = 'ask'\n",
    "\n",
    "# concatenate the dataframes\n",
    "# for the bid we first sort the dataframe in ascending order\n",
    "# then we select the last 5 rows of bid and the first five of ask\n",
    "df = pd.concat([df_bid.sort_values(by=['price'])[-5:], df_ask[:5]], ignore_index=True)\n",
    "df"
   ]
  },
  {
   "cell_type": "code",
   "execution_count": 20,
   "id": "ae4152f5",
   "metadata": {},
   "outputs": [
    {
     "data": {
      "application/vnd.jupyter.widget-view+json": {
       "model_id": "c7dc91c0f3334502906bef0cb7ffdb6d",
       "version_major": 2,
       "version_minor": 0
      },
      "text/plain": [
       "HTML(value='<table border=\"1\" class=\"dataframe\">\\n  <thead>\\n    <tr style=\"text-align: right;\">\\n      <th></…"
      ]
     },
     "metadata": {},
     "output_type": "display_data"
    }
   ],
   "source": [
    "import ipywidgets as widgets\n",
    "\n",
    "# create a jupyter widget with the table html\n",
    "widgets.HTML(value=df.to_html())"
   ]
  },
  {
   "cell_type": "code",
   "execution_count": 22,
   "id": "9c8d2a65",
   "metadata": {},
   "outputs": [
    {
     "data": {
      "application/vnd.jupyter.widget-view+json": {
       "model_id": "1e98ed2b64f740efb6e4b5efa05a940a",
       "version_major": 2,
       "version_minor": 0
      },
      "text/plain": [
       "HTML(value='<style type=\"text/css\">\\n</style>\\n<table id=\"T_bb993_\">\\n  <thead>\\n    <tr>\\n      <th class=\"co…"
      ]
     },
     "metadata": {},
     "output_type": "display_data"
    }
   ],
   "source": [
    "st=df.style.hide_index()\n",
    "st = st.hide_columns(['side'])\n",
    "widgets.HTML(value=st.to_html())"
   ]
  },
  {
   "cell_type": "markdown",
   "id": "fb262096",
   "metadata": {},
   "source": [
    "## Draw the table in black green and red colors"
   ]
  },
  {
   "cell_type": "code",
   "execution_count": 78,
   "id": "6a67da80",
   "metadata": {},
   "outputs": [],
   "source": [
    "df_mask = df.copy(deep=True)\n",
    "df_mask[df['side'] == 'bid'] = 'bid'\n",
    "df_mask[df['side'] == 'ask'] = 'ask'\n",
    "\n",
    "s = df.style.set_table_styles([\n",
    "    {'selector': 'th:not(.index_name)','props':'text-align:center; color:grey;background-color:#373737'},\n",
    "    {'selector': 'td','props':'text-align:center; background-color:#2d2d2d;font-weight:bold'},\n",
    "    {'selector':'.bid','props':'color:#086623'},\n",
    "    {'selector':'.ask','props':'color:red'},\n",
    "],overwrite=False)\n",
    "\n",
    "s.set_td_classes(df_mask)\n",
    "\n",
    "tab = widgets.HTML(value=s.to_html())"
   ]
  },
  {
   "cell_type": "markdown",
   "id": "e15752d7",
   "metadata": {},
   "source": [
    "## We add the bars"
   ]
  },
  {
   "cell_type": "code",
   "execution_count": 79,
   "id": "fbc8a169",
   "metadata": {},
   "outputs": [
    {
     "data": {
      "text/html": [
       "<style type=\"text/css\">\n",
       "#T_23a27_ th:not(.index_name) {\n",
       "  text-align: center;\n",
       "  color: grey;\n",
       "  background-color: #373737;\n",
       "}\n",
       "#T_23a27_ td {\n",
       "  text-align: center;\n",
       "  background-color: #2d2d2d;\n",
       "  font-weight: bold;\n",
       "}\n",
       "#T_23a27_ .bid {\n",
       "  color: #086623;\n",
       "}\n",
       "#T_23a27_ .ask {\n",
       "  color: red;\n",
       "}\n",
       "#T_23a27_row0_col1 {\n",
       "  width: 10em;\n",
       "  height: 80%;\n",
       "  background: linear-gradient(90deg,#dbeac5 9.6%, transparent 9.6%);\n",
       "}\n",
       "#T_23a27_row1_col1, #T_23a27_row6_col1 {\n",
       "  width: 10em;\n",
       "  height: 80%;\n",
       "}\n",
       "#T_23a27_row2_col1 {\n",
       "  width: 10em;\n",
       "  height: 80%;\n",
       "  background: linear-gradient(90deg,#dbeac5 2.0%, transparent 2.0%);\n",
       "}\n",
       "#T_23a27_row3_col1 {\n",
       "  width: 10em;\n",
       "  height: 80%;\n",
       "  background: linear-gradient(90deg,#dbeac5 17.9%, transparent 17.9%);\n",
       "}\n",
       "#T_23a27_row4_col1 {\n",
       "  width: 10em;\n",
       "  height: 80%;\n",
       "  background: linear-gradient(90deg,#dbeac5 100.0%, transparent 100.0%);\n",
       "}\n",
       "#T_23a27_row5_col1 {\n",
       "  width: 10em;\n",
       "  height: 80%;\n",
       "  background: linear-gradient(90deg,#ff9090 45.3%, transparent 45.3%);\n",
       "}\n",
       "#T_23a27_row7_col1 {\n",
       "  width: 10em;\n",
       "  height: 80%;\n",
       "  background: linear-gradient(90deg,#ff9090 43.5%, transparent 43.5%);\n",
       "}\n",
       "#T_23a27_row8_col1 {\n",
       "  width: 10em;\n",
       "  height: 80%;\n",
       "  background: linear-gradient(90deg,#ff9090 7.3%, transparent 7.3%);\n",
       "}\n",
       "#T_23a27_row9_col1 {\n",
       "  width: 10em;\n",
       "  height: 80%;\n",
       "  background: linear-gradient(90deg,#ff9090 100.0%, transparent 100.0%);\n",
       "}\n",
       "</style>\n",
       "<table id=\"T_23a27_\">\n",
       "  <thead>\n",
       "    <tr>\n",
       "      <th class=\"blank level0\" >&nbsp;</th>\n",
       "      <th class=\"col_heading level0 col0\" >price</th>\n",
       "      <th class=\"col_heading level0 col1\" >quantity</th>\n",
       "      <th class=\"col_heading level0 col2\" >side</th>\n",
       "    </tr>\n",
       "  </thead>\n",
       "  <tbody>\n",
       "    <tr>\n",
       "      <th id=\"T_23a27_level0_row0\" class=\"row_heading level0 row0\" >0</th>\n",
       "      <td id=\"T_23a27_row0_col0\" class=\"data row0 col0 bid\" >29140.170000</td>\n",
       "      <td id=\"T_23a27_row0_col1\" class=\"data row0 col1 bid\" >0.077480</td>\n",
       "      <td id=\"T_23a27_row0_col2\" class=\"data row0 col2 bid\" >bid</td>\n",
       "    </tr>\n",
       "    <tr>\n",
       "      <th id=\"T_23a27_level0_row1\" class=\"row_heading level0 row1\" >1</th>\n",
       "      <td id=\"T_23a27_row1_col0\" class=\"data row1 col0 bid\" >29140.710000</td>\n",
       "      <td id=\"T_23a27_row1_col1\" class=\"data row1 col1 bid\" >0.004080</td>\n",
       "      <td id=\"T_23a27_row1_col2\" class=\"data row1 col2 bid\" >bid</td>\n",
       "    </tr>\n",
       "    <tr>\n",
       "      <th id=\"T_23a27_level0_row2\" class=\"row_heading level0 row2\" >2</th>\n",
       "      <td id=\"T_23a27_row2_col0\" class=\"data row2 col0 bid\" >29140.740000</td>\n",
       "      <td id=\"T_23a27_row2_col1\" class=\"data row2 col1 bid\" >0.019170</td>\n",
       "      <td id=\"T_23a27_row2_col2\" class=\"data row2 col2 bid\" >bid</td>\n",
       "    </tr>\n",
       "    <tr>\n",
       "      <th id=\"T_23a27_level0_row3\" class=\"row_heading level0 row3\" >3</th>\n",
       "      <td id=\"T_23a27_row3_col0\" class=\"data row3 col0 bid\" >29141.870000</td>\n",
       "      <td id=\"T_23a27_row3_col1\" class=\"data row3 col1 bid\" >0.140260</td>\n",
       "      <td id=\"T_23a27_row3_col2\" class=\"data row3 col2 bid\" >bid</td>\n",
       "    </tr>\n",
       "    <tr>\n",
       "      <th id=\"T_23a27_level0_row4\" class=\"row_heading level0 row4\" >4</th>\n",
       "      <td id=\"T_23a27_row4_col0\" class=\"data row4 col0 bid\" >29143.240000</td>\n",
       "      <td id=\"T_23a27_row4_col1\" class=\"data row4 col1 bid\" >0.765800</td>\n",
       "      <td id=\"T_23a27_row4_col2\" class=\"data row4 col2 bid\" >bid</td>\n",
       "    </tr>\n",
       "    <tr>\n",
       "      <th id=\"T_23a27_level0_row5\" class=\"row_heading level0 row5\" >5</th>\n",
       "      <td id=\"T_23a27_row5_col0\" class=\"data row5 col0 ask\" >29143.250000</td>\n",
       "      <td id=\"T_23a27_row5_col1\" class=\"data row5 col1 ask\" >0.200790</td>\n",
       "      <td id=\"T_23a27_row5_col2\" class=\"data row5 col2 ask\" >ask</td>\n",
       "    </tr>\n",
       "    <tr>\n",
       "      <th id=\"T_23a27_level0_row6\" class=\"row_heading level0 row6\" >6</th>\n",
       "      <td id=\"T_23a27_row6_col0\" class=\"data row6 col0 ask\" >29143.390000</td>\n",
       "      <td id=\"T_23a27_row6_col1\" class=\"data row6 col1 ask\" >0.002370</td>\n",
       "      <td id=\"T_23a27_row6_col2\" class=\"data row6 col2 ask\" >ask</td>\n",
       "    </tr>\n",
       "    <tr>\n",
       "      <th id=\"T_23a27_level0_row7\" class=\"row_heading level0 row7\" >7</th>\n",
       "      <td id=\"T_23a27_row7_col0\" class=\"data row7 col0 ask\" >29144.580000</td>\n",
       "      <td id=\"T_23a27_row7_col1\" class=\"data row7 col1 ask\" >0.192890</td>\n",
       "      <td id=\"T_23a27_row7_col2\" class=\"data row7 col2 ask\" >ask</td>\n",
       "    </tr>\n",
       "    <tr>\n",
       "      <th id=\"T_23a27_level0_row8\" class=\"row_heading level0 row8\" >8</th>\n",
       "      <td id=\"T_23a27_row8_col0\" class=\"data row8 col0 ask\" >29144.590000</td>\n",
       "      <td id=\"T_23a27_row8_col1\" class=\"data row8 col1 ask\" >0.034310</td>\n",
       "      <td id=\"T_23a27_row8_col2\" class=\"data row8 col2 ask\" >ask</td>\n",
       "    </tr>\n",
       "    <tr>\n",
       "      <th id=\"T_23a27_level0_row9\" class=\"row_heading level0 row9\" >9</th>\n",
       "      <td id=\"T_23a27_row9_col0\" class=\"data row9 col0 ask\" >29144.650000</td>\n",
       "      <td id=\"T_23a27_row9_col1\" class=\"data row9 col1 ask\" >0.440000</td>\n",
       "      <td id=\"T_23a27_row9_col2\" class=\"data row9 col2 ask\" >ask</td>\n",
       "    </tr>\n",
       "  </tbody>\n",
       "</table>\n"
      ],
      "text/plain": [
       "<pandas.io.formats.style.Styler at 0x256a0c93670>"
      ]
     },
     "execution_count": 79,
     "metadata": {},
     "output_type": "execute_result"
    }
   ],
   "source": [
    "idxs = df.index[df['side'] == 'bid'].tolist()\n",
    "idx = pd.IndexSlice\n",
    "s.bar(subset=idx[:idxs[-1],'quantity'], color='#dbeac5')\n",
    "s.bar(subset=idx[idxs[-1]+1:,'quantity'], color='#ff9090')"
   ]
  },
  {
   "cell_type": "markdown",
   "id": "eac86645",
   "metadata": {},
   "source": [
    "## We draw the widget Here"
   ]
  },
  {
   "cell_type": "code",
   "execution_count": 73,
   "id": "633f14c6",
   "metadata": {},
   "outputs": [
    {
     "data": {
      "text/html": [
       "<style>\n",
       "    .box_style{\n",
       "        width:100%;\n",
       "        border : 0px solid red;\n",
       "        height: auto;\n",
       "        background-color:#373737;\n",
       "    }\n",
       "</style>\n"
      ],
      "text/plain": [
       "<IPython.core.display.HTML object>"
      ]
     },
     "metadata": {},
     "output_type": "display_data"
    }
   ],
   "source": [
    "%%html\n",
    "<style>\n",
    "    .box_style{\n",
    "        width:100%;\n",
    "        border : 0px solid red;\n",
    "        height: auto;\n",
    "        background-color:#373737;\n",
    "    }\n",
    "</style>"
   ]
  },
  {
   "cell_type": "code",
   "execution_count": 70,
   "id": "22477df9",
   "metadata": {},
   "outputs": [
    {
     "data": {
      "application/vnd.jupyter.widget-view+json": {
       "model_id": "fa53b0098e064004966696ec84edddd2",
       "version_major": 2,
       "version_minor": 0
      },
      "text/plain": [
       "HBox(children=(HTML(value='<style type=\"text/css\">\\n#T_6c3cd_ th:not(.index_name) {\\n  text-align: center;\\n  …"
      ]
     },
     "metadata": {},
     "output_type": "display_data"
    }
   ],
   "source": [
    "from ipywidgets import Layout\n",
    "\n",
    "hBox = widgets.HBox([tab],layout=Layout(justify_content= 'center'))\n",
    "hBox.add_class(\"box_style\")\n",
    "hBox"
   ]
  },
  {
   "cell_type": "markdown",
   "id": "7054bc3c",
   "metadata": {},
   "source": [
    "## This is the function with the final style pipeline to be applied to the Dataframe"
   ]
  },
  {
   "cell_type": "code",
   "execution_count": 67,
   "id": "f8681015",
   "metadata": {},
   "outputs": [],
   "source": [
    "def style_pipe(df):\n",
    "    s= df.style.hide_index().hide_columns(['side'])\n",
    "\n",
    "    df_mask = df.copy(deep=True)\n",
    "    df_mask[df['side'] == 'bid'] = 'bid'\n",
    "    df_mask[df['side'] == 'ask'] = 'ask'\n",
    "\n",
    "    s.set_table_styles([\n",
    "        {'selector': 'th:not(.index_name)','props':'text-align:center; color:grey;background-color:#373737'},\n",
    "        {'selector': 'td','props':'text-align:center; background-color:#2d2d2d;font-weight:bold'},\n",
    "        {'selector':'.bid','props':'color:green'},\n",
    "        {'selector':'.ask','props':'color:red'},\n",
    "    ],overwrite=False)\n",
    "\n",
    "    s.set_td_classes(df_mask)   \n",
    "\n",
    "    idxs = df.index[df['side'] == 'bid'].tolist()\n",
    "    idx = pd.IndexSlice\n",
    "    s.bar(subset=idx[:idxs[-1],'quantity'], color='#dbeac5')\n",
    "    s.bar(subset=idx[idxs[-1]+1:,'quantity'], color='#ff9090')\n",
    "\n",
    "    return s "
   ]
  },
  {
   "cell_type": "markdown",
   "id": "6e6fa215",
   "metadata": {},
   "source": [
    "Then you launch the loop that updates the widget"
   ]
  },
  {
   "cell_type": "code",
   "execution_count": 68,
   "id": "ba5ce2be",
   "metadata": {},
   "outputs": [],
   "source": [
    "import time\n",
    "\n",
    "count=0\n",
    "while count<100:\n",
    "    #time.sleep(5)\n",
    "    r = requests.get(\"https://api.binance.com/api/v3/depth\",params=dict(symbol=\"BTCBUSD\"))\n",
    "    response = r.json()\n",
    "\n",
    "    df_bid = pd.DataFrame.from_records(response['bids'], columns=['price', 'quantity']).astype('float')\n",
    "    df_bid['side'] = 'bid'\n",
    "\n",
    "    df_ask = pd.DataFrame.from_records(response['asks'], columns=['price', 'quantity']).astype('float')\n",
    "    df_ask['side'] = 'ask'\n",
    "\n",
    "    df = pd.concat([df_bid.sort_values(by=['price'])[-5:], df_ask[:5]], ignore_index=True)\n",
    "    count=count+1\n",
    "    \n",
    "    tab.value=style_pipe(df).to_html()"
   ]
  },
  {
   "cell_type": "markdown",
   "id": "4be22b79",
   "metadata": {},
   "source": [
    "## I try the same with figure widget"
   ]
  },
  {
   "cell_type": "code",
   "execution_count": 13,
   "id": "3bc57dbb",
   "metadata": {},
   "outputs": [
    {
     "data": {
      "application/vnd.jupyter.widget-view+json": {
       "model_id": "42f03c3a645447a89f51fb8961be2481",
       "version_major": 2,
       "version_minor": 0
      },
      "text/plain": [
       "FigureWidget({\n",
       "    'data': [{'marker': {'size': array([1.926075e+01, 5.610000e-02, 1.365000e-02, 3.206100e+00,…"
      ]
     },
     "metadata": {},
     "output_type": "display_data"
    }
   ],
   "source": [
    "import plotly.graph_objects as go\n",
    "\n",
    "fig = go.Figure()\n",
    "for df in [df_bid,df_ask]: fig.add_trace(go.Scatter(x=df['price'],y=df['quantity'],mode='markers',marker=dict(size=15*df['quantity'])))\n",
    "fwidg = go.FigureWidget(fig)\n",
    "\n",
    "fwidg\n",
    "\n"
   ]
  },
  {
   "cell_type": "code",
   "execution_count": 14,
   "id": "fbe3fb51-4bfd-46cb-a1e0-3b75e01ddbc8",
   "metadata": {},
   "outputs": [],
   "source": [
    "count=0\n",
    "while count<100:\n",
    "    #time.sleep(5)\n",
    "    r = requests.get(\"https://api.binance.com/api/v3/depth\",params=dict(symbol=\"BTCBUSD\"))\n",
    "    response = r.json()\n",
    "\n",
    "    df_bid = pd.DataFrame.from_records(response['bids'], columns=['price', 'quantity']).astype('float')\n",
    "    df_ask = pd.DataFrame.from_records(response['asks'], columns=['price', 'quantity']).astype('float')\n",
    "    \n",
    "    bid = fwidg.data[0]\n",
    "    bid.x = df_bid['price']\n",
    "    bid.y = df_bid['quantity']\n",
    "    \n",
    "    bid = fwidg.data[1]\n",
    "    bid.x = df_ask['price']\n",
    "    bid.y = df_ask['quantity']\n",
    "    \n",
    "    count=count+1\n",
    "    \n",
    "   "
   ]
  },
  {
   "cell_type": "code",
   "execution_count": 6,
   "id": "770dfd8a",
   "metadata": {},
   "outputs": [
    {
     "data": {
      "text/html": [
       "<div>\n",
       "<style scoped>\n",
       "    .dataframe tbody tr th:only-of-type {\n",
       "        vertical-align: middle;\n",
       "    }\n",
       "\n",
       "    .dataframe tbody tr th {\n",
       "        vertical-align: top;\n",
       "    }\n",
       "\n",
       "    .dataframe thead tr th {\n",
       "        text-align: left;\n",
       "    }\n",
       "\n",
       "    .dataframe thead tr:last-of-type th {\n",
       "        text-align: right;\n",
       "    }\n",
       "</style>\n",
       "<table border=\"1\" class=\"dataframe\">\n",
       "  <thead>\n",
       "    <tr>\n",
       "      <th></th>\n",
       "      <th colspan=\"8\" halign=\"left\">price</th>\n",
       "      <th colspan=\"8\" halign=\"left\">quantity</th>\n",
       "    </tr>\n",
       "    <tr>\n",
       "      <th></th>\n",
       "      <th>count</th>\n",
       "      <th>mean</th>\n",
       "      <th>std</th>\n",
       "      <th>min</th>\n",
       "      <th>25%</th>\n",
       "      <th>50%</th>\n",
       "      <th>75%</th>\n",
       "      <th>max</th>\n",
       "      <th>count</th>\n",
       "      <th>mean</th>\n",
       "      <th>std</th>\n",
       "      <th>min</th>\n",
       "      <th>25%</th>\n",
       "      <th>50%</th>\n",
       "      <th>75%</th>\n",
       "      <th>max</th>\n",
       "    </tr>\n",
       "    <tr>\n",
       "      <th>side</th>\n",
       "      <th></th>\n",
       "      <th></th>\n",
       "      <th></th>\n",
       "      <th></th>\n",
       "      <th></th>\n",
       "      <th></th>\n",
       "      <th></th>\n",
       "      <th></th>\n",
       "      <th></th>\n",
       "      <th></th>\n",
       "      <th></th>\n",
       "      <th></th>\n",
       "      <th></th>\n",
       "      <th></th>\n",
       "      <th></th>\n",
       "      <th></th>\n",
       "    </tr>\n",
       "  </thead>\n",
       "  <tbody>\n",
       "    <tr>\n",
       "      <th>ask</th>\n",
       "      <td>100.0</td>\n",
       "      <td>18.8390</td>\n",
       "      <td>0.341182</td>\n",
       "      <td>18.27</td>\n",
       "      <td>18.5575</td>\n",
       "      <td>18.835</td>\n",
       "      <td>19.1125</td>\n",
       "      <td>19.45</td>\n",
       "      <td>100.0</td>\n",
       "      <td>96.6341</td>\n",
       "      <td>279.124464</td>\n",
       "      <td>0.53</td>\n",
       "      <td>2.5375</td>\n",
       "      <td>8.745</td>\n",
       "      <td>43.49</td>\n",
       "      <td>1766.52</td>\n",
       "    </tr>\n",
       "    <tr>\n",
       "      <th>bid</th>\n",
       "      <td>100.0</td>\n",
       "      <td>17.7111</td>\n",
       "      <td>0.347025</td>\n",
       "      <td>17.07</td>\n",
       "      <td>17.4275</td>\n",
       "      <td>17.725</td>\n",
       "      <td>18.0125</td>\n",
       "      <td>18.26</td>\n",
       "      <td>100.0</td>\n",
       "      <td>201.5327</td>\n",
       "      <td>637.255790</td>\n",
       "      <td>0.60</td>\n",
       "      <td>4.3600</td>\n",
       "      <td>16.530</td>\n",
       "      <td>69.74</td>\n",
       "      <td>4507.90</td>\n",
       "    </tr>\n",
       "  </tbody>\n",
       "</table>\n",
       "</div>"
      ],
      "text/plain": [
       "      price                                                             \\\n",
       "      count     mean       std    min      25%     50%      75%    max   \n",
       "side                                                                     \n",
       "ask   100.0  18.8390  0.341182  18.27  18.5575  18.835  19.1125  19.45   \n",
       "bid   100.0  17.7111  0.347025  17.07  17.4275  17.725  18.0125  18.26   \n",
       "\n",
       "     quantity                                                              \n",
       "        count      mean         std   min     25%     50%    75%      max  \n",
       "side                                                                       \n",
       "ask     100.0   96.6341  279.124464  0.53  2.5375   8.745  43.49  1766.52  \n",
       "bid     100.0  201.5327  637.255790  0.60  4.3600  16.530  69.74  4507.90  "
      ]
     },
     "execution_count": 6,
     "metadata": {},
     "output_type": "execute_result"
    }
   ],
   "source": [
    "df.groupby('side').describe()"
   ]
  },
  {
   "cell_type": "code",
   "execution_count": 7,
   "id": "a165a9e7",
   "metadata": {},
   "outputs": [
    {
     "data": {
      "application/vnd.plotly.v1+json": {
       "config": {
        "plotlyServerURL": "https://plot.ly"
       },
       "data": [
        {
         "hovertemplate": "side=bid<br>price=%{x}<br>quantity=%{marker.size}<extra></extra>",
         "legendgroup": "bid",
         "marker": {
          "color": "#636efa",
          "size": [
           24.4,
           89.93,
           340.12,
           81.38,
           52.27,
           471.56,
           154.28,
           651.66,
           9.62,
           191.79,
           57.31,
           605.7,
           560.17,
           1670.14,
           980.11,
           1710.78,
           32.95,
           134.14,
           3.57,
           16.72,
           3670.58,
           49.03,
           51.99,
           1249.46,
           708.8,
           100.61,
           131.12,
           4507.9,
           38.86,
           1.67,
           44.85,
           1.5,
           72.44,
           15.91,
           199.83,
           59.66,
           13.88,
           18.39,
           55.31,
           9.29,
           2.8,
           50.3,
           11.95,
           18.3,
           40.38,
           41.32,
           5.65,
           50.57,
           51.71,
           0.6,
           16.75,
           9.71,
           14.5,
           53.27,
           5.1,
           4.4,
           0.62,
           130.13,
           23.61,
           23.54,
           54.46,
           15.59,
           5.08,
           9.28,
           1.71,
           3.74,
           4.24,
           0.6,
           129.72,
           0.82,
           11.95,
           0.68,
           68.84,
           3.63,
           7,
           162.53,
           1.38,
           9.28,
           8.5,
           3.81,
           2.11,
           9.41,
           2.88,
           2.67,
           16.34,
           9.23,
           0.74,
           4.11,
           1.22,
           10.08,
           56.78,
           4.05,
           9.15,
           2.5,
           5.38,
           13.35,
           0.6,
           2.14,
           88.16,
           14.64
          ],
          "sizemode": "area",
          "sizeref": 11.269749999999998,
          "symbol": "circle"
         },
         "mode": "markers",
         "name": "bid",
         "orientation": "v",
         "showlegend": true,
         "type": "scatter",
         "x": [
          18.26,
          18.25,
          18.24,
          18.23,
          18.22,
          18.21,
          18.2,
          18.19,
          18.18,
          18.17,
          18.16,
          18.15,
          18.14,
          18.13,
          18.12,
          18.11,
          18.1,
          18.09,
          18.08,
          18.07,
          18.06,
          18.05,
          18.04,
          18.03,
          18.02,
          18.01,
          18,
          17.99,
          17.98,
          17.97,
          17.96,
          17.95,
          17.94,
          17.93,
          17.92,
          17.91,
          17.9,
          17.89,
          17.87,
          17.86,
          17.85,
          17.83,
          17.82,
          17.81,
          17.8,
          17.78,
          17.76,
          17.75,
          17.74,
          17.73,
          17.72,
          17.71,
          17.7,
          17.69,
          17.68,
          17.67,
          17.66,
          17.65,
          17.64,
          17.62,
          17.61,
          17.6,
          17.59,
          17.58,
          17.56,
          17.54,
          17.53,
          17.51,
          17.5,
          17.49,
          17.47,
          17.46,
          17.45,
          17.44,
          17.43,
          17.42,
          17.41,
          17.4,
          17.37,
          17.36,
          17.35,
          17.34,
          17.32,
          17.31,
          17.3,
          17.28,
          17.27,
          17.23,
          17.22,
          17.2,
          17.19,
          17.18,
          17.17,
          17.16,
          17.15,
          17.13,
          17.12,
          17.11,
          17.1,
          17.07
         ],
         "xaxis": "x",
         "y": [
          24.4,
          89.93,
          340.12,
          81.38,
          52.27,
          471.56,
          154.28,
          651.66,
          9.62,
          191.79,
          57.31,
          605.7,
          560.17,
          1670.14,
          980.11,
          1710.78,
          32.95,
          134.14,
          3.57,
          16.72,
          3670.58,
          49.03,
          51.99,
          1249.46,
          708.8,
          100.61,
          131.12,
          4507.9,
          38.86,
          1.67,
          44.85,
          1.5,
          72.44,
          15.91,
          199.83,
          59.66,
          13.88,
          18.39,
          55.31,
          9.29,
          2.8,
          50.3,
          11.95,
          18.3,
          40.38,
          41.32,
          5.65,
          50.57,
          51.71,
          0.6,
          16.75,
          9.71,
          14.5,
          53.27,
          5.1,
          4.4,
          0.62,
          130.13,
          23.61,
          23.54,
          54.46,
          15.59,
          5.08,
          9.28,
          1.71,
          3.74,
          4.24,
          0.6,
          129.72,
          0.82,
          11.95,
          0.68,
          68.84,
          3.63,
          7,
          162.53,
          1.38,
          9.28,
          8.5,
          3.81,
          2.11,
          9.41,
          2.88,
          2.67,
          16.34,
          9.23,
          0.74,
          4.11,
          1.22,
          10.08,
          56.78,
          4.05,
          9.15,
          2.5,
          5.38,
          13.35,
          0.6,
          2.14,
          88.16,
          14.64
         ],
         "yaxis": "y"
        },
        {
         "hovertemplate": "side=ask<br>price=%{x}<br>quantity=%{marker.size}<extra></extra>",
         "legendgroup": "ask",
         "marker": {
          "color": "#EF553B",
          "size": [
           7.62,
           68.15,
           299.66,
           173.09,
           418.45,
           55.53,
           51.5,
           198.96,
           1766.52,
           26.16,
           833.45,
           1208.01,
           3.67,
           436.68,
           961.13,
           43.15,
           0.98,
           1314.98,
           266.67,
           54.42,
           37.13,
           20.58,
           26.48,
           8.98,
           45.21,
           2.5,
           2.75,
           34.96,
           1.23,
           0.56,
           33.75,
           3.35,
           7.01,
           38.47,
           11.12,
           1.47,
           35.41,
           3.18,
           182.14,
           34.26,
           1.78,
           41.72,
           0.59,
           39.69,
           44.51,
           21.97,
           38.16,
           8.12,
           1.1,
           14.66,
           3.81,
           6.86,
           45.05,
           2.68,
           6.57,
           8.51,
           10.98,
           52.3,
           2.29,
           3.05,
           0.53,
           0.6,
           57,
           0.59,
           180.23,
           49.06,
           13.32,
           2.55,
           0.59,
           2.65,
           45.78,
           2.2,
           2.06,
           3.78,
           4.34,
           5.78,
           1.2,
           0.59,
           3.27,
           10.45,
           0.54,
           24.47,
           10.99,
           0.59,
           21.83,
           3.67,
           10.26,
           2.61,
           1.04,
           2.41,
           11.41,
           3.19,
           4.51,
           7.38,
           0.58,
           1.39,
           90.6,
           0.53,
           3.39,
           1.73
          ],
          "sizemode": "area",
          "sizeref": 11.269749999999998,
          "symbol": "circle"
         },
         "mode": "markers",
         "name": "ask",
         "orientation": "v",
         "showlegend": true,
         "type": "scatter",
         "x": [
          18.27,
          18.28,
          18.29,
          18.3,
          18.31,
          18.32,
          18.33,
          18.34,
          18.36,
          18.37,
          18.38,
          18.39,
          18.4,
          18.41,
          18.42,
          18.43,
          18.45,
          18.46,
          18.47,
          18.48,
          18.49,
          18.5,
          18.52,
          18.54,
          18.55,
          18.56,
          18.57,
          18.58,
          18.59,
          18.6,
          18.62,
          18.63,
          18.64,
          18.65,
          18.66,
          18.67,
          18.68,
          18.69,
          18.7,
          18.71,
          18.73,
          18.74,
          18.75,
          18.77,
          18.78,
          18.79,
          18.8,
          18.81,
          18.82,
          18.83,
          18.84,
          18.85,
          18.86,
          18.87,
          18.88,
          18.89,
          18.9,
          18.91,
          18.92,
          18.93,
          18.94,
          18.95,
          18.96,
          18.99,
          19,
          19.01,
          19.02,
          19.03,
          19.04,
          19.05,
          19.06,
          19.07,
          19.08,
          19.1,
          19.11,
          19.12,
          19.13,
          19.14,
          19.15,
          19.17,
          19.19,
          19.21,
          19.24,
          19.25,
          19.26,
          19.27,
          19.28,
          19.29,
          19.3,
          19.31,
          19.34,
          19.35,
          19.36,
          19.37,
          19.38,
          19.39,
          19.4,
          19.42,
          19.44,
          19.45
         ],
         "xaxis": "x",
         "y": [
          7.62,
          68.15,
          299.66,
          173.09,
          418.45,
          55.53,
          51.5,
          198.96,
          1766.52,
          26.16,
          833.45,
          1208.01,
          3.67,
          436.68,
          961.13,
          43.15,
          0.98,
          1314.98,
          266.67,
          54.42,
          37.13,
          20.58,
          26.48,
          8.98,
          45.21,
          2.5,
          2.75,
          34.96,
          1.23,
          0.56,
          33.75,
          3.35,
          7.01,
          38.47,
          11.12,
          1.47,
          35.41,
          3.18,
          182.14,
          34.26,
          1.78,
          41.72,
          0.59,
          39.69,
          44.51,
          21.97,
          38.16,
          8.12,
          1.1,
          14.66,
          3.81,
          6.86,
          45.05,
          2.68,
          6.57,
          8.51,
          10.98,
          52.3,
          2.29,
          3.05,
          0.53,
          0.6,
          57,
          0.59,
          180.23,
          49.06,
          13.32,
          2.55,
          0.59,
          2.65,
          45.78,
          2.2,
          2.06,
          3.78,
          4.34,
          5.78,
          1.2,
          0.59,
          3.27,
          10.45,
          0.54,
          24.47,
          10.99,
          0.59,
          21.83,
          3.67,
          10.26,
          2.61,
          1.04,
          2.41,
          11.41,
          3.19,
          4.51,
          7.38,
          0.58,
          1.39,
          90.6,
          0.53,
          3.39,
          1.73
         ],
         "yaxis": "y"
        }
       ],
       "layout": {
        "autosize": true,
        "legend": {
         "itemsizing": "constant",
         "title": {
          "text": "side"
         },
         "tracegroupgap": 0
        },
        "margin": {
         "t": 60
        },
        "template": {
         "data": {
          "bar": [
           {
            "error_x": {
             "color": "#2a3f5f"
            },
            "error_y": {
             "color": "#2a3f5f"
            },
            "marker": {
             "line": {
              "color": "#E5ECF6",
              "width": 0.5
             },
             "pattern": {
              "fillmode": "overlay",
              "size": 10,
              "solidity": 0.2
             }
            },
            "type": "bar"
           }
          ],
          "barpolar": [
           {
            "marker": {
             "line": {
              "color": "#E5ECF6",
              "width": 0.5
             },
             "pattern": {
              "fillmode": "overlay",
              "size": 10,
              "solidity": 0.2
             }
            },
            "type": "barpolar"
           }
          ],
          "carpet": [
           {
            "aaxis": {
             "endlinecolor": "#2a3f5f",
             "gridcolor": "white",
             "linecolor": "white",
             "minorgridcolor": "white",
             "startlinecolor": "#2a3f5f"
            },
            "baxis": {
             "endlinecolor": "#2a3f5f",
             "gridcolor": "white",
             "linecolor": "white",
             "minorgridcolor": "white",
             "startlinecolor": "#2a3f5f"
            },
            "type": "carpet"
           }
          ],
          "choropleth": [
           {
            "colorbar": {
             "outlinewidth": 0,
             "ticks": ""
            },
            "type": "choropleth"
           }
          ],
          "contour": [
           {
            "colorbar": {
             "outlinewidth": 0,
             "ticks": ""
            },
            "colorscale": [
             [
              0,
              "#0d0887"
             ],
             [
              0.1111111111111111,
              "#46039f"
             ],
             [
              0.2222222222222222,
              "#7201a8"
             ],
             [
              0.3333333333333333,
              "#9c179e"
             ],
             [
              0.4444444444444444,
              "#bd3786"
             ],
             [
              0.5555555555555556,
              "#d8576b"
             ],
             [
              0.6666666666666666,
              "#ed7953"
             ],
             [
              0.7777777777777778,
              "#fb9f3a"
             ],
             [
              0.8888888888888888,
              "#fdca26"
             ],
             [
              1,
              "#f0f921"
             ]
            ],
            "type": "contour"
           }
          ],
          "contourcarpet": [
           {
            "colorbar": {
             "outlinewidth": 0,
             "ticks": ""
            },
            "type": "contourcarpet"
           }
          ],
          "heatmap": [
           {
            "colorbar": {
             "outlinewidth": 0,
             "ticks": ""
            },
            "colorscale": [
             [
              0,
              "#0d0887"
             ],
             [
              0.1111111111111111,
              "#46039f"
             ],
             [
              0.2222222222222222,
              "#7201a8"
             ],
             [
              0.3333333333333333,
              "#9c179e"
             ],
             [
              0.4444444444444444,
              "#bd3786"
             ],
             [
              0.5555555555555556,
              "#d8576b"
             ],
             [
              0.6666666666666666,
              "#ed7953"
             ],
             [
              0.7777777777777778,
              "#fb9f3a"
             ],
             [
              0.8888888888888888,
              "#fdca26"
             ],
             [
              1,
              "#f0f921"
             ]
            ],
            "type": "heatmap"
           }
          ],
          "heatmapgl": [
           {
            "colorbar": {
             "outlinewidth": 0,
             "ticks": ""
            },
            "colorscale": [
             [
              0,
              "#0d0887"
             ],
             [
              0.1111111111111111,
              "#46039f"
             ],
             [
              0.2222222222222222,
              "#7201a8"
             ],
             [
              0.3333333333333333,
              "#9c179e"
             ],
             [
              0.4444444444444444,
              "#bd3786"
             ],
             [
              0.5555555555555556,
              "#d8576b"
             ],
             [
              0.6666666666666666,
              "#ed7953"
             ],
             [
              0.7777777777777778,
              "#fb9f3a"
             ],
             [
              0.8888888888888888,
              "#fdca26"
             ],
             [
              1,
              "#f0f921"
             ]
            ],
            "type": "heatmapgl"
           }
          ],
          "histogram": [
           {
            "marker": {
             "pattern": {
              "fillmode": "overlay",
              "size": 10,
              "solidity": 0.2
             }
            },
            "type": "histogram"
           }
          ],
          "histogram2d": [
           {
            "colorbar": {
             "outlinewidth": 0,
             "ticks": ""
            },
            "colorscale": [
             [
              0,
              "#0d0887"
             ],
             [
              0.1111111111111111,
              "#46039f"
             ],
             [
              0.2222222222222222,
              "#7201a8"
             ],
             [
              0.3333333333333333,
              "#9c179e"
             ],
             [
              0.4444444444444444,
              "#bd3786"
             ],
             [
              0.5555555555555556,
              "#d8576b"
             ],
             [
              0.6666666666666666,
              "#ed7953"
             ],
             [
              0.7777777777777778,
              "#fb9f3a"
             ],
             [
              0.8888888888888888,
              "#fdca26"
             ],
             [
              1,
              "#f0f921"
             ]
            ],
            "type": "histogram2d"
           }
          ],
          "histogram2dcontour": [
           {
            "colorbar": {
             "outlinewidth": 0,
             "ticks": ""
            },
            "colorscale": [
             [
              0,
              "#0d0887"
             ],
             [
              0.1111111111111111,
              "#46039f"
             ],
             [
              0.2222222222222222,
              "#7201a8"
             ],
             [
              0.3333333333333333,
              "#9c179e"
             ],
             [
              0.4444444444444444,
              "#bd3786"
             ],
             [
              0.5555555555555556,
              "#d8576b"
             ],
             [
              0.6666666666666666,
              "#ed7953"
             ],
             [
              0.7777777777777778,
              "#fb9f3a"
             ],
             [
              0.8888888888888888,
              "#fdca26"
             ],
             [
              1,
              "#f0f921"
             ]
            ],
            "type": "histogram2dcontour"
           }
          ],
          "mesh3d": [
           {
            "colorbar": {
             "outlinewidth": 0,
             "ticks": ""
            },
            "type": "mesh3d"
           }
          ],
          "parcoords": [
           {
            "line": {
             "colorbar": {
              "outlinewidth": 0,
              "ticks": ""
             }
            },
            "type": "parcoords"
           }
          ],
          "pie": [
           {
            "automargin": true,
            "type": "pie"
           }
          ],
          "scatter": [
           {
            "marker": {
             "colorbar": {
              "outlinewidth": 0,
              "ticks": ""
             }
            },
            "type": "scatter"
           }
          ],
          "scatter3d": [
           {
            "line": {
             "colorbar": {
              "outlinewidth": 0,
              "ticks": ""
             }
            },
            "marker": {
             "colorbar": {
              "outlinewidth": 0,
              "ticks": ""
             }
            },
            "type": "scatter3d"
           }
          ],
          "scattercarpet": [
           {
            "marker": {
             "colorbar": {
              "outlinewidth": 0,
              "ticks": ""
             }
            },
            "type": "scattercarpet"
           }
          ],
          "scattergeo": [
           {
            "marker": {
             "colorbar": {
              "outlinewidth": 0,
              "ticks": ""
             }
            },
            "type": "scattergeo"
           }
          ],
          "scattergl": [
           {
            "marker": {
             "colorbar": {
              "outlinewidth": 0,
              "ticks": ""
             }
            },
            "type": "scattergl"
           }
          ],
          "scattermapbox": [
           {
            "marker": {
             "colorbar": {
              "outlinewidth": 0,
              "ticks": ""
             }
            },
            "type": "scattermapbox"
           }
          ],
          "scatterpolar": [
           {
            "marker": {
             "colorbar": {
              "outlinewidth": 0,
              "ticks": ""
             }
            },
            "type": "scatterpolar"
           }
          ],
          "scatterpolargl": [
           {
            "marker": {
             "colorbar": {
              "outlinewidth": 0,
              "ticks": ""
             }
            },
            "type": "scatterpolargl"
           }
          ],
          "scatterternary": [
           {
            "marker": {
             "colorbar": {
              "outlinewidth": 0,
              "ticks": ""
             }
            },
            "type": "scatterternary"
           }
          ],
          "surface": [
           {
            "colorbar": {
             "outlinewidth": 0,
             "ticks": ""
            },
            "colorscale": [
             [
              0,
              "#0d0887"
             ],
             [
              0.1111111111111111,
              "#46039f"
             ],
             [
              0.2222222222222222,
              "#7201a8"
             ],
             [
              0.3333333333333333,
              "#9c179e"
             ],
             [
              0.4444444444444444,
              "#bd3786"
             ],
             [
              0.5555555555555556,
              "#d8576b"
             ],
             [
              0.6666666666666666,
              "#ed7953"
             ],
             [
              0.7777777777777778,
              "#fb9f3a"
             ],
             [
              0.8888888888888888,
              "#fdca26"
             ],
             [
              1,
              "#f0f921"
             ]
            ],
            "type": "surface"
           }
          ],
          "table": [
           {
            "cells": {
             "fill": {
              "color": "#EBF0F8"
             },
             "line": {
              "color": "white"
             }
            },
            "header": {
             "fill": {
              "color": "#C8D4E3"
             },
             "line": {
              "color": "white"
             }
            },
            "type": "table"
           }
          ]
         },
         "layout": {
          "annotationdefaults": {
           "arrowcolor": "#2a3f5f",
           "arrowhead": 0,
           "arrowwidth": 1
          },
          "autotypenumbers": "strict",
          "coloraxis": {
           "colorbar": {
            "outlinewidth": 0,
            "ticks": ""
           }
          },
          "colorscale": {
           "diverging": [
            [
             0,
             "#8e0152"
            ],
            [
             0.1,
             "#c51b7d"
            ],
            [
             0.2,
             "#de77ae"
            ],
            [
             0.3,
             "#f1b6da"
            ],
            [
             0.4,
             "#fde0ef"
            ],
            [
             0.5,
             "#f7f7f7"
            ],
            [
             0.6,
             "#e6f5d0"
            ],
            [
             0.7,
             "#b8e186"
            ],
            [
             0.8,
             "#7fbc41"
            ],
            [
             0.9,
             "#4d9221"
            ],
            [
             1,
             "#276419"
            ]
           ],
           "sequential": [
            [
             0,
             "#0d0887"
            ],
            [
             0.1111111111111111,
             "#46039f"
            ],
            [
             0.2222222222222222,
             "#7201a8"
            ],
            [
             0.3333333333333333,
             "#9c179e"
            ],
            [
             0.4444444444444444,
             "#bd3786"
            ],
            [
             0.5555555555555556,
             "#d8576b"
            ],
            [
             0.6666666666666666,
             "#ed7953"
            ],
            [
             0.7777777777777778,
             "#fb9f3a"
            ],
            [
             0.8888888888888888,
             "#fdca26"
            ],
            [
             1,
             "#f0f921"
            ]
           ],
           "sequentialminus": [
            [
             0,
             "#0d0887"
            ],
            [
             0.1111111111111111,
             "#46039f"
            ],
            [
             0.2222222222222222,
             "#7201a8"
            ],
            [
             0.3333333333333333,
             "#9c179e"
            ],
            [
             0.4444444444444444,
             "#bd3786"
            ],
            [
             0.5555555555555556,
             "#d8576b"
            ],
            [
             0.6666666666666666,
             "#ed7953"
            ],
            [
             0.7777777777777778,
             "#fb9f3a"
            ],
            [
             0.8888888888888888,
             "#fdca26"
            ],
            [
             1,
             "#f0f921"
            ]
           ]
          },
          "colorway": [
           "#636efa",
           "#EF553B",
           "#00cc96",
           "#ab63fa",
           "#FFA15A",
           "#19d3f3",
           "#FF6692",
           "#B6E880",
           "#FF97FF",
           "#FECB52"
          ],
          "font": {
           "color": "#2a3f5f"
          },
          "geo": {
           "bgcolor": "white",
           "lakecolor": "white",
           "landcolor": "#E5ECF6",
           "showlakes": true,
           "showland": true,
           "subunitcolor": "white"
          },
          "hoverlabel": {
           "align": "left"
          },
          "hovermode": "closest",
          "mapbox": {
           "style": "light"
          },
          "paper_bgcolor": "white",
          "plot_bgcolor": "#E5ECF6",
          "polar": {
           "angularaxis": {
            "gridcolor": "white",
            "linecolor": "white",
            "ticks": ""
           },
           "bgcolor": "#E5ECF6",
           "radialaxis": {
            "gridcolor": "white",
            "linecolor": "white",
            "ticks": ""
           }
          },
          "scene": {
           "xaxis": {
            "backgroundcolor": "#E5ECF6",
            "gridcolor": "white",
            "gridwidth": 2,
            "linecolor": "white",
            "showbackground": true,
            "ticks": "",
            "zerolinecolor": "white"
           },
           "yaxis": {
            "backgroundcolor": "#E5ECF6",
            "gridcolor": "white",
            "gridwidth": 2,
            "linecolor": "white",
            "showbackground": true,
            "ticks": "",
            "zerolinecolor": "white"
           },
           "zaxis": {
            "backgroundcolor": "#E5ECF6",
            "gridcolor": "white",
            "gridwidth": 2,
            "linecolor": "white",
            "showbackground": true,
            "ticks": "",
            "zerolinecolor": "white"
           }
          },
          "shapedefaults": {
           "line": {
            "color": "#2a3f5f"
           }
          },
          "ternary": {
           "aaxis": {
            "gridcolor": "white",
            "linecolor": "white",
            "ticks": ""
           },
           "baxis": {
            "gridcolor": "white",
            "linecolor": "white",
            "ticks": ""
           },
           "bgcolor": "#E5ECF6",
           "caxis": {
            "gridcolor": "white",
            "linecolor": "white",
            "ticks": ""
           }
          },
          "title": {
           "x": 0.05
          },
          "xaxis": {
           "automargin": true,
           "gridcolor": "white",
           "linecolor": "white",
           "ticks": "",
           "title": {
            "standoff": 15
           },
           "zerolinecolor": "white",
           "zerolinewidth": 2
          },
          "yaxis": {
           "automargin": true,
           "gridcolor": "white",
           "linecolor": "white",
           "ticks": "",
           "title": {
            "standoff": 15
           },
           "zerolinecolor": "white",
           "zerolinewidth": 2
          }
         }
        },
        "xaxis": {
         "anchor": "y",
         "autorange": true,
         "domain": [
          0,
          1
         ],
         "range": [
          16.924285714285716,
          19.595714285714283
         ],
         "title": {
          "text": "price"
         },
         "type": "linear"
        },
        "yaxis": {
         "anchor": "x",
         "autorange": true,
         "domain": [
          0,
          1
         ],
         "range": [
          -351.6306613368079,
          5182.322588241603
         ],
         "title": {
          "text": "quantity"
         },
         "type": "linear"
        }
       }
      },
      "image/png": "[encoded data removed]"
     },
     "metadata": {},
     "output_type": "display_data"
    }
   ],
   "source": [
    "import plotly.express as px\n",
    "fig = px.scatter(df, x=\"price\", y=\"quantity\", color=\"side\",size='quantity')\n",
    "fig.show()"
   ]
  },
  {
   "cell_type": "code",
   "execution_count": 15,
   "id": "e786cbf5",
   "metadata": {},
   "outputs": [
    {
     "data": {
      "text/plain": [
       "0     0.524047\n",
       "1     0.202841\n",
       "2     0.095219\n",
       "3    -0.011703\n",
       "4    -0.243635\n",
       "        ...   \n",
       "95    0.353895\n",
       "96    0.349779\n",
       "97    0.349802\n",
       "98    0.351572\n",
       "99    0.351812\n",
       "Name: depth_volume, Length: 100, dtype: float64"
      ]
     },
     "execution_count": 15,
     "metadata": {},
     "output_type": "execute_result"
    }
   ],
   "source": [
    "df_bid['depth_volume']=df_bid.cumsum().quantity\n",
    "df_ask['depth_volume']=df_ask.cumsum().quantity\n",
    "df_ask\n",
    "\n",
    "rho = (df_bid['depth_volume']-df_ask['depth_volume'])/(df_bid['depth_volume']+df_ask['depth_volume'])\n",
    "rho"
   ]
  },
  {
   "cell_type": "code",
   "execution_count": 18,
   "id": "912294f6",
   "metadata": {},
   "outputs": [
    {
     "data": {
      "application/vnd.plotly.v1+json": {
       "config": {
        "plotlyServerURL": "https://plot.ly"
       },
       "data": [
        {
         "alignmentgroup": "True",
         "hovertemplate": "variable=depth_volume<br>index=%{x}<br>value=%{y}<extra></extra>",
         "legendgroup": "depth_volume",
         "marker": {
          "color": "#636efa",
          "pattern": {
           "shape": ""
          }
         },
         "name": "depth_volume",
         "offsetgroup": "depth_volume",
         "orientation": "v",
         "showlegend": true,
         "textposition": "auto",
         "type": "bar",
         "x": [
          0,
          1,
          2,
          3,
          4,
          5,
          6,
          7,
          8,
          9
         ],
         "xaxis": "x",
         "y": [
          0.524047470331043,
          0.20284061020515518,
          0.09521858581963653,
          -0.011702863466592939,
          -0.24363533474377358,
          0.01784685134667849,
          0.061164191368654794,
          0.1888254486133768,
          -0.236893401428368,
          -0.19456421146970868
         ],
         "yaxis": "y"
        }
       ],
       "layout": {
        "autosize": true,
        "barmode": "relative",
        "legend": {
         "title": {
          "text": "variable"
         },
         "tracegroupgap": 0
        },
        "margin": {
         "t": 60
        },
        "template": {
         "data": {
          "bar": [
           {
            "error_x": {
             "color": "#2a3f5f"
            },
            "error_y": {
             "color": "#2a3f5f"
            },
            "marker": {
             "line": {
              "color": "#E5ECF6",
              "width": 0.5
             },
             "pattern": {
              "fillmode": "overlay",
              "size": 10,
              "solidity": 0.2
             }
            },
            "type": "bar"
           }
          ],
          "barpolar": [
           {
            "marker": {
             "line": {
              "color": "#E5ECF6",
              "width": 0.5
             },
             "pattern": {
              "fillmode": "overlay",
              "size": 10,
              "solidity": 0.2
             }
            },
            "type": "barpolar"
           }
          ],
          "carpet": [
           {
            "aaxis": {
             "endlinecolor": "#2a3f5f",
             "gridcolor": "white",
             "linecolor": "white",
             "minorgridcolor": "white",
             "startlinecolor": "#2a3f5f"
            },
            "baxis": {
             "endlinecolor": "#2a3f5f",
             "gridcolor": "white",
             "linecolor": "white",
             "minorgridcolor": "white",
             "startlinecolor": "#2a3f5f"
            },
            "type": "carpet"
           }
          ],
          "choropleth": [
           {
            "colorbar": {
             "outlinewidth": 0,
             "ticks": ""
            },
            "type": "choropleth"
           }
          ],
          "contour": [
           {
            "colorbar": {
             "outlinewidth": 0,
             "ticks": ""
            },
            "colorscale": [
             [
              0,
              "#0d0887"
             ],
             [
              0.1111111111111111,
              "#46039f"
             ],
             [
              0.2222222222222222,
              "#7201a8"
             ],
             [
              0.3333333333333333,
              "#9c179e"
             ],
             [
              0.4444444444444444,
              "#bd3786"
             ],
             [
              0.5555555555555556,
              "#d8576b"
             ],
             [
              0.6666666666666666,
              "#ed7953"
             ],
             [
              0.7777777777777778,
              "#fb9f3a"
             ],
             [
              0.8888888888888888,
              "#fdca26"
             ],
             [
              1,
              "#f0f921"
             ]
            ],
            "type": "contour"
           }
          ],
          "contourcarpet": [
           {
            "colorbar": {
             "outlinewidth": 0,
             "ticks": ""
            },
            "type": "contourcarpet"
           }
          ],
          "heatmap": [
           {
            "colorbar": {
             "outlinewidth": 0,
             "ticks": ""
            },
            "colorscale": [
             [
              0,
              "#0d0887"
             ],
             [
              0.1111111111111111,
              "#46039f"
             ],
             [
              0.2222222222222222,
              "#7201a8"
             ],
             [
              0.3333333333333333,
              "#9c179e"
             ],
             [
              0.4444444444444444,
              "#bd3786"
             ],
             [
              0.5555555555555556,
              "#d8576b"
             ],
             [
              0.6666666666666666,
              "#ed7953"
             ],
             [
              0.7777777777777778,
              "#fb9f3a"
             ],
             [
              0.8888888888888888,
              "#fdca26"
             ],
             [
              1,
              "#f0f921"
             ]
            ],
            "type": "heatmap"
           }
          ],
          "heatmapgl": [
           {
            "colorbar": {
             "outlinewidth": 0,
             "ticks": ""
            },
            "colorscale": [
             [
              0,
              "#0d0887"
             ],
             [
              0.1111111111111111,
              "#46039f"
             ],
             [
              0.2222222222222222,
              "#7201a8"
             ],
             [
              0.3333333333333333,
              "#9c179e"
             ],
             [
              0.4444444444444444,
              "#bd3786"
             ],
             [
              0.5555555555555556,
              "#d8576b"
             ],
             [
              0.6666666666666666,
              "#ed7953"
             ],
             [
              0.7777777777777778,
              "#fb9f3a"
             ],
             [
              0.8888888888888888,
              "#fdca26"
             ],
             [
              1,
              "#f0f921"
             ]
            ],
            "type": "heatmapgl"
           }
          ],
          "histogram": [
           {
            "marker": {
             "pattern": {
              "fillmode": "overlay",
              "size": 10,
              "solidity": 0.2
             }
            },
            "type": "histogram"
           }
          ],
          "histogram2d": [
           {
            "colorbar": {
             "outlinewidth": 0,
             "ticks": ""
            },
            "colorscale": [
             [
              0,
              "#0d0887"
             ],
             [
              0.1111111111111111,
              "#46039f"
             ],
             [
              0.2222222222222222,
              "#7201a8"
             ],
             [
              0.3333333333333333,
              "#9c179e"
             ],
             [
              0.4444444444444444,
              "#bd3786"
             ],
             [
              0.5555555555555556,
              "#d8576b"
             ],
             [
              0.6666666666666666,
              "#ed7953"
             ],
             [
              0.7777777777777778,
              "#fb9f3a"
             ],
             [
              0.8888888888888888,
              "#fdca26"
             ],
             [
              1,
              "#f0f921"
             ]
            ],
            "type": "histogram2d"
           }
          ],
          "histogram2dcontour": [
           {
            "colorbar": {
             "outlinewidth": 0,
             "ticks": ""
            },
            "colorscale": [
             [
              0,
              "#0d0887"
             ],
             [
              0.1111111111111111,
              "#46039f"
             ],
             [
              0.2222222222222222,
              "#7201a8"
             ],
             [
              0.3333333333333333,
              "#9c179e"
             ],
             [
              0.4444444444444444,
              "#bd3786"
             ],
             [
              0.5555555555555556,
              "#d8576b"
             ],
             [
              0.6666666666666666,
              "#ed7953"
             ],
             [
              0.7777777777777778,
              "#fb9f3a"
             ],
             [
              0.8888888888888888,
              "#fdca26"
             ],
             [
              1,
              "#f0f921"
             ]
            ],
            "type": "histogram2dcontour"
           }
          ],
          "mesh3d": [
           {
            "colorbar": {
             "outlinewidth": 0,
             "ticks": ""
            },
            "type": "mesh3d"
           }
          ],
          "parcoords": [
           {
            "line": {
             "colorbar": {
              "outlinewidth": 0,
              "ticks": ""
             }
            },
            "type": "parcoords"
           }
          ],
          "pie": [
           {
            "automargin": true,
            "type": "pie"
           }
          ],
          "scatter": [
           {
            "marker": {
             "colorbar": {
              "outlinewidth": 0,
              "ticks": ""
             }
            },
            "type": "scatter"
           }
          ],
          "scatter3d": [
           {
            "line": {
             "colorbar": {
              "outlinewidth": 0,
              "ticks": ""
             }
            },
            "marker": {
             "colorbar": {
              "outlinewidth": 0,
              "ticks": ""
             }
            },
            "type": "scatter3d"
           }
          ],
          "scattercarpet": [
           {
            "marker": {
             "colorbar": {
              "outlinewidth": 0,
              "ticks": ""
             }
            },
            "type": "scattercarpet"
           }
          ],
          "scattergeo": [
           {
            "marker": {
             "colorbar": {
              "outlinewidth": 0,
              "ticks": ""
             }
            },
            "type": "scattergeo"
           }
          ],
          "scattergl": [
           {
            "marker": {
             "colorbar": {
              "outlinewidth": 0,
              "ticks": ""
             }
            },
            "type": "scattergl"
           }
          ],
          "scattermapbox": [
           {
            "marker": {
             "colorbar": {
              "outlinewidth": 0,
              "ticks": ""
             }
            },
            "type": "scattermapbox"
           }
          ],
          "scatterpolar": [
           {
            "marker": {
             "colorbar": {
              "outlinewidth": 0,
              "ticks": ""
             }
            },
            "type": "scatterpolar"
           }
          ],
          "scatterpolargl": [
           {
            "marker": {
             "colorbar": {
              "outlinewidth": 0,
              "ticks": ""
             }
            },
            "type": "scatterpolargl"
           }
          ],
          "scatterternary": [
           {
            "marker": {
             "colorbar": {
              "outlinewidth": 0,
              "ticks": ""
             }
            },
            "type": "scatterternary"
           }
          ],
          "surface": [
           {
            "colorbar": {
             "outlinewidth": 0,
             "ticks": ""
            },
            "colorscale": [
             [
              0,
              "#0d0887"
             ],
             [
              0.1111111111111111,
              "#46039f"
             ],
             [
              0.2222222222222222,
              "#7201a8"
             ],
             [
              0.3333333333333333,
              "#9c179e"
             ],
             [
              0.4444444444444444,
              "#bd3786"
             ],
             [
              0.5555555555555556,
              "#d8576b"
             ],
             [
              0.6666666666666666,
              "#ed7953"
             ],
             [
              0.7777777777777778,
              "#fb9f3a"
             ],
             [
              0.8888888888888888,
              "#fdca26"
             ],
             [
              1,
              "#f0f921"
             ]
            ],
            "type": "surface"
           }
          ],
          "table": [
           {
            "cells": {
             "fill": {
              "color": "#EBF0F8"
             },
             "line": {
              "color": "white"
             }
            },
            "header": {
             "fill": {
              "color": "#C8D4E3"
             },
             "line": {
              "color": "white"
             }
            },
            "type": "table"
           }
          ]
         },
         "layout": {
          "annotationdefaults": {
           "arrowcolor": "#2a3f5f",
           "arrowhead": 0,
           "arrowwidth": 1
          },
          "autotypenumbers": "strict",
          "coloraxis": {
           "colorbar": {
            "outlinewidth": 0,
            "ticks": ""
           }
          },
          "colorscale": {
           "diverging": [
            [
             0,
             "#8e0152"
            ],
            [
             0.1,
             "#c51b7d"
            ],
            [
             0.2,
             "#de77ae"
            ],
            [
             0.3,
             "#f1b6da"
            ],
            [
             0.4,
             "#fde0ef"
            ],
            [
             0.5,
             "#f7f7f7"
            ],
            [
             0.6,
             "#e6f5d0"
            ],
            [
             0.7,
             "#b8e186"
            ],
            [
             0.8,
             "#7fbc41"
            ],
            [
             0.9,
             "#4d9221"
            ],
            [
             1,
             "#276419"
            ]
           ],
           "sequential": [
            [
             0,
             "#0d0887"
            ],
            [
             0.1111111111111111,
             "#46039f"
            ],
            [
             0.2222222222222222,
             "#7201a8"
            ],
            [
             0.3333333333333333,
             "#9c179e"
            ],
            [
             0.4444444444444444,
             "#bd3786"
            ],
            [
             0.5555555555555556,
             "#d8576b"
            ],
            [
             0.6666666666666666,
             "#ed7953"
            ],
            [
             0.7777777777777778,
             "#fb9f3a"
            ],
            [
             0.8888888888888888,
             "#fdca26"
            ],
            [
             1,
             "#f0f921"
            ]
           ],
           "sequentialminus": [
            [
             0,
             "#0d0887"
            ],
            [
             0.1111111111111111,
             "#46039f"
            ],
            [
             0.2222222222222222,
             "#7201a8"
            ],
            [
             0.3333333333333333,
             "#9c179e"
            ],
            [
             0.4444444444444444,
             "#bd3786"
            ],
            [
             0.5555555555555556,
             "#d8576b"
            ],
            [
             0.6666666666666666,
             "#ed7953"
            ],
            [
             0.7777777777777778,
             "#fb9f3a"
            ],
            [
             0.8888888888888888,
             "#fdca26"
            ],
            [
             1,
             "#f0f921"
            ]
           ]
          },
          "colorway": [
           "#636efa",
           "#EF553B",
           "#00cc96",
           "#ab63fa",
           "#FFA15A",
           "#19d3f3",
           "#FF6692",
           "#B6E880",
           "#FF97FF",
           "#FECB52"
          ],
          "font": {
           "color": "#2a3f5f"
          },
          "geo": {
           "bgcolor": "white",
           "lakecolor": "white",
           "landcolor": "#E5ECF6",
           "showlakes": true,
           "showland": true,
           "subunitcolor": "white"
          },
          "hoverlabel": {
           "align": "left"
          },
          "hovermode": "closest",
          "mapbox": {
           "style": "light"
          },
          "paper_bgcolor": "white",
          "plot_bgcolor": "#E5ECF6",
          "polar": {
           "angularaxis": {
            "gridcolor": "white",
            "linecolor": "white",
            "ticks": ""
           },
           "bgcolor": "#E5ECF6",
           "radialaxis": {
            "gridcolor": "white",
            "linecolor": "white",
            "ticks": ""
           }
          },
          "scene": {
           "xaxis": {
            "backgroundcolor": "#E5ECF6",
            "gridcolor": "white",
            "gridwidth": 2,
            "linecolor": "white",
            "showbackground": true,
            "ticks": "",
            "zerolinecolor": "white"
           },
           "yaxis": {
            "backgroundcolor": "#E5ECF6",
            "gridcolor": "white",
            "gridwidth": 2,
            "linecolor": "white",
            "showbackground": true,
            "ticks": "",
            "zerolinecolor": "white"
           },
           "zaxis": {
            "backgroundcolor": "#E5ECF6",
            "gridcolor": "white",
            "gridwidth": 2,
            "linecolor": "white",
            "showbackground": true,
            "ticks": "",
            "zerolinecolor": "white"
           }
          },
          "shapedefaults": {
           "line": {
            "color": "#2a3f5f"
           }
          },
          "ternary": {
           "aaxis": {
            "gridcolor": "white",
            "linecolor": "white",
            "ticks": ""
           },
           "baxis": {
            "gridcolor": "white",
            "linecolor": "white",
            "ticks": ""
           },
           "bgcolor": "#E5ECF6",
           "caxis": {
            "gridcolor": "white",
            "linecolor": "white",
            "ticks": ""
           }
          },
          "title": {
           "x": 0.05
          },
          "xaxis": {
           "automargin": true,
           "gridcolor": "white",
           "linecolor": "white",
           "ticks": "",
           "title": {
            "standoff": 15
           },
           "zerolinecolor": "white",
           "zerolinewidth": 2
          },
          "yaxis": {
           "automargin": true,
           "gridcolor": "white",
           "linecolor": "white",
           "ticks": "",
           "title": {
            "standoff": 15
           },
           "zerolinecolor": "white",
           "zerolinewidth": 2
          }
         }
        },
        "xaxis": {
         "anchor": "y",
         "autorange": true,
         "domain": [
          0,
          1
         ],
         "range": [
          -0.5,
          9.5
         ],
         "title": {
          "text": "Depth"
         },
         "type": "linear"
        },
        "yaxis": {
         "anchor": "x",
         "autorange": true,
         "domain": [
          0,
          1
         ],
         "range": [
          -0.2862843794701523,
          0.5666965150574217
         ],
         "title": {
          "text": "Imbalace"
         },
         "type": "linear"
        }
       }
      },
      "image/png": "[encoded data removed]"
     },
     "metadata": {},
     "output_type": "display_data"
    }
   ],
   "source": [
    "fig = px.bar(rho[:10])\n",
    "fig.update_xaxes(title_text=\"Depth\")\n",
    "fig.update_yaxes(title_text=\"Imbalace\")\n",
    "fig.show()"
   ]
  },
  {
   "cell_type": "markdown",
   "id": "3b039fb4",
   "metadata": {},
   "source": [
    "# New Article on Historic Data"
   ]
  },
  {
   "cell_type": "code",
   "execution_count": 23,
   "id": "350a066a",
   "metadata": {},
   "outputs": [
    {
     "name": "stdout",
     "output_type": "stream",
     "text": [
      "The server time is: 2022-05-27 12:00:00\n"
     ]
    }
   ],
   "source": [
    "r = requests.get(\"https://api.binance.com/api/v3/klines\",params=dict(symbol=\"AXSBUSD\",interval=\"1h\"))\n",
    "\n",
    "response = r.json()\n",
    "cols =['Open_time','Open','High','Low','Close','Volume','Close_time',\n",
    "'Quote_asset_volume','Number_of_Trades','Taker_buy_base','Taker_buy_quote','Ignore']\n",
    "df_kline=pd.DataFrame(response,columns=cols)"
   ]
  },
  {
   "cell_type": "code",
   "execution_count": 26,
   "id": "c74edee9",
   "metadata": {},
   "outputs": [
    {
     "data": {
      "text/html": [
       "<div>\n",
       "<style scoped>\n",
       "    .dataframe tbody tr th:only-of-type {\n",
       "        vertical-align: middle;\n",
       "    }\n",
       "\n",
       "    .dataframe tbody tr th {\n",
       "        vertical-align: top;\n",
       "    }\n",
       "\n",
       "    .dataframe thead th {\n",
       "        text-align: right;\n",
       "    }\n",
       "</style>\n",
       "<table border=\"1\" class=\"dataframe\">\n",
       "  <thead>\n",
       "    <tr style=\"text-align: right;\">\n",
       "      <th></th>\n",
       "      <th>Open_time</th>\n",
       "      <th>Open</th>\n",
       "      <th>High</th>\n",
       "      <th>Low</th>\n",
       "      <th>Close</th>\n",
       "      <th>Volume</th>\n",
       "      <th>Close_time</th>\n",
       "      <th>Quote_asset_volume</th>\n",
       "      <th>Number_of_Trades</th>\n",
       "      <th>Taker_buy_base</th>\n",
       "      <th>Taker_buy_quote</th>\n",
       "      <th>Ignore</th>\n",
       "    </tr>\n",
       "  </thead>\n",
       "  <tbody>\n",
       "    <tr>\n",
       "      <th>0</th>\n",
       "      <td>1653429600000</td>\n",
       "      <td>21.13000000</td>\n",
       "      <td>21.18000000</td>\n",
       "      <td>21.13000000</td>\n",
       "      <td>21.16000000</td>\n",
       "      <td>213.35000000</td>\n",
       "      <td>1653429659999</td>\n",
       "      <td>4514.49440000</td>\n",
       "      <td>42</td>\n",
       "      <td>145.98000000</td>\n",
       "      <td>3088.75940000</td>\n",
       "      <td>0</td>\n",
       "    </tr>\n",
       "    <tr>\n",
       "      <th>1</th>\n",
       "      <td>1653429660000</td>\n",
       "      <td>21.15000000</td>\n",
       "      <td>21.15000000</td>\n",
       "      <td>21.13000000</td>\n",
       "      <td>21.14000000</td>\n",
       "      <td>54.68000000</td>\n",
       "      <td>1653429719999</td>\n",
       "      <td>1155.84360000</td>\n",
       "      <td>5</td>\n",
       "      <td>1.00000000</td>\n",
       "      <td>21.15000000</td>\n",
       "      <td>0</td>\n",
       "    </tr>\n",
       "    <tr>\n",
       "      <th>2</th>\n",
       "      <td>1653429720000</td>\n",
       "      <td>21.13000000</td>\n",
       "      <td>21.18000000</td>\n",
       "      <td>21.12000000</td>\n",
       "      <td>21.17000000</td>\n",
       "      <td>297.44000000</td>\n",
       "      <td>1653429779999</td>\n",
       "      <td>6286.95480000</td>\n",
       "      <td>20</td>\n",
       "      <td>46.57000000</td>\n",
       "      <td>985.99410000</td>\n",
       "      <td>0</td>\n",
       "    </tr>\n",
       "    <tr>\n",
       "      <th>3</th>\n",
       "      <td>1653429780000</td>\n",
       "      <td>21.17000000</td>\n",
       "      <td>21.20000000</td>\n",
       "      <td>21.17000000</td>\n",
       "      <td>21.20000000</td>\n",
       "      <td>451.03000000</td>\n",
       "      <td>1653429839999</td>\n",
       "      <td>9555.13380000</td>\n",
       "      <td>49</td>\n",
       "      <td>194.10000000</td>\n",
       "      <td>4111.23950000</td>\n",
       "      <td>0</td>\n",
       "    </tr>\n",
       "    <tr>\n",
       "      <th>4</th>\n",
       "      <td>1653429840000</td>\n",
       "      <td>21.19000000</td>\n",
       "      <td>21.19000000</td>\n",
       "      <td>21.17000000</td>\n",
       "      <td>21.17000000</td>\n",
       "      <td>5.95000000</td>\n",
       "      <td>1653429899999</td>\n",
       "      <td>126.06150000</td>\n",
       "      <td>2</td>\n",
       "      <td>5.95000000</td>\n",
       "      <td>126.06150000</td>\n",
       "      <td>0</td>\n",
       "    </tr>\n",
       "    <tr>\n",
       "      <th>...</th>\n",
       "      <td>...</td>\n",
       "      <td>...</td>\n",
       "      <td>...</td>\n",
       "      <td>...</td>\n",
       "      <td>...</td>\n",
       "      <td>...</td>\n",
       "      <td>...</td>\n",
       "      <td>...</td>\n",
       "      <td>...</td>\n",
       "      <td>...</td>\n",
       "      <td>...</td>\n",
       "      <td>...</td>\n",
       "    </tr>\n",
       "    <tr>\n",
       "      <th>495</th>\n",
       "      <td>1653459300000</td>\n",
       "      <td>20.71000000</td>\n",
       "      <td>20.71000000</td>\n",
       "      <td>20.70000000</td>\n",
       "      <td>20.70000000</td>\n",
       "      <td>1.00000000</td>\n",
       "      <td>1653459359999</td>\n",
       "      <td>20.70930000</td>\n",
       "      <td>2</td>\n",
       "      <td>0.00000000</td>\n",
       "      <td>0.00000000</td>\n",
       "      <td>0</td>\n",
       "    </tr>\n",
       "    <tr>\n",
       "      <th>496</th>\n",
       "      <td>1653459360000</td>\n",
       "      <td>20.73000000</td>\n",
       "      <td>20.73000000</td>\n",
       "      <td>20.73000000</td>\n",
       "      <td>20.73000000</td>\n",
       "      <td>9.64000000</td>\n",
       "      <td>1653459419999</td>\n",
       "      <td>199.83720000</td>\n",
       "      <td>1</td>\n",
       "      <td>9.64000000</td>\n",
       "      <td>199.83720000</td>\n",
       "      <td>0</td>\n",
       "    </tr>\n",
       "    <tr>\n",
       "      <th>497</th>\n",
       "      <td>1653459420000</td>\n",
       "      <td>20.70000000</td>\n",
       "      <td>20.70000000</td>\n",
       "      <td>20.69000000</td>\n",
       "      <td>20.69000000</td>\n",
       "      <td>171.86000000</td>\n",
       "      <td>1653459479999</td>\n",
       "      <td>3556.36600000</td>\n",
       "      <td>11</td>\n",
       "      <td>0.00000000</td>\n",
       "      <td>0.00000000</td>\n",
       "      <td>0</td>\n",
       "    </tr>\n",
       "    <tr>\n",
       "      <th>498</th>\n",
       "      <td>1653459480000</td>\n",
       "      <td>20.69000000</td>\n",
       "      <td>20.69000000</td>\n",
       "      <td>20.69000000</td>\n",
       "      <td>20.69000000</td>\n",
       "      <td>0.00000000</td>\n",
       "      <td>1653459539999</td>\n",
       "      <td>0.00000000</td>\n",
       "      <td>0</td>\n",
       "      <td>0.00000000</td>\n",
       "      <td>0.00000000</td>\n",
       "      <td>0</td>\n",
       "    </tr>\n",
       "    <tr>\n",
       "      <th>499</th>\n",
       "      <td>1653459540000</td>\n",
       "      <td>20.69000000</td>\n",
       "      <td>20.69000000</td>\n",
       "      <td>20.69000000</td>\n",
       "      <td>20.69000000</td>\n",
       "      <td>0.49000000</td>\n",
       "      <td>1653459599999</td>\n",
       "      <td>10.13810000</td>\n",
       "      <td>1</td>\n",
       "      <td>0.49000000</td>\n",
       "      <td>10.13810000</td>\n",
       "      <td>0</td>\n",
       "    </tr>\n",
       "  </tbody>\n",
       "</table>\n",
       "<p>500 rows × 12 columns</p>\n",
       "</div>"
      ],
      "text/plain": [
       "         Open_time         Open         High          Low        Close  \\\n",
       "0    1653429600000  21.13000000  21.18000000  21.13000000  21.16000000   \n",
       "1    1653429660000  21.15000000  21.15000000  21.13000000  21.14000000   \n",
       "2    1653429720000  21.13000000  21.18000000  21.12000000  21.17000000   \n",
       "3    1653429780000  21.17000000  21.20000000  21.17000000  21.20000000   \n",
       "4    1653429840000  21.19000000  21.19000000  21.17000000  21.17000000   \n",
       "..             ...          ...          ...          ...          ...   \n",
       "495  1653459300000  20.71000000  20.71000000  20.70000000  20.70000000   \n",
       "496  1653459360000  20.73000000  20.73000000  20.73000000  20.73000000   \n",
       "497  1653459420000  20.70000000  20.70000000  20.69000000  20.69000000   \n",
       "498  1653459480000  20.69000000  20.69000000  20.69000000  20.69000000   \n",
       "499  1653459540000  20.69000000  20.69000000  20.69000000  20.69000000   \n",
       "\n",
       "           Volume     Close_time Quote_asset_volume  Number_of_Trades  \\\n",
       "0    213.35000000  1653429659999      4514.49440000                42   \n",
       "1     54.68000000  1653429719999      1155.84360000                 5   \n",
       "2    297.44000000  1653429779999      6286.95480000                20   \n",
       "3    451.03000000  1653429839999      9555.13380000                49   \n",
       "4      5.95000000  1653429899999       126.06150000                 2   \n",
       "..            ...            ...                ...               ...   \n",
       "495    1.00000000  1653459359999        20.70930000                 2   \n",
       "496    9.64000000  1653459419999       199.83720000                 1   \n",
       "497  171.86000000  1653459479999      3556.36600000                11   \n",
       "498    0.00000000  1653459539999         0.00000000                 0   \n",
       "499    0.49000000  1653459599999        10.13810000                 1   \n",
       "\n",
       "    Taker_buy_base Taker_buy_quote Ignore  \n",
       "0     145.98000000   3088.75940000      0  \n",
       "1       1.00000000     21.15000000      0  \n",
       "2      46.57000000    985.99410000      0  \n",
       "3     194.10000000   4111.23950000      0  \n",
       "4       5.95000000    126.06150000      0  \n",
       "..             ...             ...    ...  \n",
       "495     0.00000000      0.00000000      0  \n",
       "496     9.64000000    199.83720000      0  \n",
       "497     0.00000000      0.00000000      0  \n",
       "498     0.00000000      0.00000000      0  \n",
       "499     0.49000000     10.13810000      0  \n",
       "\n",
       "[500 rows x 12 columns]"
      ]
     },
     "execution_count": 26,
     "metadata": {},
     "output_type": "execute_result"
    }
   ],
   "source": [
    "from datetime import datetime\n",
    "\n",
    "def from_str_to_ms(t):\n",
    "    dt_obj = datetime.strptime(t,'%d-%m-%Y')\n",
    "    # return int because the date parameters\n",
    "    # of Binance api are of type 'Long'\n",
    "    return int(dt_obj.timestamp() * 1000) \n",
    "\n",
    "start = from_str_to_ms('25-05-2022')\n",
    "end = from_str_to_ms('26-05-2022')\n",
    "\n",
    "\n",
    "r = requests.get(\"https://api.binance.com/api/v3/klines\",params=dict(symbol=\"AXSBUSD\",interval=\"1m\",startTime=int(start),endTime=int(end)))\n",
    "\n",
    "response = r.json()\n",
    "cols =['Open_time','Open','High','Low','Close','Volume','Close_time',\n",
    "'Quote_asset_volume','Number_of_Trades','Taker_buy_base','Taker_buy_quote','Ignore']\n",
    "df_kline=pd.DataFrame(response,columns=cols)\n",
    "df_kline"
   ]
  },
  {
   "cell_type": "markdown",
   "id": "520ae4a9",
   "metadata": {},
   "source": [
    "    1499040000000,      // Open time\n",
    "    \"0.01634790\",       // Open\n",
    "    \"0.80000000\",       // High\n",
    "    \"0.01575800\",       // Low\n",
    "    \"0.01577100\",       // Close\n",
    "    \"148976.11427815\",  // Volume\n",
    "    1499644799999,      // Close time\n",
    "    \"2434.19055334\",    // Quote asset volume\n",
    "    308,                // Number of trades\n",
    "    \"1756.87402397\",    // Taker buy base asset volume\n",
    "    \"28.46694368\",      // Taker buy quote asset volume\n",
    "    \"17928899.62484339\" // Ignore."
   ]
  },
  {
   "cell_type": "markdown",
   "id": "30c10284",
   "metadata": {},
   "source": [
    "Kline/Candlestick chart intervals:\n",
    "\n",
    "m -> minutes; h -> hours; d -> days; w -> weeks; M -> months\n",
    "\n",
    "1m\n",
    "3m\n",
    "5m\n",
    "15m\n",
    "30m\n",
    "1h\n",
    "2h\n",
    "4h\n",
    "6h\n",
    "8h\n",
    "12h\n",
    "1d\n",
    "3d\n",
    "1w\n",
    "1M"
   ]
  },
  {
   "cell_type": "code",
   "execution_count": 30,
   "id": "8a6d835e",
   "metadata": {},
   "outputs": [
    {
     "data": {
      "application/vnd.plotly.v1+json": {
       "config": {
        "plotlyServerURL": "https://plot.ly"
       },
       "data": [
        {
         "close": [
          "21.16000000",
          "21.14000000",
          "21.17000000",
          "21.20000000",
          "21.17000000",
          "21.17000000",
          "21.20000000",
          "21.24000000",
          "21.24000000",
          "21.19000000",
          "21.17000000",
          "21.18000000",
          "21.21000000",
          "21.19000000",
          "21.19000000",
          "21.20000000",
          "21.19000000",
          "21.18000000",
          "21.12000000",
          "21.15000000",
          "21.14000000",
          "21.11000000",
          "21.15000000",
          "21.14000000",
          "21.10000000",
          "21.10000000",
          "21.11000000",
          "21.11000000",
          "21.12000000",
          "21.12000000",
          "21.12000000",
          "21.12000000",
          "21.15000000",
          "21.15000000",
          "21.15000000",
          "21.12000000",
          "21.14000000",
          "21.06000000",
          "21.07000000",
          "21.09000000",
          "21.10000000",
          "21.09000000",
          "21.04000000",
          "21.05000000",
          "21.05000000",
          "21.05000000",
          "21.12000000",
          "21.15000000",
          "21.16000000",
          "21.11000000",
          "21.12000000",
          "21.12000000",
          "21.12000000",
          "21.14000000",
          "21.15000000",
          "21.15000000",
          "21.15000000",
          "21.15000000",
          "21.12000000",
          "21.10000000",
          "21.11000000",
          "21.11000000",
          "21.11000000",
          "21.11000000",
          "21.10000000",
          "21.11000000",
          "21.16000000",
          "21.12000000",
          "21.21000000",
          "21.30000000",
          "21.30000000",
          "21.21000000",
          "21.26000000",
          "21.21000000",
          "21.25000000",
          "21.25000000",
          "21.25000000",
          "21.25000000",
          "21.27000000",
          "21.24000000",
          "21.31000000",
          "21.30000000",
          "21.28000000",
          "21.27000000",
          "21.27000000",
          "21.27000000",
          "21.27000000",
          "21.26000000",
          "21.22000000",
          "21.23000000",
          "21.21000000",
          "21.18000000",
          "21.21000000",
          "21.17000000",
          "21.17000000",
          "21.16000000",
          "21.16000000",
          "21.16000000",
          "21.15000000",
          "21.14000000",
          "21.16000000",
          "21.17000000",
          "21.17000000",
          "21.24000000",
          "21.22000000",
          "21.20000000",
          "21.20000000",
          "21.20000000",
          "21.20000000",
          "21.20000000",
          "21.22000000",
          "21.22000000",
          "21.22000000",
          "21.20000000",
          "21.27000000",
          "21.27000000",
          "21.24000000",
          "21.25000000",
          "21.24000000",
          "21.25000000",
          "21.22000000",
          "21.25000000",
          "21.25000000",
          "21.25000000",
          "21.23000000",
          "21.20000000",
          "21.20000000",
          "21.15000000",
          "21.08000000",
          "21.14000000",
          "21.03000000",
          "21.06000000",
          "20.96000000",
          "21.02000000",
          "21.02000000",
          "20.99000000",
          "20.99000000",
          "21.08000000",
          "21.08000000",
          "21.03000000",
          "21.02000000",
          "21.06000000",
          "21.08000000",
          "21.11000000",
          "21.07000000",
          "21.07000000",
          "21.10000000",
          "21.15000000",
          "21.11000000",
          "21.11000000",
          "21.11000000",
          "21.11000000",
          "21.11000000",
          "21.14000000",
          "21.12000000",
          "21.12000000",
          "21.12000000",
          "21.12000000",
          "21.10000000",
          "21.11000000",
          "21.12000000",
          "21.13000000",
          "21.15000000",
          "21.15000000",
          "21.16000000",
          "21.17000000",
          "21.16000000",
          "21.19000000",
          "21.20000000",
          "21.17000000",
          "21.16000000",
          "21.16000000",
          "21.23000000",
          "21.24000000",
          "21.27000000",
          "21.27000000",
          "21.30000000",
          "21.30000000",
          "21.30000000",
          "21.29000000",
          "21.20000000",
          "21.17000000",
          "21.19000000",
          "21.22000000",
          "21.26000000",
          "21.26000000",
          "21.26000000",
          "21.22000000",
          "21.22000000",
          "21.22000000",
          "21.20000000",
          "21.20000000",
          "21.18000000",
          "21.18000000",
          "21.16000000",
          "21.15000000",
          "21.12000000",
          "21.11000000",
          "21.11000000",
          "21.11000000",
          "21.11000000",
          "21.09000000",
          "21.09000000",
          "21.09000000",
          "21.08000000",
          "21.08000000",
          "21.12000000",
          "21.07000000",
          "21.07000000",
          "21.07000000",
          "21.09000000",
          "21.09000000",
          "21.13000000",
          "21.13000000",
          "21.10000000",
          "21.11000000",
          "21.11000000",
          "21.12000000",
          "21.13000000",
          "21.12000000",
          "21.12000000",
          "21.09000000",
          "21.10000000",
          "21.10000000",
          "21.09000000",
          "21.04000000",
          "21.07000000",
          "21.08000000",
          "21.08000000",
          "21.10000000",
          "21.10000000",
          "21.11000000",
          "21.07000000",
          "21.09000000",
          "21.06000000",
          "21.06000000",
          "21.06000000",
          "21.16000000",
          "21.18000000",
          "21.21000000",
          "21.25000000",
          "21.28000000",
          "21.20000000",
          "21.14000000",
          "21.15000000",
          "21.17000000",
          "21.15000000",
          "21.15000000",
          "21.11000000",
          "21.11000000",
          "21.11000000",
          "21.11000000",
          "21.13000000",
          "21.15000000",
          "21.18000000",
          "21.12000000",
          "21.16000000",
          "21.17000000",
          "21.15000000",
          "21.15000000",
          "21.18000000",
          "21.17000000",
          "21.17000000",
          "21.26000000",
          "21.26000000",
          "21.30000000",
          "21.27000000",
          "21.24000000",
          "21.25000000",
          "21.25000000",
          "21.26000000",
          "21.27000000",
          "21.27000000",
          "21.27000000",
          "21.30000000",
          "21.32000000",
          "21.35000000",
          "21.35000000",
          "21.41000000",
          "21.36000000",
          "21.42000000",
          "21.42000000",
          "21.41000000",
          "21.36000000",
          "21.37000000",
          "21.35000000",
          "21.36000000",
          "21.39000000",
          "21.38000000",
          "21.39000000",
          "21.41000000",
          "21.41000000",
          "21.44000000",
          "21.47000000",
          "21.47000000",
          "21.45000000",
          "21.45000000",
          "21.45000000",
          "21.39000000",
          "21.40000000",
          "21.46000000",
          "21.47000000",
          "21.47000000",
          "21.43000000",
          "21.44000000",
          "21.44000000",
          "21.40000000",
          "21.40000000",
          "21.38000000",
          "21.38000000",
          "21.35000000",
          "21.37000000",
          "21.35000000",
          "21.39000000",
          "21.37000000",
          "21.33000000",
          "21.32000000",
          "21.29000000",
          "21.30000000",
          "21.32000000",
          "21.26000000",
          "21.29000000",
          "21.28000000",
          "21.28000000",
          "21.28000000",
          "21.28000000",
          "21.30000000",
          "21.28000000",
          "21.34000000",
          "21.30000000",
          "21.25000000",
          "21.26000000",
          "21.21000000",
          "21.16000000",
          "21.17000000",
          "21.18000000",
          "21.23000000",
          "21.19000000",
          "21.23000000",
          "21.24000000",
          "21.22000000",
          "21.25000000",
          "21.23000000",
          "21.30000000",
          "21.32000000",
          "21.31000000",
          "21.31000000",
          "21.32000000",
          "21.33000000",
          "21.32000000",
          "21.34000000",
          "21.34000000",
          "21.34000000",
          "21.37000000",
          "21.37000000",
          "21.35000000",
          "21.35000000",
          "21.37000000",
          "21.34000000",
          "21.36000000",
          "21.40000000",
          "21.33000000",
          "21.33000000",
          "21.33000000",
          "21.33000000",
          "21.32000000",
          "21.31000000",
          "21.26000000",
          "21.26000000",
          "21.27000000",
          "21.27000000",
          "21.30000000",
          "21.32000000",
          "21.31000000",
          "21.33000000",
          "21.31000000",
          "21.30000000",
          "21.30000000",
          "21.26000000",
          "21.27000000",
          "21.27000000",
          "21.25000000",
          "21.27000000",
          "21.24000000",
          "21.25000000",
          "21.27000000",
          "21.21000000",
          "21.20000000",
          "21.20000000",
          "21.20000000",
          "21.20000000",
          "21.20000000",
          "21.20000000",
          "21.18000000",
          "21.19000000",
          "21.19000000",
          "21.18000000",
          "21.16000000",
          "21.14000000",
          "21.13000000",
          "21.13000000",
          "21.14000000",
          "21.16000000",
          "21.14000000",
          "21.14000000",
          "21.12000000",
          "21.12000000",
          "21.12000000",
          "21.14000000",
          "21.10000000",
          "21.11000000",
          "21.09000000",
          "21.07000000",
          "21.06000000",
          "21.12000000",
          "21.12000000",
          "21.12000000",
          "21.12000000",
          "21.10000000",
          "21.12000000",
          "21.10000000",
          "21.13000000",
          "21.09000000",
          "21.09000000",
          "21.06000000",
          "21.04000000",
          "21.06000000",
          "21.05000000",
          "21.06000000",
          "21.04000000",
          "21.07000000",
          "21.07000000",
          "21.07000000",
          "21.07000000",
          "21.07000000",
          "21.09000000",
          "21.10000000",
          "21.13000000",
          "21.13000000",
          "21.15000000",
          "21.13000000",
          "21.13000000",
          "21.11000000",
          "21.11000000",
          "21.12000000",
          "21.09000000",
          "21.10000000",
          "21.12000000",
          "21.10000000",
          "21.10000000",
          "21.07000000",
          "21.05000000",
          "21.00000000",
          "20.86000000",
          "20.84000000",
          "20.83000000",
          "20.83000000",
          "20.80000000",
          "20.80000000",
          "20.81000000",
          "20.80000000",
          "20.81000000",
          "20.80000000",
          "20.81000000",
          "20.83000000",
          "20.86000000",
          "20.84000000",
          "20.80000000",
          "20.78000000",
          "20.77000000",
          "20.77000000",
          "20.75000000",
          "20.72000000",
          "20.72000000",
          "20.72000000",
          "20.73000000",
          "20.76000000",
          "20.77000000",
          "20.77000000",
          "20.73000000",
          "20.70000000",
          "20.78000000",
          "20.75000000",
          "20.73000000",
          "20.73000000",
          "20.71000000",
          "20.68000000",
          "20.66000000",
          "20.66000000",
          "20.66000000",
          "20.66000000",
          "20.73000000",
          "20.73000000",
          "20.74000000",
          "20.72000000",
          "20.70000000",
          "20.73000000",
          "20.69000000",
          "20.69000000",
          "20.69000000"
         ],
         "high": [
          "21.18000000",
          "21.15000000",
          "21.18000000",
          "21.20000000",
          "21.19000000",
          "21.17000000",
          "21.22000000",
          "21.24000000",
          "21.24000000",
          "21.20000000",
          "21.19000000",
          "21.18000000",
          "21.21000000",
          "21.22000000",
          "21.19000000",
          "21.20000000",
          "21.20000000",
          "21.18000000",
          "21.15000000",
          "21.15000000",
          "21.14000000",
          "21.14000000",
          "21.19000000",
          "21.15000000",
          "21.12000000",
          "21.10000000",
          "21.11000000",
          "21.11000000",
          "21.13000000",
          "21.12000000",
          "21.12000000",
          "21.12000000",
          "21.15000000",
          "21.15000000",
          "21.15000000",
          "21.12000000",
          "21.14000000",
          "21.08000000",
          "21.07000000",
          "21.09000000",
          "21.10000000",
          "21.09000000",
          "21.05000000",
          "21.06000000",
          "21.05000000",
          "21.05000000",
          "21.12000000",
          "21.15000000",
          "21.16000000",
          "21.11000000",
          "21.12000000",
          "21.12000000",
          "21.12000000",
          "21.14000000",
          "21.15000000",
          "21.15000000",
          "21.15000000",
          "21.15000000",
          "21.14000000",
          "21.10000000",
          "21.11000000",
          "21.11000000",
          "21.11000000",
          "21.11000000",
          "21.11000000",
          "21.11000000",
          "21.16000000",
          "21.13000000",
          "21.21000000",
          "21.30000000",
          "21.34000000",
          "21.26000000",
          "21.26000000",
          "21.24000000",
          "21.25000000",
          "21.25000000",
          "21.25000000",
          "21.26000000",
          "21.27000000",
          "21.25000000",
          "21.31000000",
          "21.31000000",
          "21.29000000",
          "21.29000000",
          "21.27000000",
          "21.27000000",
          "21.29000000",
          "21.26000000",
          "21.28000000",
          "21.24000000",
          "21.23000000",
          "21.20000000",
          "21.23000000",
          "21.21000000",
          "21.18000000",
          "21.16000000",
          "21.16000000",
          "21.16000000",
          "21.18000000",
          "21.16000000",
          "21.16000000",
          "21.17000000",
          "21.17000000",
          "21.25000000",
          "21.26000000",
          "21.20000000",
          "21.20000000",
          "21.20000000",
          "21.20000000",
          "21.20000000",
          "21.25000000",
          "21.22000000",
          "21.22000000",
          "21.23000000",
          "21.27000000",
          "21.27000000",
          "21.24000000",
          "21.25000000",
          "21.24000000",
          "21.28000000",
          "21.22000000",
          "21.25000000",
          "21.25000000",
          "21.25000000",
          "21.27000000",
          "21.21000000",
          "21.22000000",
          "21.20000000",
          "21.14000000",
          "21.14000000",
          "21.12000000",
          "21.06000000",
          "21.05000000",
          "21.02000000",
          "21.05000000",
          "21.01000000",
          "20.99000000",
          "21.08000000",
          "21.10000000",
          "21.06000000",
          "21.02000000",
          "21.06000000",
          "21.08000000",
          "21.11000000",
          "21.10000000",
          "21.07000000",
          "21.10000000",
          "21.15000000",
          "21.11000000",
          "21.11000000",
          "21.11000000",
          "21.11000000",
          "21.11000000",
          "21.14000000",
          "21.12000000",
          "21.12000000",
          "21.12000000",
          "21.12000000",
          "21.10000000",
          "21.11000000",
          "21.12000000",
          "21.15000000",
          "21.15000000",
          "21.15000000",
          "21.16000000",
          "21.18000000",
          "21.18000000",
          "21.20000000",
          "21.20000000",
          "21.19000000",
          "21.16000000",
          "21.16000000",
          "21.23000000",
          "21.26000000",
          "21.30000000",
          "21.28000000",
          "21.30000000",
          "21.31000000",
          "21.30000000",
          "21.30000000",
          "21.29000000",
          "21.20000000",
          "21.19000000",
          "21.22000000",
          "21.27000000",
          "21.26000000",
          "21.26000000",
          "21.23000000",
          "21.22000000",
          "21.22000000",
          "21.22000000",
          "21.20000000",
          "21.18000000",
          "21.18000000",
          "21.18000000",
          "21.16000000",
          "21.18000000",
          "21.13000000",
          "21.11000000",
          "21.11000000",
          "21.11000000",
          "21.10000000",
          "21.09000000",
          "21.09000000",
          "21.08000000",
          "21.08000000",
          "21.12000000",
          "21.07000000",
          "21.07000000",
          "21.07000000",
          "21.09000000",
          "21.09000000",
          "21.13000000",
          "21.13000000",
          "21.12000000",
          "21.11000000",
          "21.11000000",
          "21.12000000",
          "21.13000000",
          "21.13000000",
          "21.13000000",
          "21.11000000",
          "21.10000000",
          "21.10000000",
          "21.10000000",
          "21.10000000",
          "21.07000000",
          "21.08000000",
          "21.10000000",
          "21.11000000",
          "21.10000000",
          "21.11000000",
          "21.09000000",
          "21.10000000",
          "21.06000000",
          "21.06000000",
          "21.06000000",
          "21.16000000",
          "21.18000000",
          "21.22000000",
          "21.29000000",
          "21.29000000",
          "21.23000000",
          "21.17000000",
          "21.18000000",
          "21.17000000",
          "21.17000000",
          "21.15000000",
          "21.14000000",
          "21.11000000",
          "21.11000000",
          "21.11000000",
          "21.16000000",
          "21.16000000",
          "21.18000000",
          "21.12000000",
          "21.16000000",
          "21.17000000",
          "21.18000000",
          "21.15000000",
          "21.18000000",
          "21.18000000",
          "21.17000000",
          "21.28000000",
          "21.30000000",
          "21.30000000",
          "21.27000000",
          "21.26000000",
          "21.25000000",
          "21.25000000",
          "21.26000000",
          "21.32000000",
          "21.27000000",
          "21.31000000",
          "21.30000000",
          "21.35000000",
          "21.36000000",
          "21.38000000",
          "21.41000000",
          "21.43000000",
          "21.43000000",
          "21.45000000",
          "21.41000000",
          "21.40000000",
          "21.37000000",
          "21.37000000",
          "21.36000000",
          "21.39000000",
          "21.39000000",
          "21.41000000",
          "21.43000000",
          "21.41000000",
          "21.49000000",
          "21.48000000",
          "21.49000000",
          "21.47000000",
          "21.45000000",
          "21.45000000",
          "21.41000000",
          "21.43000000",
          "21.47000000",
          "21.47000000",
          "21.47000000",
          "21.45000000",
          "21.45000000",
          "21.44000000",
          "21.40000000",
          "21.40000000",
          "21.38000000",
          "21.40000000",
          "21.38000000",
          "21.37000000",
          "21.38000000",
          "21.40000000",
          "21.37000000",
          "21.36000000",
          "21.35000000",
          "21.31000000",
          "21.31000000",
          "21.32000000",
          "21.30000000",
          "21.29000000",
          "21.28000000",
          "21.29000000",
          "21.30000000",
          "21.28000000",
          "21.30000000",
          "21.28000000",
          "21.34000000",
          "21.30000000",
          "21.30000000",
          "21.26000000",
          "21.24000000",
          "21.20000000",
          "21.17000000",
          "21.18000000",
          "21.23000000",
          "21.23000000",
          "21.23000000",
          "21.24000000",
          "21.23000000",
          "21.25000000",
          "21.24000000",
          "21.31000000",
          "21.37000000",
          "21.31000000",
          "21.31000000",
          "21.32000000",
          "21.33000000",
          "21.32000000",
          "21.34000000",
          "21.35000000",
          "21.34000000",
          "21.37000000",
          "21.37000000",
          "21.35000000",
          "21.35000000",
          "21.37000000",
          "21.37000000",
          "21.38000000",
          "21.40000000",
          "21.34000000",
          "21.33000000",
          "21.36000000",
          "21.34000000",
          "21.33000000",
          "21.33000000",
          "21.30000000",
          "21.26000000",
          "21.29000000",
          "21.27000000",
          "21.30000000",
          "21.32000000",
          "21.35000000",
          "21.35000000",
          "21.33000000",
          "21.33000000",
          "21.31000000",
          "21.29000000",
          "21.27000000",
          "21.28000000",
          "21.25000000",
          "21.27000000",
          "21.27000000",
          "21.27000000",
          "21.27000000",
          "21.26000000",
          "21.22000000",
          "21.20000000",
          "21.20000000",
          "21.21000000",
          "21.20000000",
          "21.20000000",
          "21.19000000",
          "21.19000000",
          "21.19000000",
          "21.18000000",
          "21.19000000",
          "21.17000000",
          "21.16000000",
          "21.13000000",
          "21.14000000",
          "21.16000000",
          "21.15000000",
          "21.14000000",
          "21.14000000",
          "21.12000000",
          "21.13000000",
          "21.14000000",
          "21.13000000",
          "21.11000000",
          "21.10000000",
          "21.09000000",
          "21.08000000",
          "21.12000000",
          "21.12000000",
          "21.12000000",
          "21.12000000",
          "21.10000000",
          "21.12000000",
          "21.12000000",
          "21.13000000",
          "21.11000000",
          "21.09000000",
          "21.09000000",
          "21.05000000",
          "21.06000000",
          "21.06000000",
          "21.07000000",
          "21.06000000",
          "21.07000000",
          "21.08000000",
          "21.07000000",
          "21.07000000",
          "21.09000000",
          "21.09000000",
          "21.10000000",
          "21.13000000",
          "21.13000000",
          "21.15000000",
          "21.14000000",
          "21.13000000",
          "21.13000000",
          "21.14000000",
          "21.12000000",
          "21.11000000",
          "21.10000000",
          "21.12000000",
          "21.10000000",
          "21.10000000",
          "21.11000000",
          "21.08000000",
          "21.04000000",
          "20.99000000",
          "20.89000000",
          "20.85000000",
          "20.86000000",
          "20.83000000",
          "20.82000000",
          "20.82000000",
          "20.81000000",
          "20.83000000",
          "20.81000000",
          "20.81000000",
          "20.83000000",
          "20.86000000",
          "20.84000000",
          "20.83000000",
          "20.79000000",
          "20.79000000",
          "20.78000000",
          "20.76000000",
          "20.74000000",
          "20.72000000",
          "20.72000000",
          "20.73000000",
          "20.76000000",
          "20.77000000",
          "20.77000000",
          "20.73000000",
          "20.74000000",
          "20.79000000",
          "20.77000000",
          "20.76000000",
          "20.74000000",
          "20.72000000",
          "20.71000000",
          "20.69000000",
          "20.66000000",
          "20.66000000",
          "20.70000000",
          "20.73000000",
          "20.73000000",
          "20.75000000",
          "20.72000000",
          "20.71000000",
          "20.73000000",
          "20.70000000",
          "20.69000000",
          "20.69000000"
         ],
         "low": [
          "21.13000000",
          "21.13000000",
          "21.12000000",
          "21.17000000",
          "21.17000000",
          "21.15000000",
          "21.17000000",
          "21.20000000",
          "21.24000000",
          "21.17000000",
          "21.17000000",
          "21.16000000",
          "21.19000000",
          "21.19000000",
          "21.19000000",
          "21.19000000",
          "21.19000000",
          "21.18000000",
          "21.12000000",
          "21.11000000",
          "21.12000000",
          "21.10000000",
          "21.13000000",
          "21.14000000",
          "21.09000000",
          "21.10000000",
          "21.10000000",
          "21.11000000",
          "21.12000000",
          "21.12000000",
          "21.12000000",
          "21.12000000",
          "21.13000000",
          "21.15000000",
          "21.15000000",
          "21.12000000",
          "21.12000000",
          "21.06000000",
          "21.07000000",
          "21.08000000",
          "21.10000000",
          "21.09000000",
          "21.04000000",
          "21.05000000",
          "21.05000000",
          "21.05000000",
          "21.10000000",
          "21.13000000",
          "21.15000000",
          "21.11000000",
          "21.12000000",
          "21.12000000",
          "21.12000000",
          "21.12000000",
          "21.13000000",
          "21.15000000",
          "21.15000000",
          "21.15000000",
          "21.12000000",
          "21.10000000",
          "21.11000000",
          "21.11000000",
          "21.11000000",
          "21.11000000",
          "21.09000000",
          "21.11000000",
          "21.13000000",
          "21.12000000",
          "21.19000000",
          "21.22000000",
          "21.30000000",
          "21.21000000",
          "21.26000000",
          "21.21000000",
          "21.25000000",
          "21.25000000",
          "21.25000000",
          "21.25000000",
          "21.25000000",
          "21.24000000",
          "21.27000000",
          "21.30000000",
          "21.23000000",
          "21.23000000",
          "21.26000000",
          "21.26000000",
          "21.27000000",
          "21.26000000",
          "21.18000000",
          "21.20000000",
          "21.21000000",
          "21.18000000",
          "21.20000000",
          "21.17000000",
          "21.15000000",
          "21.16000000",
          "21.16000000",
          "21.16000000",
          "21.15000000",
          "21.14000000",
          "21.14000000",
          "21.15000000",
          "21.17000000",
          "21.18000000",
          "21.20000000",
          "21.18000000",
          "21.17000000",
          "21.20000000",
          "21.20000000",
          "21.20000000",
          "21.20000000",
          "21.22000000",
          "21.22000000",
          "21.19000000",
          "21.26000000",
          "21.27000000",
          "21.24000000",
          "21.25000000",
          "21.24000000",
          "21.24000000",
          "21.21000000",
          "21.23000000",
          "21.24000000",
          "21.23000000",
          "21.23000000",
          "21.20000000",
          "21.20000000",
          "21.15000000",
          "21.08000000",
          "21.07000000",
          "21.03000000",
          "21.02000000",
          "20.96000000",
          "20.98000000",
          "21.02000000",
          "20.99000000",
          "20.99000000",
          "21.08000000",
          "21.08000000",
          "21.03000000",
          "21.02000000",
          "21.03000000",
          "21.03000000",
          "21.10000000",
          "21.06000000",
          "21.07000000",
          "21.07000000",
          "21.12000000",
          "21.11000000",
          "21.10000000",
          "21.11000000",
          "21.11000000",
          "21.11000000",
          "21.14000000",
          "21.12000000",
          "21.12000000",
          "21.12000000",
          "21.12000000",
          "21.10000000",
          "21.11000000",
          "21.11000000",
          "21.13000000",
          "21.12000000",
          "21.15000000",
          "21.14000000",
          "21.16000000",
          "21.16000000",
          "21.19000000",
          "21.19000000",
          "21.17000000",
          "21.16000000",
          "21.14000000",
          "21.17000000",
          "21.23000000",
          "21.23000000",
          "21.26000000",
          "21.28000000",
          "21.30000000",
          "21.30000000",
          "21.29000000",
          "21.20000000",
          "21.17000000",
          "21.14000000",
          "21.19000000",
          "21.25000000",
          "21.26000000",
          "21.26000000",
          "21.22000000",
          "21.22000000",
          "21.22000000",
          "21.20000000",
          "21.20000000",
          "21.17000000",
          "21.17000000",
          "21.16000000",
          "21.14000000",
          "21.12000000",
          "21.11000000",
          "21.11000000",
          "21.11000000",
          "21.11000000",
          "21.09000000",
          "21.09000000",
          "21.09000000",
          "21.08000000",
          "21.08000000",
          "21.12000000",
          "21.07000000",
          "21.07000000",
          "21.07000000",
          "21.09000000",
          "21.09000000",
          "21.10000000",
          "21.13000000",
          "21.10000000",
          "21.11000000",
          "21.11000000",
          "21.11000000",
          "21.13000000",
          "21.12000000",
          "21.12000000",
          "21.09000000",
          "21.10000000",
          "21.10000000",
          "21.09000000",
          "21.04000000",
          "21.04000000",
          "21.07000000",
          "21.08000000",
          "21.10000000",
          "21.10000000",
          "21.10000000",
          "21.07000000",
          "21.09000000",
          "21.06000000",
          "21.06000000",
          "21.06000000",
          "21.09000000",
          "21.16000000",
          "21.19000000",
          "21.23000000",
          "21.26000000",
          "21.19000000",
          "21.14000000",
          "21.15000000",
          "21.17000000",
          "21.12000000",
          "21.12000000",
          "21.11000000",
          "21.11000000",
          "21.11000000",
          "21.11000000",
          "21.13000000",
          "21.13000000",
          "21.18000000",
          "21.12000000",
          "21.15000000",
          "21.17000000",
          "21.15000000",
          "21.15000000",
          "21.16000000",
          "21.17000000",
          "21.17000000",
          "21.16000000",
          "21.26000000",
          "21.25000000",
          "21.27000000",
          "21.24000000",
          "21.21000000",
          "21.24000000",
          "21.23000000",
          "21.27000000",
          "21.27000000",
          "21.27000000",
          "21.27000000",
          "21.27000000",
          "21.34000000",
          "21.35000000",
          "21.38000000",
          "21.36000000",
          "21.39000000",
          "21.42000000",
          "21.40000000",
          "21.36000000",
          "21.37000000",
          "21.35000000",
          "21.36000000",
          "21.35000000",
          "21.38000000",
          "21.39000000",
          "21.37000000",
          "21.41000000",
          "21.42000000",
          "21.47000000",
          "21.46000000",
          "21.45000000",
          "21.41000000",
          "21.41000000",
          "21.39000000",
          "21.40000000",
          "21.44000000",
          "21.44000000",
          "21.47000000",
          "21.43000000",
          "21.43000000",
          "21.44000000",
          "21.40000000",
          "21.40000000",
          "21.38000000",
          "21.38000000",
          "21.35000000",
          "21.37000000",
          "21.35000000",
          "21.38000000",
          "21.37000000",
          "21.33000000",
          "21.31000000",
          "21.29000000",
          "21.29000000",
          "21.29000000",
          "21.23000000",
          "21.26000000",
          "21.27000000",
          "21.28000000",
          "21.28000000",
          "21.28000000",
          "21.28000000",
          "21.27000000",
          "21.28000000",
          "21.30000000",
          "21.25000000",
          "21.25000000",
          "21.21000000",
          "21.16000000",
          "21.16000000",
          "21.17000000",
          "21.20000000",
          "21.19000000",
          "21.23000000",
          "21.24000000",
          "21.21000000",
          "21.24000000",
          "21.23000000",
          "21.25000000",
          "21.31000000",
          "21.31000000",
          "21.31000000",
          "21.30000000",
          "21.33000000",
          "21.32000000",
          "21.32000000",
          "21.34000000",
          "21.33000000",
          "21.34000000",
          "21.37000000",
          "21.35000000",
          "21.35000000",
          "21.37000000",
          "21.34000000",
          "21.36000000",
          "21.38000000",
          "21.33000000",
          "21.33000000",
          "21.33000000",
          "21.33000000",
          "21.32000000",
          "21.31000000",
          "21.26000000",
          "21.25000000",
          "21.25000000",
          "21.27000000",
          "21.27000000",
          "21.30000000",
          "21.31000000",
          "21.33000000",
          "21.31000000",
          "21.30000000",
          "21.30000000",
          "21.26000000",
          "21.27000000",
          "21.26000000",
          "21.25000000",
          "21.26000000",
          "21.24000000",
          "21.25000000",
          "21.25000000",
          "21.21000000",
          "21.20000000",
          "21.18000000",
          "21.17000000",
          "21.20000000",
          "21.20000000",
          "21.20000000",
          "21.18000000",
          "21.19000000",
          "21.18000000",
          "21.18000000",
          "21.16000000",
          "21.14000000",
          "21.13000000",
          "21.13000000",
          "21.13000000",
          "21.15000000",
          "21.14000000",
          "21.14000000",
          "21.12000000",
          "21.12000000",
          "21.12000000",
          "21.14000000",
          "21.10000000",
          "21.09000000",
          "21.09000000",
          "21.07000000",
          "21.06000000",
          "21.09000000",
          "21.12000000",
          "21.12000000",
          "21.12000000",
          "21.10000000",
          "21.12000000",
          "21.10000000",
          "21.13000000",
          "21.09000000",
          "21.09000000",
          "21.06000000",
          "21.03000000",
          "21.03000000",
          "21.05000000",
          "21.06000000",
          "21.04000000",
          "21.04000000",
          "21.07000000",
          "21.07000000",
          "21.07000000",
          "21.07000000",
          "21.09000000",
          "21.08000000",
          "21.11000000",
          "21.13000000",
          "21.14000000",
          "21.13000000",
          "21.13000000",
          "21.11000000",
          "21.11000000",
          "21.12000000",
          "21.09000000",
          "21.09000000",
          "21.11000000",
          "21.10000000",
          "21.10000000",
          "21.07000000",
          "21.05000000",
          "21.00000000",
          "20.85000000",
          "20.84000000",
          "20.83000000",
          "20.83000000",
          "20.80000000",
          "20.80000000",
          "20.81000000",
          "20.80000000",
          "20.81000000",
          "20.80000000",
          "20.81000000",
          "20.81000000",
          "20.83000000",
          "20.84000000",
          "20.80000000",
          "20.78000000",
          "20.77000000",
          "20.77000000",
          "20.75000000",
          "20.71000000",
          "20.72000000",
          "20.72000000",
          "20.71000000",
          "20.76000000",
          "20.73000000",
          "20.77000000",
          "20.73000000",
          "20.70000000",
          "20.78000000",
          "20.75000000",
          "20.73000000",
          "20.71000000",
          "20.70000000",
          "20.68000000",
          "20.66000000",
          "20.64000000",
          "20.66000000",
          "20.66000000",
          "20.68000000",
          "20.73000000",
          "20.74000000",
          "20.71000000",
          "20.70000000",
          "20.73000000",
          "20.69000000",
          "20.69000000",
          "20.69000000"
         ],
         "open": [
          "21.13000000",
          "21.15000000",
          "21.13000000",
          "21.17000000",
          "21.19000000",
          "21.15000000",
          "21.17000000",
          "21.20000000",
          "21.24000000",
          "21.17000000",
          "21.19000000",
          "21.16000000",
          "21.19000000",
          "21.22000000",
          "21.19000000",
          "21.19000000",
          "21.19000000",
          "21.18000000",
          "21.15000000",
          "21.12000000",
          "21.12000000",
          "21.14000000",
          "21.15000000",
          "21.15000000",
          "21.10000000",
          "21.10000000",
          "21.10000000",
          "21.11000000",
          "21.13000000",
          "21.12000000",
          "21.12000000",
          "21.12000000",
          "21.13000000",
          "21.15000000",
          "21.15000000",
          "21.12000000",
          "21.12000000",
          "21.08000000",
          "21.07000000",
          "21.08000000",
          "21.10000000",
          "21.09000000",
          "21.05000000",
          "21.05000000",
          "21.05000000",
          "21.05000000",
          "21.10000000",
          "21.13000000",
          "21.15000000",
          "21.11000000",
          "21.12000000",
          "21.12000000",
          "21.12000000",
          "21.12000000",
          "21.14000000",
          "21.15000000",
          "21.15000000",
          "21.15000000",
          "21.14000000",
          "21.10000000",
          "21.11000000",
          "21.11000000",
          "21.11000000",
          "21.11000000",
          "21.09000000",
          "21.11000000",
          "21.15000000",
          "21.13000000",
          "21.19000000",
          "21.22000000",
          "21.30000000",
          "21.26000000",
          "21.26000000",
          "21.24000000",
          "21.25000000",
          "21.25000000",
          "21.25000000",
          "21.26000000",
          "21.25000000",
          "21.25000000",
          "21.27000000",
          "21.31000000",
          "21.23000000",
          "21.29000000",
          "21.26000000",
          "21.26000000",
          "21.27000000",
          "21.26000000",
          "21.27000000",
          "21.20000000",
          "21.22000000",
          "21.19000000",
          "21.20000000",
          "21.18000000",
          "21.18000000",
          "21.16000000",
          "21.16000000",
          "21.16000000",
          "21.18000000",
          "21.15000000",
          "21.14000000",
          "21.15000000",
          "21.17000000",
          "21.19000000",
          "21.24000000",
          "21.20000000",
          "21.19000000",
          "21.20000000",
          "21.20000000",
          "21.20000000",
          "21.20000000",
          "21.22000000",
          "21.22000000",
          "21.23000000",
          "21.26000000",
          "21.27000000",
          "21.24000000",
          "21.25000000",
          "21.24000000",
          "21.28000000",
          "21.21000000",
          "21.23000000",
          "21.25000000",
          "21.23000000",
          "21.26000000",
          "21.21000000",
          "21.20000000",
          "21.20000000",
          "21.14000000",
          "21.07000000",
          "21.12000000",
          "21.02000000",
          "21.05000000",
          "20.98000000",
          "21.05000000",
          "21.01000000",
          "20.99000000",
          "21.08000000",
          "21.10000000",
          "21.06000000",
          "21.02000000",
          "21.03000000",
          "21.03000000",
          "21.10000000",
          "21.10000000",
          "21.07000000",
          "21.10000000",
          "21.12000000",
          "21.11000000",
          "21.10000000",
          "21.11000000",
          "21.11000000",
          "21.11000000",
          "21.14000000",
          "21.12000000",
          "21.12000000",
          "21.12000000",
          "21.12000000",
          "21.10000000",
          "21.11000000",
          "21.11000000",
          "21.15000000",
          "21.13000000",
          "21.15000000",
          "21.15000000",
          "21.16000000",
          "21.18000000",
          "21.19000000",
          "21.19000000",
          "21.19000000",
          "21.16000000",
          "21.14000000",
          "21.17000000",
          "21.25000000",
          "21.23000000",
          "21.27000000",
          "21.28000000",
          "21.30000000",
          "21.30000000",
          "21.30000000",
          "21.29000000",
          "21.20000000",
          "21.16000000",
          "21.19000000",
          "21.25000000",
          "21.26000000",
          "21.26000000",
          "21.23000000",
          "21.22000000",
          "21.22000000",
          "21.22000000",
          "21.20000000",
          "21.17000000",
          "21.17000000",
          "21.18000000",
          "21.16000000",
          "21.18000000",
          "21.12000000",
          "21.11000000",
          "21.11000000",
          "21.11000000",
          "21.10000000",
          "21.09000000",
          "21.09000000",
          "21.08000000",
          "21.08000000",
          "21.12000000",
          "21.07000000",
          "21.07000000",
          "21.07000000",
          "21.09000000",
          "21.09000000",
          "21.10000000",
          "21.13000000",
          "21.12000000",
          "21.11000000",
          "21.11000000",
          "21.11000000",
          "21.13000000",
          "21.13000000",
          "21.13000000",
          "21.11000000",
          "21.10000000",
          "21.10000000",
          "21.10000000",
          "21.10000000",
          "21.04000000",
          "21.08000000",
          "21.09000000",
          "21.10000000",
          "21.10000000",
          "21.10000000",
          "21.09000000",
          "21.09000000",
          "21.06000000",
          "21.06000000",
          "21.06000000",
          "21.09000000",
          "21.16000000",
          "21.19000000",
          "21.23000000",
          "21.27000000",
          "21.23000000",
          "21.17000000",
          "21.18000000",
          "21.17000000",
          "21.17000000",
          "21.12000000",
          "21.12000000",
          "21.11000000",
          "21.11000000",
          "21.11000000",
          "21.15000000",
          "21.13000000",
          "21.18000000",
          "21.12000000",
          "21.15000000",
          "21.17000000",
          "21.18000000",
          "21.15000000",
          "21.16000000",
          "21.18000000",
          "21.17000000",
          "21.18000000",
          "21.26000000",
          "21.25000000",
          "21.27000000",
          "21.26000000",
          "21.24000000",
          "21.25000000",
          "21.24000000",
          "21.27000000",
          "21.27000000",
          "21.31000000",
          "21.29000000",
          "21.28000000",
          "21.34000000",
          "21.37000000",
          "21.38000000",
          "21.42000000",
          "21.39000000",
          "21.44000000",
          "21.40000000",
          "21.40000000",
          "21.37000000",
          "21.37000000",
          "21.36000000",
          "21.37000000",
          "21.39000000",
          "21.40000000",
          "21.40000000",
          "21.41000000",
          "21.42000000",
          "21.48000000",
          "21.47000000",
          "21.47000000",
          "21.44000000",
          "21.41000000",
          "21.41000000",
          "21.42000000",
          "21.44000000",
          "21.44000000",
          "21.47000000",
          "21.45000000",
          "21.45000000",
          "21.44000000",
          "21.40000000",
          "21.40000000",
          "21.38000000",
          "21.38000000",
          "21.38000000",
          "21.37000000",
          "21.38000000",
          "21.38000000",
          "21.37000000",
          "21.36000000",
          "21.32000000",
          "21.31000000",
          "21.31000000",
          "21.31000000",
          "21.30000000",
          "21.26000000",
          "21.27000000",
          "21.28000000",
          "21.28000000",
          "21.28000000",
          "21.28000000",
          "21.27000000",
          "21.32000000",
          "21.30000000",
          "21.30000000",
          "21.26000000",
          "21.24000000",
          "21.20000000",
          "21.16000000",
          "21.18000000",
          "21.20000000",
          "21.23000000",
          "21.23000000",
          "21.24000000",
          "21.22000000",
          "21.24000000",
          "21.24000000",
          "21.25000000",
          "21.31000000",
          "21.31000000",
          "21.31000000",
          "21.32000000",
          "21.33000000",
          "21.32000000",
          "21.32000000",
          "21.35000000",
          "21.33000000",
          "21.34000000",
          "21.37000000",
          "21.35000000",
          "21.35000000",
          "21.37000000",
          "21.37000000",
          "21.36000000",
          "21.38000000",
          "21.34000000",
          "21.33000000",
          "21.34000000",
          "21.33000000",
          "21.33000000",
          "21.33000000",
          "21.30000000",
          "21.25000000",
          "21.25000000",
          "21.27000000",
          "21.27000000",
          "21.30000000",
          "21.33000000",
          "21.34000000",
          "21.33000000",
          "21.31000000",
          "21.31000000",
          "21.29000000",
          "21.27000000",
          "21.27000000",
          "21.25000000",
          "21.26000000",
          "21.27000000",
          "21.27000000",
          "21.25000000",
          "21.24000000",
          "21.22000000",
          "21.20000000",
          "21.17000000",
          "21.20000000",
          "21.20000000",
          "21.20000000",
          "21.19000000",
          "21.19000000",
          "21.18000000",
          "21.18000000",
          "21.19000000",
          "21.17000000",
          "21.14000000",
          "21.13000000",
          "21.14000000",
          "21.15000000",
          "21.15000000",
          "21.14000000",
          "21.14000000",
          "21.12000000",
          "21.13000000",
          "21.14000000",
          "21.13000000",
          "21.10000000",
          "21.10000000",
          "21.08000000",
          "21.07000000",
          "21.09000000",
          "21.12000000",
          "21.12000000",
          "21.12000000",
          "21.10000000",
          "21.12000000",
          "21.12000000",
          "21.13000000",
          "21.11000000",
          "21.09000000",
          "21.07000000",
          "21.05000000",
          "21.03000000",
          "21.05000000",
          "21.06000000",
          "21.06000000",
          "21.04000000",
          "21.08000000",
          "21.07000000",
          "21.07000000",
          "21.09000000",
          "21.09000000",
          "21.10000000",
          "21.11000000",
          "21.13000000",
          "21.14000000",
          "21.13000000",
          "21.13000000",
          "21.13000000",
          "21.11000000",
          "21.12000000",
          "21.11000000",
          "21.09000000",
          "21.11000000",
          "21.10000000",
          "21.10000000",
          "21.09000000",
          "21.07000000",
          "21.02000000",
          "20.99000000",
          "20.86000000",
          "20.85000000",
          "20.86000000",
          "20.81000000",
          "20.82000000",
          "20.81000000",
          "20.81000000",
          "20.81000000",
          "20.81000000",
          "20.81000000",
          "20.81000000",
          "20.83000000",
          "20.84000000",
          "20.83000000",
          "20.79000000",
          "20.79000000",
          "20.78000000",
          "20.76000000",
          "20.74000000",
          "20.72000000",
          "20.72000000",
          "20.71000000",
          "20.76000000",
          "20.76000000",
          "20.77000000",
          "20.73000000",
          "20.71000000",
          "20.79000000",
          "20.77000000",
          "20.75000000",
          "20.74000000",
          "20.72000000",
          "20.71000000",
          "20.69000000",
          "20.65000000",
          "20.66000000",
          "20.70000000",
          "20.68000000",
          "20.73000000",
          "20.75000000",
          "20.71000000",
          "20.71000000",
          "20.73000000",
          "20.70000000",
          "20.69000000",
          "20.69000000"
         ],
         "type": "candlestick",
         "x": [
          "2022-05-25T00:00:00",
          "2022-05-25T00:01:00",
          "2022-05-25T00:02:00",
          "2022-05-25T00:03:00",
          "2022-05-25T00:04:00",
          "2022-05-25T00:05:00",
          "2022-05-25T00:06:00",
          "2022-05-25T00:07:00",
          "2022-05-25T00:08:00",
          "2022-05-25T00:09:00",
          "2022-05-25T00:10:00",
          "2022-05-25T00:11:00",
          "2022-05-25T00:12:00",
          "2022-05-25T00:13:00",
          "2022-05-25T00:14:00",
          "2022-05-25T00:15:00",
          "2022-05-25T00:16:00",
          "2022-05-25T00:17:00",
          "2022-05-25T00:18:00",
          "2022-05-25T00:19:00",
          "2022-05-25T00:20:00",
          "2022-05-25T00:21:00",
          "2022-05-25T00:22:00",
          "2022-05-25T00:23:00",
          "2022-05-25T00:24:00",
          "2022-05-25T00:25:00",
          "2022-05-25T00:26:00",
          "2022-05-25T00:27:00",
          "2022-05-25T00:28:00",
          "2022-05-25T00:29:00",
          "2022-05-25T00:30:00",
          "2022-05-25T00:31:00",
          "2022-05-25T00:32:00",
          "2022-05-25T00:33:00",
          "2022-05-25T00:34:00",
          "2022-05-25T00:35:00",
          "2022-05-25T00:36:00",
          "2022-05-25T00:37:00",
          "2022-05-25T00:38:00",
          "2022-05-25T00:39:00",
          "2022-05-25T00:40:00",
          "2022-05-25T00:41:00",
          "2022-05-25T00:42:00",
          "2022-05-25T00:43:00",
          "2022-05-25T00:44:00",
          "2022-05-25T00:45:00",
          "2022-05-25T00:46:00",
          "2022-05-25T00:47:00",
          "2022-05-25T00:48:00",
          "2022-05-25T00:49:00",
          "2022-05-25T00:50:00",
          "2022-05-25T00:51:00",
          "2022-05-25T00:52:00",
          "2022-05-25T00:53:00",
          "2022-05-25T00:54:00",
          "2022-05-25T00:55:00",
          "2022-05-25T00:56:00",
          "2022-05-25T00:57:00",
          "2022-05-25T00:58:00",
          "2022-05-25T00:59:00",
          "2022-05-25T01:00:00",
          "2022-05-25T01:01:00",
          "2022-05-25T01:02:00",
          "2022-05-25T01:03:00",
          "2022-05-25T01:04:00",
          "2022-05-25T01:05:00",
          "2022-05-25T01:06:00",
          "2022-05-25T01:07:00",
          "2022-05-25T01:08:00",
          "2022-05-25T01:09:00",
          "2022-05-25T01:10:00",
          "2022-05-25T01:11:00",
          "2022-05-25T01:12:00",
          "2022-05-25T01:13:00",
          "2022-05-25T01:14:00",
          "2022-05-25T01:15:00",
          "2022-05-25T01:16:00",
          "2022-05-25T01:17:00",
          "2022-05-25T01:18:00",
          "2022-05-25T01:19:00",
          "2022-05-25T01:20:00",
          "2022-05-25T01:21:00",
          "2022-05-25T01:22:00",
          "2022-05-25T01:23:00",
          "2022-05-25T01:24:00",
          "2022-05-25T01:25:00",
          "2022-05-25T01:26:00",
          "2022-05-25T01:27:00",
          "2022-05-25T01:28:00",
          "2022-05-25T01:29:00",
          "2022-05-25T01:30:00",
          "2022-05-25T01:31:00",
          "2022-05-25T01:32:00",
          "2022-05-25T01:33:00",
          "2022-05-25T01:34:00",
          "2022-05-25T01:35:00",
          "2022-05-25T01:36:00",
          "2022-05-25T01:37:00",
          "2022-05-25T01:38:00",
          "2022-05-25T01:39:00",
          "2022-05-25T01:40:00",
          "2022-05-25T01:41:00",
          "2022-05-25T01:42:00",
          "2022-05-25T01:43:00",
          "2022-05-25T01:44:00",
          "2022-05-25T01:45:00",
          "2022-05-25T01:46:00",
          "2022-05-25T01:47:00",
          "2022-05-25T01:48:00",
          "2022-05-25T01:49:00",
          "2022-05-25T01:50:00",
          "2022-05-25T01:51:00",
          "2022-05-25T01:52:00",
          "2022-05-25T01:53:00",
          "2022-05-25T01:54:00",
          "2022-05-25T01:55:00",
          "2022-05-25T01:56:00",
          "2022-05-25T01:57:00",
          "2022-05-25T01:58:00",
          "2022-05-25T01:59:00",
          "2022-05-25T02:00:00",
          "2022-05-25T02:01:00",
          "2022-05-25T02:02:00",
          "2022-05-25T02:03:00",
          "2022-05-25T02:04:00",
          "2022-05-25T02:05:00",
          "2022-05-25T02:06:00",
          "2022-05-25T02:07:00",
          "2022-05-25T02:08:00",
          "2022-05-25T02:09:00",
          "2022-05-25T02:10:00",
          "2022-05-25T02:11:00",
          "2022-05-25T02:12:00",
          "2022-05-25T02:13:00",
          "2022-05-25T02:14:00",
          "2022-05-25T02:15:00",
          "2022-05-25T02:16:00",
          "2022-05-25T02:17:00",
          "2022-05-25T02:18:00",
          "2022-05-25T02:19:00",
          "2022-05-25T02:20:00",
          "2022-05-25T02:21:00",
          "2022-05-25T02:22:00",
          "2022-05-25T02:23:00",
          "2022-05-25T02:24:00",
          "2022-05-25T02:25:00",
          "2022-05-25T02:26:00",
          "2022-05-25T02:27:00",
          "2022-05-25T02:28:00",
          "2022-05-25T02:29:00",
          "2022-05-25T02:30:00",
          "2022-05-25T02:31:00",
          "2022-05-25T02:32:00",
          "2022-05-25T02:33:00",
          "2022-05-25T02:34:00",
          "2022-05-25T02:35:00",
          "2022-05-25T02:36:00",
          "2022-05-25T02:37:00",
          "2022-05-25T02:38:00",
          "2022-05-25T02:39:00",
          "2022-05-25T02:40:00",
          "2022-05-25T02:41:00",
          "2022-05-25T02:42:00",
          "2022-05-25T02:43:00",
          "2022-05-25T02:44:00",
          "2022-05-25T02:45:00",
          "2022-05-25T02:46:00",
          "2022-05-25T02:47:00",
          "2022-05-25T02:48:00",
          "2022-05-25T02:49:00",
          "2022-05-25T02:50:00",
          "2022-05-25T02:51:00",
          "2022-05-25T02:52:00",
          "2022-05-25T02:53:00",
          "2022-05-25T02:54:00",
          "2022-05-25T02:55:00",
          "2022-05-25T02:56:00",
          "2022-05-25T02:57:00",
          "2022-05-25T02:58:00",
          "2022-05-25T02:59:00",
          "2022-05-25T03:00:00",
          "2022-05-25T03:01:00",
          "2022-05-25T03:02:00",
          "2022-05-25T03:03:00",
          "2022-05-25T03:04:00",
          "2022-05-25T03:05:00",
          "2022-05-25T03:06:00",
          "2022-05-25T03:07:00",
          "2022-05-25T03:08:00",
          "2022-05-25T03:09:00",
          "2022-05-25T03:10:00",
          "2022-05-25T03:11:00",
          "2022-05-25T03:12:00",
          "2022-05-25T03:13:00",
          "2022-05-25T03:14:00",
          "2022-05-25T03:15:00",
          "2022-05-25T03:16:00",
          "2022-05-25T03:17:00",
          "2022-05-25T03:18:00",
          "2022-05-25T03:19:00",
          "2022-05-25T03:20:00",
          "2022-05-25T03:21:00",
          "2022-05-25T03:22:00",
          "2022-05-25T03:23:00",
          "2022-05-25T03:24:00",
          "2022-05-25T03:25:00",
          "2022-05-25T03:26:00",
          "2022-05-25T03:27:00",
          "2022-05-25T03:28:00",
          "2022-05-25T03:29:00",
          "2022-05-25T03:30:00",
          "2022-05-25T03:31:00",
          "2022-05-25T03:32:00",
          "2022-05-25T03:33:00",
          "2022-05-25T03:34:00",
          "2022-05-25T03:35:00",
          "2022-05-25T03:36:00",
          "2022-05-25T03:37:00",
          "2022-05-25T03:38:00",
          "2022-05-25T03:39:00",
          "2022-05-25T03:40:00",
          "2022-05-25T03:41:00",
          "2022-05-25T03:42:00",
          "2022-05-25T03:43:00",
          "2022-05-25T03:44:00",
          "2022-05-25T03:45:00",
          "2022-05-25T03:46:00",
          "2022-05-25T03:47:00",
          "2022-05-25T03:48:00",
          "2022-05-25T03:49:00",
          "2022-05-25T03:50:00",
          "2022-05-25T03:51:00",
          "2022-05-25T03:52:00",
          "2022-05-25T03:53:00",
          "2022-05-25T03:54:00",
          "2022-05-25T03:55:00",
          "2022-05-25T03:56:00",
          "2022-05-25T03:57:00",
          "2022-05-25T03:58:00",
          "2022-05-25T03:59:00",
          "2022-05-25T04:00:00",
          "2022-05-25T04:01:00",
          "2022-05-25T04:02:00",
          "2022-05-25T04:03:00",
          "2022-05-25T04:04:00",
          "2022-05-25T04:05:00",
          "2022-05-25T04:06:00",
          "2022-05-25T04:07:00",
          "2022-05-25T04:08:00",
          "2022-05-25T04:09:00",
          "2022-05-25T04:10:00",
          "2022-05-25T04:11:00",
          "2022-05-25T04:12:00",
          "2022-05-25T04:13:00",
          "2022-05-25T04:14:00",
          "2022-05-25T04:15:00",
          "2022-05-25T04:16:00",
          "2022-05-25T04:17:00",
          "2022-05-25T04:18:00",
          "2022-05-25T04:19:00",
          "2022-05-25T04:20:00",
          "2022-05-25T04:21:00",
          "2022-05-25T04:22:00",
          "2022-05-25T04:23:00",
          "2022-05-25T04:24:00",
          "2022-05-25T04:25:00",
          "2022-05-25T04:26:00",
          "2022-05-25T04:27:00",
          "2022-05-25T04:28:00",
          "2022-05-25T04:29:00",
          "2022-05-25T04:30:00",
          "2022-05-25T04:31:00",
          "2022-05-25T04:32:00",
          "2022-05-25T04:33:00",
          "2022-05-25T04:34:00",
          "2022-05-25T04:35:00",
          "2022-05-25T04:36:00",
          "2022-05-25T04:37:00",
          "2022-05-25T04:38:00",
          "2022-05-25T04:39:00",
          "2022-05-25T04:40:00",
          "2022-05-25T04:41:00",
          "2022-05-25T04:42:00",
          "2022-05-25T04:43:00",
          "2022-05-25T04:44:00",
          "2022-05-25T04:45:00",
          "2022-05-25T04:46:00",
          "2022-05-25T04:47:00",
          "2022-05-25T04:48:00",
          "2022-05-25T04:49:00",
          "2022-05-25T04:50:00",
          "2022-05-25T04:51:00",
          "2022-05-25T04:52:00",
          "2022-05-25T04:53:00",
          "2022-05-25T04:54:00",
          "2022-05-25T04:55:00",
          "2022-05-25T04:56:00",
          "2022-05-25T04:57:00",
          "2022-05-25T04:58:00",
          "2022-05-25T04:59:00",
          "2022-05-25T05:00:00",
          "2022-05-25T05:01:00",
          "2022-05-25T05:02:00",
          "2022-05-25T05:03:00",
          "2022-05-25T05:04:00",
          "2022-05-25T05:05:00",
          "2022-05-25T05:06:00",
          "2022-05-25T05:07:00",
          "2022-05-25T05:08:00",
          "2022-05-25T05:09:00",
          "2022-05-25T05:10:00",
          "2022-05-25T05:11:00",
          "2022-05-25T05:12:00",
          "2022-05-25T05:13:00",
          "2022-05-25T05:14:00",
          "2022-05-25T05:15:00",
          "2022-05-25T05:16:00",
          "2022-05-25T05:17:00",
          "2022-05-25T05:18:00",
          "2022-05-25T05:19:00",
          "2022-05-25T05:20:00",
          "2022-05-25T05:21:00",
          "2022-05-25T05:22:00",
          "2022-05-25T05:23:00",
          "2022-05-25T05:24:00",
          "2022-05-25T05:25:00",
          "2022-05-25T05:26:00",
          "2022-05-25T05:27:00",
          "2022-05-25T05:28:00",
          "2022-05-25T05:29:00",
          "2022-05-25T05:30:00",
          "2022-05-25T05:31:00",
          "2022-05-25T05:32:00",
          "2022-05-25T05:33:00",
          "2022-05-25T05:34:00",
          "2022-05-25T05:35:00",
          "2022-05-25T05:36:00",
          "2022-05-25T05:37:00",
          "2022-05-25T05:38:00",
          "2022-05-25T05:39:00",
          "2022-05-25T05:40:00",
          "2022-05-25T05:41:00",
          "2022-05-25T05:42:00",
          "2022-05-25T05:43:00",
          "2022-05-25T05:44:00",
          "2022-05-25T05:45:00",
          "2022-05-25T05:46:00",
          "2022-05-25T05:47:00",
          "2022-05-25T05:48:00",
          "2022-05-25T05:49:00",
          "2022-05-25T05:50:00",
          "2022-05-25T05:51:00",
          "2022-05-25T05:52:00",
          "2022-05-25T05:53:00",
          "2022-05-25T05:54:00",
          "2022-05-25T05:55:00",
          "2022-05-25T05:56:00",
          "2022-05-25T05:57:00",
          "2022-05-25T05:58:00",
          "2022-05-25T05:59:00",
          "2022-05-25T06:00:00",
          "2022-05-25T06:01:00",
          "2022-05-25T06:02:00",
          "2022-05-25T06:03:00",
          "2022-05-25T06:04:00",
          "2022-05-25T06:05:00",
          "2022-05-25T06:06:00",
          "2022-05-25T06:07:00",
          "2022-05-25T06:08:00",
          "2022-05-25T06:09:00",
          "2022-05-25T06:10:00",
          "2022-05-25T06:11:00",
          "2022-05-25T06:12:00",
          "2022-05-25T06:13:00",
          "2022-05-25T06:14:00",
          "2022-05-25T06:15:00",
          "2022-05-25T06:16:00",
          "2022-05-25T06:17:00",
          "2022-05-25T06:18:00",
          "2022-05-25T06:19:00",
          "2022-05-25T06:20:00",
          "2022-05-25T06:21:00",
          "2022-05-25T06:22:00",
          "2022-05-25T06:23:00",
          "2022-05-25T06:24:00",
          "2022-05-25T06:25:00",
          "2022-05-25T06:26:00",
          "2022-05-25T06:27:00",
          "2022-05-25T06:28:00",
          "2022-05-25T06:29:00",
          "2022-05-25T06:30:00",
          "2022-05-25T06:31:00",
          "2022-05-25T06:32:00",
          "2022-05-25T06:33:00",
          "2022-05-25T06:34:00",
          "2022-05-25T06:35:00",
          "2022-05-25T06:36:00",
          "2022-05-25T06:37:00",
          "2022-05-25T06:38:00",
          "2022-05-25T06:39:00",
          "2022-05-25T06:40:00",
          "2022-05-25T06:41:00",
          "2022-05-25T06:42:00",
          "2022-05-25T06:43:00",
          "2022-05-25T06:44:00",
          "2022-05-25T06:45:00",
          "2022-05-25T06:46:00",
          "2022-05-25T06:47:00",
          "2022-05-25T06:48:00",
          "2022-05-25T06:49:00",
          "2022-05-25T06:50:00",
          "2022-05-25T06:51:00",
          "2022-05-25T06:52:00",
          "2022-05-25T06:53:00",
          "2022-05-25T06:54:00",
          "2022-05-25T06:55:00",
          "2022-05-25T06:56:00",
          "2022-05-25T06:57:00",
          "2022-05-25T06:58:00",
          "2022-05-25T06:59:00",
          "2022-05-25T07:00:00",
          "2022-05-25T07:01:00",
          "2022-05-25T07:02:00",
          "2022-05-25T07:03:00",
          "2022-05-25T07:04:00",
          "2022-05-25T07:05:00",
          "2022-05-25T07:06:00",
          "2022-05-25T07:07:00",
          "2022-05-25T07:08:00",
          "2022-05-25T07:09:00",
          "2022-05-25T07:10:00",
          "2022-05-25T07:11:00",
          "2022-05-25T07:12:00",
          "2022-05-25T07:13:00",
          "2022-05-25T07:14:00",
          "2022-05-25T07:15:00",
          "2022-05-25T07:16:00",
          "2022-05-25T07:17:00",
          "2022-05-25T07:18:00",
          "2022-05-25T07:19:00",
          "2022-05-25T07:20:00",
          "2022-05-25T07:21:00",
          "2022-05-25T07:22:00",
          "2022-05-25T07:23:00",
          "2022-05-25T07:24:00",
          "2022-05-25T07:25:00",
          "2022-05-25T07:26:00",
          "2022-05-25T07:27:00",
          "2022-05-25T07:28:00",
          "2022-05-25T07:29:00",
          "2022-05-25T07:30:00",
          "2022-05-25T07:31:00",
          "2022-05-25T07:32:00",
          "2022-05-25T07:33:00",
          "2022-05-25T07:34:00",
          "2022-05-25T07:35:00",
          "2022-05-25T07:36:00",
          "2022-05-25T07:37:00",
          "2022-05-25T07:38:00",
          "2022-05-25T07:39:00",
          "2022-05-25T07:40:00",
          "2022-05-25T07:41:00",
          "2022-05-25T07:42:00",
          "2022-05-25T07:43:00",
          "2022-05-25T07:44:00",
          "2022-05-25T07:45:00",
          "2022-05-25T07:46:00",
          "2022-05-25T07:47:00",
          "2022-05-25T07:48:00",
          "2022-05-25T07:49:00",
          "2022-05-25T07:50:00",
          "2022-05-25T07:51:00",
          "2022-05-25T07:52:00",
          "2022-05-25T07:53:00",
          "2022-05-25T07:54:00",
          "2022-05-25T07:55:00",
          "2022-05-25T07:56:00",
          "2022-05-25T07:57:00",
          "2022-05-25T07:58:00",
          "2022-05-25T07:59:00",
          "2022-05-25T08:00:00",
          "2022-05-25T08:01:00",
          "2022-05-25T08:02:00",
          "2022-05-25T08:03:00",
          "2022-05-25T08:04:00",
          "2022-05-25T08:05:00",
          "2022-05-25T08:06:00",
          "2022-05-25T08:07:00",
          "2022-05-25T08:08:00",
          "2022-05-25T08:09:00",
          "2022-05-25T08:10:00",
          "2022-05-25T08:11:00",
          "2022-05-25T08:12:00",
          "2022-05-25T08:13:00",
          "2022-05-25T08:14:00",
          "2022-05-25T08:15:00",
          "2022-05-25T08:16:00",
          "2022-05-25T08:17:00",
          "2022-05-25T08:18:00",
          "2022-05-25T08:19:00"
         ]
        }
       ],
       "layout": {
        "autosize": true,
        "template": {
         "data": {
          "bar": [
           {
            "error_x": {
             "color": "#2a3f5f"
            },
            "error_y": {
             "color": "#2a3f5f"
            },
            "marker": {
             "line": {
              "color": "#E5ECF6",
              "width": 0.5
             },
             "pattern": {
              "fillmode": "overlay",
              "size": 10,
              "solidity": 0.2
             }
            },
            "type": "bar"
           }
          ],
          "barpolar": [
           {
            "marker": {
             "line": {
              "color": "#E5ECF6",
              "width": 0.5
             },
             "pattern": {
              "fillmode": "overlay",
              "size": 10,
              "solidity": 0.2
             }
            },
            "type": "barpolar"
           }
          ],
          "carpet": [
           {
            "aaxis": {
             "endlinecolor": "#2a3f5f",
             "gridcolor": "white",
             "linecolor": "white",
             "minorgridcolor": "white",
             "startlinecolor": "#2a3f5f"
            },
            "baxis": {
             "endlinecolor": "#2a3f5f",
             "gridcolor": "white",
             "linecolor": "white",
             "minorgridcolor": "white",
             "startlinecolor": "#2a3f5f"
            },
            "type": "carpet"
           }
          ],
          "choropleth": [
           {
            "colorbar": {
             "outlinewidth": 0,
             "ticks": ""
            },
            "type": "choropleth"
           }
          ],
          "contour": [
           {
            "colorbar": {
             "outlinewidth": 0,
             "ticks": ""
            },
            "colorscale": [
             [
              0,
              "#0d0887"
             ],
             [
              0.1111111111111111,
              "#46039f"
             ],
             [
              0.2222222222222222,
              "#7201a8"
             ],
             [
              0.3333333333333333,
              "#9c179e"
             ],
             [
              0.4444444444444444,
              "#bd3786"
             ],
             [
              0.5555555555555556,
              "#d8576b"
             ],
             [
              0.6666666666666666,
              "#ed7953"
             ],
             [
              0.7777777777777778,
              "#fb9f3a"
             ],
             [
              0.8888888888888888,
              "#fdca26"
             ],
             [
              1,
              "#f0f921"
             ]
            ],
            "type": "contour"
           }
          ],
          "contourcarpet": [
           {
            "colorbar": {
             "outlinewidth": 0,
             "ticks": ""
            },
            "type": "contourcarpet"
           }
          ],
          "heatmap": [
           {
            "colorbar": {
             "outlinewidth": 0,
             "ticks": ""
            },
            "colorscale": [
             [
              0,
              "#0d0887"
             ],
             [
              0.1111111111111111,
              "#46039f"
             ],
             [
              0.2222222222222222,
              "#7201a8"
             ],
             [
              0.3333333333333333,
              "#9c179e"
             ],
             [
              0.4444444444444444,
              "#bd3786"
             ],
             [
              0.5555555555555556,
              "#d8576b"
             ],
             [
              0.6666666666666666,
              "#ed7953"
             ],
             [
              0.7777777777777778,
              "#fb9f3a"
             ],
             [
              0.8888888888888888,
              "#fdca26"
             ],
             [
              1,
              "#f0f921"
             ]
            ],
            "type": "heatmap"
           }
          ],
          "heatmapgl": [
           {
            "colorbar": {
             "outlinewidth": 0,
             "ticks": ""
            },
            "colorscale": [
             [
              0,
              "#0d0887"
             ],
             [
              0.1111111111111111,
              "#46039f"
             ],
             [
              0.2222222222222222,
              "#7201a8"
             ],
             [
              0.3333333333333333,
              "#9c179e"
             ],
             [
              0.4444444444444444,
              "#bd3786"
             ],
             [
              0.5555555555555556,
              "#d8576b"
             ],
             [
              0.6666666666666666,
              "#ed7953"
             ],
             [
              0.7777777777777778,
              "#fb9f3a"
             ],
             [
              0.8888888888888888,
              "#fdca26"
             ],
             [
              1,
              "#f0f921"
             ]
            ],
            "type": "heatmapgl"
           }
          ],
          "histogram": [
           {
            "marker": {
             "pattern": {
              "fillmode": "overlay",
              "size": 10,
              "solidity": 0.2
             }
            },
            "type": "histogram"
           }
          ],
          "histogram2d": [
           {
            "colorbar": {
             "outlinewidth": 0,
             "ticks": ""
            },
            "colorscale": [
             [
              0,
              "#0d0887"
             ],
             [
              0.1111111111111111,
              "#46039f"
             ],
             [
              0.2222222222222222,
              "#7201a8"
             ],
             [
              0.3333333333333333,
              "#9c179e"
             ],
             [
              0.4444444444444444,
              "#bd3786"
             ],
             [
              0.5555555555555556,
              "#d8576b"
             ],
             [
              0.6666666666666666,
              "#ed7953"
             ],
             [
              0.7777777777777778,
              "#fb9f3a"
             ],
             [
              0.8888888888888888,
              "#fdca26"
             ],
             [
              1,
              "#f0f921"
             ]
            ],
            "type": "histogram2d"
           }
          ],
          "histogram2dcontour": [
           {
            "colorbar": {
             "outlinewidth": 0,
             "ticks": ""
            },
            "colorscale": [
             [
              0,
              "#0d0887"
             ],
             [
              0.1111111111111111,
              "#46039f"
             ],
             [
              0.2222222222222222,
              "#7201a8"
             ],
             [
              0.3333333333333333,
              "#9c179e"
             ],
             [
              0.4444444444444444,
              "#bd3786"
             ],
             [
              0.5555555555555556,
              "#d8576b"
             ],
             [
              0.6666666666666666,
              "#ed7953"
             ],
             [
              0.7777777777777778,
              "#fb9f3a"
             ],
             [
              0.8888888888888888,
              "#fdca26"
             ],
             [
              1,
              "#f0f921"
             ]
            ],
            "type": "histogram2dcontour"
           }
          ],
          "mesh3d": [
           {
            "colorbar": {
             "outlinewidth": 0,
             "ticks": ""
            },
            "type": "mesh3d"
           }
          ],
          "parcoords": [
           {
            "line": {
             "colorbar": {
              "outlinewidth": 0,
              "ticks": ""
             }
            },
            "type": "parcoords"
           }
          ],
          "pie": [
           {
            "automargin": true,
            "type": "pie"
           }
          ],
          "scatter": [
           {
            "marker": {
             "colorbar": {
              "outlinewidth": 0,
              "ticks": ""
             }
            },
            "type": "scatter"
           }
          ],
          "scatter3d": [
           {
            "line": {
             "colorbar": {
              "outlinewidth": 0,
              "ticks": ""
             }
            },
            "marker": {
             "colorbar": {
              "outlinewidth": 0,
              "ticks": ""
             }
            },
            "type": "scatter3d"
           }
          ],
          "scattercarpet": [
           {
            "marker": {
             "colorbar": {
              "outlinewidth": 0,
              "ticks": ""
             }
            },
            "type": "scattercarpet"
           }
          ],
          "scattergeo": [
           {
            "marker": {
             "colorbar": {
              "outlinewidth": 0,
              "ticks": ""
             }
            },
            "type": "scattergeo"
           }
          ],
          "scattergl": [
           {
            "marker": {
             "colorbar": {
              "outlinewidth": 0,
              "ticks": ""
             }
            },
            "type": "scattergl"
           }
          ],
          "scattermapbox": [
           {
            "marker": {
             "colorbar": {
              "outlinewidth": 0,
              "ticks": ""
             }
            },
            "type": "scattermapbox"
           }
          ],
          "scatterpolar": [
           {
            "marker": {
             "colorbar": {
              "outlinewidth": 0,
              "ticks": ""
             }
            },
            "type": "scatterpolar"
           }
          ],
          "scatterpolargl": [
           {
            "marker": {
             "colorbar": {
              "outlinewidth": 0,
              "ticks": ""
             }
            },
            "type": "scatterpolargl"
           }
          ],
          "scatterternary": [
           {
            "marker": {
             "colorbar": {
              "outlinewidth": 0,
              "ticks": ""
             }
            },
            "type": "scatterternary"
           }
          ],
          "surface": [
           {
            "colorbar": {
             "outlinewidth": 0,
             "ticks": ""
            },
            "colorscale": [
             [
              0,
              "#0d0887"
             ],
             [
              0.1111111111111111,
              "#46039f"
             ],
             [
              0.2222222222222222,
              "#7201a8"
             ],
             [
              0.3333333333333333,
              "#9c179e"
             ],
             [
              0.4444444444444444,
              "#bd3786"
             ],
             [
              0.5555555555555556,
              "#d8576b"
             ],
             [
              0.6666666666666666,
              "#ed7953"
             ],
             [
              0.7777777777777778,
              "#fb9f3a"
             ],
             [
              0.8888888888888888,
              "#fdca26"
             ],
             [
              1,
              "#f0f921"
             ]
            ],
            "type": "surface"
           }
          ],
          "table": [
           {
            "cells": {
             "fill": {
              "color": "#EBF0F8"
             },
             "line": {
              "color": "white"
             }
            },
            "header": {
             "fill": {
              "color": "#C8D4E3"
             },
             "line": {
              "color": "white"
             }
            },
            "type": "table"
           }
          ]
         },
         "layout": {
          "annotationdefaults": {
           "arrowcolor": "#2a3f5f",
           "arrowhead": 0,
           "arrowwidth": 1
          },
          "autotypenumbers": "strict",
          "coloraxis": {
           "colorbar": {
            "outlinewidth": 0,
            "ticks": ""
           }
          },
          "colorscale": {
           "diverging": [
            [
             0,
             "#8e0152"
            ],
            [
             0.1,
             "#c51b7d"
            ],
            [
             0.2,
             "#de77ae"
            ],
            [
             0.3,
             "#f1b6da"
            ],
            [
             0.4,
             "#fde0ef"
            ],
            [
             0.5,
             "#f7f7f7"
            ],
            [
             0.6,
             "#e6f5d0"
            ],
            [
             0.7,
             "#b8e186"
            ],
            [
             0.8,
             "#7fbc41"
            ],
            [
             0.9,
             "#4d9221"
            ],
            [
             1,
             "#276419"
            ]
           ],
           "sequential": [
            [
             0,
             "#0d0887"
            ],
            [
             0.1111111111111111,
             "#46039f"
            ],
            [
             0.2222222222222222,
             "#7201a8"
            ],
            [
             0.3333333333333333,
             "#9c179e"
            ],
            [
             0.4444444444444444,
             "#bd3786"
            ],
            [
             0.5555555555555556,
             "#d8576b"
            ],
            [
             0.6666666666666666,
             "#ed7953"
            ],
            [
             0.7777777777777778,
             "#fb9f3a"
            ],
            [
             0.8888888888888888,
             "#fdca26"
            ],
            [
             1,
             "#f0f921"
            ]
           ],
           "sequentialminus": [
            [
             0,
             "#0d0887"
            ],
            [
             0.1111111111111111,
             "#46039f"
            ],
            [
             0.2222222222222222,
             "#7201a8"
            ],
            [
             0.3333333333333333,
             "#9c179e"
            ],
            [
             0.4444444444444444,
             "#bd3786"
            ],
            [
             0.5555555555555556,
             "#d8576b"
            ],
            [
             0.6666666666666666,
             "#ed7953"
            ],
            [
             0.7777777777777778,
             "#fb9f3a"
            ],
            [
             0.8888888888888888,
             "#fdca26"
            ],
            [
             1,
             "#f0f921"
            ]
           ]
          },
          "colorway": [
           "#636efa",
           "#EF553B",
           "#00cc96",
           "#ab63fa",
           "#FFA15A",
           "#19d3f3",
           "#FF6692",
           "#B6E880",
           "#FF97FF",
           "#FECB52"
          ],
          "font": {
           "color": "#2a3f5f"
          },
          "geo": {
           "bgcolor": "white",
           "lakecolor": "white",
           "landcolor": "#E5ECF6",
           "showlakes": true,
           "showland": true,
           "subunitcolor": "white"
          },
          "hoverlabel": {
           "align": "left"
          },
          "hovermode": "closest",
          "mapbox": {
           "style": "light"
          },
          "paper_bgcolor": "white",
          "plot_bgcolor": "#E5ECF6",
          "polar": {
           "angularaxis": {
            "gridcolor": "white",
            "linecolor": "white",
            "ticks": ""
           },
           "bgcolor": "#E5ECF6",
           "radialaxis": {
            "gridcolor": "white",
            "linecolor": "white",
            "ticks": ""
           }
          },
          "scene": {
           "xaxis": {
            "backgroundcolor": "#E5ECF6",
            "gridcolor": "white",
            "gridwidth": 2,
            "linecolor": "white",
            "showbackground": true,
            "ticks": "",
            "zerolinecolor": "white"
           },
           "yaxis": {
            "backgroundcolor": "#E5ECF6",
            "gridcolor": "white",
            "gridwidth": 2,
            "linecolor": "white",
            "showbackground": true,
            "ticks": "",
            "zerolinecolor": "white"
           },
           "zaxis": {
            "backgroundcolor": "#E5ECF6",
            "gridcolor": "white",
            "gridwidth": 2,
            "linecolor": "white",
            "showbackground": true,
            "ticks": "",
            "zerolinecolor": "white"
           }
          },
          "shapedefaults": {
           "line": {
            "color": "#2a3f5f"
           }
          },
          "ternary": {
           "aaxis": {
            "gridcolor": "white",
            "linecolor": "white",
            "ticks": ""
           },
           "baxis": {
            "gridcolor": "white",
            "linecolor": "white",
            "ticks": ""
           },
           "bgcolor": "#E5ECF6",
           "caxis": {
            "gridcolor": "white",
            "linecolor": "white",
            "ticks": ""
           }
          },
          "title": {
           "x": 0.05
          },
          "xaxis": {
           "automargin": true,
           "gridcolor": "white",
           "linecolor": "white",
           "ticks": "",
           "title": {
            "standoff": 15
           },
           "zerolinecolor": "white",
           "zerolinewidth": 2
          },
          "yaxis": {
           "automargin": true,
           "gridcolor": "white",
           "linecolor": "white",
           "ticks": "",
           "title": {
            "standoff": 15
           },
           "zerolinecolor": "white",
           "zerolinewidth": 2
          }
         }
        },
        "xaxis": {
         "autorange": true,
         "range": [
          "2022-05-24 23:59:30",
          "2022-05-25 08:19:30"
         ],
         "rangeslider": {
          "autorange": true,
          "range": [
           "2022-05-24 23:59:30",
           "2022-05-25 08:19:30"
          ],
          "yaxis": {
           "_template": null,
           "rangemode": "match"
          }
         },
         "type": "date"
        },
        "yaxis": {
         "autorange": true,
         "range": [
          20.59277777777778,
          21.53722222222222
         ]
        }
       }
      },
      "image/png": "[encoded data removed]"
     },
     "metadata": {},
     "output_type": "display_data"
    }
   ],
   "source": [
    "import plotly.graph_objects as go\n",
    "\n",
    "def ms_to_time(ms):\n",
    "    return datetime.fromtimestamp(int(ms/1000))\n",
    "\n",
    "df_kline['Open_time'] = df_kline['Open_time'].apply(ms_to_time)\n",
    "\n",
    "\n",
    "fig = go.Figure(data=[go.Candlestick(x=df_kline['Open_time'],\n",
    "                open=df_kline['Open'],\n",
    "                high=df_kline['High'],\n",
    "                low =df_kline['Low'],\n",
    "                close=df_kline['Close'])])\n",
    "\n",
    "fig.show()"
   ]
  }
 ],
 "metadata": {
  "interpreter": {
   "hash": "25f08c7b3fae6a7f4c1c6807d0bfb3a94540b6919ec42402396b397047eb57cb"
  },
  "kernelspec": {
   "display_name": "Python 3 (ipykernel)",
   "language": "python",
   "name": "python3"
  },
  "language_info": {
   "codemirror_mode": {
    "name": "ipython",
    "version": 3
   },
   "file_extension": ".py",
   "mimetype": "text/x-python",
   "name": "python",
   "nbconvert_exporter": "python",
   "pygments_lexer": "ipython3",
   "version": "3.9.9"
  }
 },
 "nbformat": 4,
 "nbformat_minor": 5
}
