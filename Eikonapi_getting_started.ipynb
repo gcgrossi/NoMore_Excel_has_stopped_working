{
 "cells": [
  {
   "cell_type": "markdown",
   "id": "dc61dd62",
   "metadata": {},
   "source": [
    "# The Eikon API\n",
    "\n",
    "# Getting Started with Python Eikon\n",
    "\n",
    "## Introduction\n",
    "\n",
    "The first logical step of each application is always direclty linked to the question: 'Where do I get my data?'. \n",
    "Financial Data is very etherogenous and comes from different sources, may it be a financial statement of a company or the price of a particular security. It also has different formats, from csv files to live streams of data.\n",
    "\n",
    "Taking in consideration every source of data is prohibitive for a guide. I will therefore focus on some key methodologies and a couple of different data providers and I hope I will cover a good range of situations, so that everybody can apply and adapt these concepts to the particular case at hand without big traumas.\n",
    "\n",
    "The two most famous data providers on the market are Reuters and Bloomberg. I will not comment on their characteristics and which one has better quality service or better price. I imagine that each institution makes the decision based on different aspects: from a purely budgetal point of view to availabiliy of certain data figures or to the frequency of requests. Is up to you to decide which provider better fits your need and act accordingly.\n",
    "\n",
    "I mainly use Eikon terminal, that is the application for Reuters data streaming. I also use Bloomberg for certain type of data we need, but less often. This is the reason why I will start speaking about Eikon terminal, its integration in Excel and how to retrieve the same data using Python. \n",
    "\n",
    "## Two types of data\n",
    "\n",
    "Before jumping on the subject it is maybe useful to make a distinction between the main two types of data you can retrieve from these providers:\n",
    "\n",
    "1. **Live data:** this type of data always refers to the latest data available for a particular instrument. There is a timestamp attached to the quote. It is used mainly for live monitoring of the financial market and live/algo trading. \n",
    "2. **Historical data:** this type of data refers to all the records for a certain interval of time. There are different frequencies of sampling available, i.e. daily, hourly, 10 minutes etc. It is used mainly for backtesting, model training and the calculation of metrics/indicators.\n",
    "\n",
    "## The Eikon Excel interface\n",
    "\n",
    "Connection with Eikon in Excel is made via a dynamic (.dll) library that is installed on the system togeteher with the desktop application. The integration is therefore very easy and the functionalities for Excel come shipped with the whole package. Very handy!\n",
    "\n",
    "Once Excel is opened, the add-in buttons are accessible via the ribbon.\n",
    "\n",
    "<img src=\"images/Eikon_Ribbon.png\">\n",
    "    \n",
    "I'm not going to explain the functionalities of all the buttons but there are a couple of takeways and features to underline:\n",
    "\n",
    "1. Connection is made under the hood via the Connect button.\n",
    "2. There is a button to start/stop the data stream.\n",
    "3. There is a button to refresh all the formulas.\n",
    "\n",
    "Historical data can be obtained by using a service called 'Datastream'. There is another panel on the Ribbon to access it.\n",
    "\n",
    "<img src=\"images/Datastream_Ribbon.png\">\n",
    "\n",
    "Also in this case there are different buttons. The buttons on the left will open a GUI with different features. Some takeways:\n",
    "\n",
    "1. You can browse the GUI to find what you're looking for\n",
    "2. You can build the requests via the interface.\n",
    "3. You can manage your requests, change the symbols and time frame of the data you are pulling.\n",
    "\n",
    "Once the request is constructed, Datastream will dump the time-series in a spreadsheet using a custom formula with codes.\n",
    "\n",
    "If you know the codes and the formulas, you can directly type them in a blank cell and the result will be the same. Live data work in the same way: There is a code for every financial instrument called 'RIC', and the Live data can be accessed by typing a custom formula.\n",
    "\n",
    "Here is an example of Excel Formula for Live data:\n",
    "\n",
    "<img src=\"images/RtGet.png\" width=\"50%\">\n",
    "\n",
    "while here is an example of Datstream formula:\n",
    "\n",
    "<img src=\"images/DS_Formula.png\">\n",
    "\n",
    "These features help in building a nice framework to work with Excel. In fact, a lot of Excel applications in Finance are constructed on top of Eikon. There are some drawbacks in my opinion by the way:\n",
    "1. both of the interfaces (for live and historical data) are counter-intuitive and hard to navigate. \n",
    "2. Formula for the datastream request are somewhat cryptic and hard to construct.\n",
    "3. The instrument codes for live data and Datastream are different! 😡\n",
    "\n",
    "Let's see how can we retreive the same information using Python, istead of the Excel add-in. \n",
    "\n",
    "## Setting up ann App key\n",
    "\n",
    "There is code you can tap in the Eikon bar search bar: 'APPKEY'\n",
    "\n",
    "<img src=\"images/appkey.png\" width=\"50%\">\n",
    "\n",
    "And register a new app with a custom name\n",
    "\n",
    "<img src=\"images/register_app.png\" width=\"100%\">\n",
    "\n",
    "you will be given a long string of numbers and alphas that you will need after, in order to connect from Python. As you can see I have already done that for a my development projects.\n",
    "\n",
    "## Install the python library\n",
    "\n",
    "Another easy step to accomplish. From a terminal run the command:\n",
    "```\n",
    "pip install eikon\n",
    "```\n",
    "The python package is now ready to use. We can move on the fun part! &#127881; &#127881; &#127881;"
   ]
  },
  {
   "cell_type": "markdown",
   "id": "0c276122",
   "metadata": {},
   "source": [
    "# Retrieve Live Data for a specific Instrument\n",
    "\n",
    "It's now time to get the actual data from the API. We start by trying to obtain the last price for the most famous of the market indexes, The S&P500. First we need to import the eikon api and pass the string we generated in the previous section using the method ```set_app_key```. "
   ]
  },
  {
   "cell_type": "code",
   "execution_count": 2,
   "id": "4f8cb078-22cd-41fb-ba61-66c82f8ee32e",
   "metadata": {},
   "outputs": [],
   "source": [
    "import eikon\n",
    "eikon.set_app_key('your api key here')"
   ]
  },
  {
   "cell_type": "markdown",
   "id": "6314fc8e",
   "metadata": {},
   "source": [
    "Secondly, we obtain the last price using the method ```get_data```. The method accepts two inputs:\n",
    "\n",
    "1. a list of strings with the codes of the instruments we need to retrieve (S&P500,APPL etc.).\n",
    "2. the names of the fields we need (i.e. last, bid, ask etc.).\n",
    "\n",
    "it returns a 2-tuplewith a pandas DataFrame and an error message (if any). "
   ]
  },
  {
   "cell_type": "code",
   "execution_count": 37,
   "id": "5731f859-932a-4aa9-85f7-6ef5b3ab5cde",
   "metadata": {},
   "outputs": [
    {
     "name": "stdout",
     "output_type": "stream",
     "text": [
      "No errors have been produced\n"
     ]
    }
   ],
   "source": [
    "df,e = eikon.get_data(['.SPX','AAPL.O'],['CF_LAST','CF_BID'])\n",
    "msg = f'the following error has been produced {e}' if e else 'No errors have been produced' \n",
    "print(msg)"
   ]
  },
  {
   "cell_type": "markdown",
   "id": "d70812ce",
   "metadata": {},
   "source": [
    "We print the error is any, otherwise we can have a look at the DataFrame."
   ]
  },
  {
   "cell_type": "code",
   "execution_count": 38,
   "id": "c128fe51-00be-4fb3-a5d0-770a1a2aceed",
   "metadata": {},
   "outputs": [
    {
     "data": {
      "text/html": [
       "<div>\n",
       "<style scoped>\n",
       "    .dataframe tbody tr th:only-of-type {\n",
       "        vertical-align: middle;\n",
       "    }\n",
       "\n",
       "    .dataframe tbody tr th {\n",
       "        vertical-align: top;\n",
       "    }\n",
       "\n",
       "    .dataframe thead th {\n",
       "        text-align: right;\n",
       "    }\n",
       "</style>\n",
       "<table border=\"1\" class=\"dataframe\">\n",
       "  <thead>\n",
       "    <tr style=\"text-align: right;\">\n",
       "      <th></th>\n",
       "      <th>Instrument</th>\n",
       "      <th>CF_LAST</th>\n",
       "      <th>CF_BID</th>\n",
       "    </tr>\n",
       "  </thead>\n",
       "  <tbody>\n",
       "    <tr>\n",
       "      <th>0</th>\n",
       "      <td>.SPX</td>\n",
       "      <td>4326.51</td>\n",
       "      <td>4285.59</td>\n",
       "    </tr>\n",
       "    <tr>\n",
       "      <th>1</th>\n",
       "      <td>AAPL.O</td>\n",
       "      <td>159.22</td>\n",
       "      <td>166.3</td>\n",
       "    </tr>\n",
       "  </tbody>\n",
       "</table>\n",
       "</div>"
      ],
      "text/plain": [
       "  Instrument  CF_LAST   CF_BID\n",
       "0       .SPX  4326.51  4285.59\n",
       "1     AAPL.O   159.22    166.3"
      ]
     },
     "execution_count": 38,
     "metadata": {},
     "output_type": "execute_result"
    }
   ],
   "source": [
    "df"
   ]
  },
  {
   "cell_type": "markdown",
   "id": "6c870165",
   "metadata": {},
   "source": [
    "Fantastic! &#128170;\n",
    "This is a very first step to reach your Python idependence! Setting up your environment and getting your data is already a very big step forward. I am tempted to make a quote here:\n",
    "\n",
    "> A small step for a developer, a big step for humanity.\n",
    "\n",
    "Every step we take we get closer to free our selves from the agony of Eikon Excel Add-In randomly disappearing from the toolbar, crashing or taking minutes to load.\n",
    "\n",
    "Next Episode we will see how to recerive a stream of data using the same principle and a new method of the Python Eikon API. See you next time."
   ]
  }
 ],
 "metadata": {
  "interpreter": {
   "hash": "d15395c3e962ed0203972a63e72173043ace380089a39426d8120dc144349487"
  },
  "kernelspec": {
   "display_name": "Python 3 (ipykernel)",
   "language": "python",
   "name": "python3"
  },
  "language_info": {
   "codemirror_mode": {
    "name": "ipython",
    "version": 3
   },
   "file_extension": ".py",
   "mimetype": "text/x-python",
   "name": "python",
   "nbconvert_exporter": "python",
   "pygments_lexer": "ipython3",
   "version": "3.9.9"
  }
 },
 "nbformat": 4,
 "nbformat_minor": 5
}
